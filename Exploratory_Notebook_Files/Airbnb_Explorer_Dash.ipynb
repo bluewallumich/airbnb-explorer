{
 "cells": [
  {
   "cell_type": "code",
   "execution_count": 1,
   "id": "5a3750d7",
   "metadata": {},
   "outputs": [],
   "source": [
    "import os\n",
    "import datetime as dt\n",
    "\n",
    "import pandas as pd\n",
    "import numpy as np\n",
    "\n",
    "import re\n",
    "\n",
    "import random\n",
    "\n",
    "import warnings\n",
    "warnings.filterwarnings('ignore')\n"
   ]
  },
  {
   "cell_type": "code",
   "execution_count": 17,
   "id": "abd5c9e2",
   "metadata": {},
   "outputs": [],
   "source": [
    "import matplotlib.pyplot as plt\n",
    "import seaborn as sns\n",
    "from jupyter_dash import JupyterDash\n",
    "from dash import html, dcc\n",
    "from dash.dependencies import Output, Input\n",
    "import dash_bootstrap_components as dbc\n",
    "from dash.exceptions import PreventUpdate\n",
    "\n",
    "import plotly.express as px\n",
    "# import plotly.graph_objs as go\n",
    "import plotly.graph_objects as go\n",
    "from plotly.graph_objs.scatter import Line\n",
    "from plotly.subplots import make_subplots\n",
    "import plotly.figure_factory as ff\n",
    "sns.set()"
   ]
  },
  {
   "cell_type": "code",
   "execution_count": 19,
   "id": "21129889",
   "metadata": {},
   "outputs": [
    {
     "data": {
      "application/javascript": [
       "IPython.notebook.set_autosave_interval(60000)"
      ]
     },
     "metadata": {},
     "output_type": "display_data"
    },
    {
     "name": "stdout",
     "output_type": "stream",
     "text": [
      "Autosaving every 60 seconds\n"
     ]
    }
   ],
   "source": [
    "{\n",
    "    \"tags\": [\n",
    "        \"hide-output\"\n",
    "    ]\n",
    "}\n",
    "%autosave 60\n",
    "%run Amenities.ipynb"
   ]
  },
  {
   "cell_type": "code",
   "execution_count": 20,
   "id": "927b2ad9",
   "metadata": {},
   "outputs": [],
   "source": [
    "df1 = pd.read_csv('../Data_Files/listings_202203.csv')\n",
    "df1['Quarter']=1\n",
    "df2 = pd.read_csv('../Data_Files/listings _202206.csv')\n",
    "df2['Quarter']=2\n",
    "df3 = pd.read_csv('../Data_Files/listings _202109.csv')\n",
    "df3['Quarter']=3\n",
    "df4 = pd.read_csv('../Data_Files/listings_202112.csv')\n",
    "df4['Quarter']=4\n",
    "nyc_data=pd.concat([df1, df2, df3, df4])"
   ]
  },
  {
   "cell_type": "code",
   "execution_count": 7,
   "id": "e3f7ca8a",
   "metadata": {},
   "outputs": [
    {
     "data": {
      "text/html": [
       "<div>\n",
       "<style scoped>\n",
       "    .dataframe tbody tr th:only-of-type {\n",
       "        vertical-align: middle;\n",
       "    }\n",
       "\n",
       "    .dataframe tbody tr th {\n",
       "        vertical-align: top;\n",
       "    }\n",
       "\n",
       "    .dataframe thead th {\n",
       "        text-align: right;\n",
       "    }\n",
       "</style>\n",
       "<table border=\"1\" class=\"dataframe\">\n",
       "  <thead>\n",
       "    <tr style=\"text-align: right;\">\n",
       "      <th></th>\n",
       "      <th>id</th>\n",
       "      <th>name</th>\n",
       "      <th>host_id</th>\n",
       "      <th>host_name</th>\n",
       "      <th>neighbourhood_group</th>\n",
       "      <th>neighbourhood</th>\n",
       "      <th>latitude</th>\n",
       "      <th>longitude</th>\n",
       "      <th>room_type</th>\n",
       "      <th>price</th>\n",
       "      <th>minimum_nights</th>\n",
       "      <th>number_of_reviews</th>\n",
       "      <th>last_review</th>\n",
       "      <th>reviews_per_month</th>\n",
       "      <th>calculated_host_listings_count</th>\n",
       "      <th>availability_365</th>\n",
       "      <th>number_of_reviews_ltm</th>\n",
       "      <th>license</th>\n",
       "    </tr>\n",
       "  </thead>\n",
       "  <tbody>\n",
       "    <tr>\n",
       "      <th>0</th>\n",
       "      <td>2595</td>\n",
       "      <td>Skylit Midtown Castle</td>\n",
       "      <td>2845</td>\n",
       "      <td>Jennifer</td>\n",
       "      <td>Manhattan</td>\n",
       "      <td>Midtown</td>\n",
       "      <td>40.75356</td>\n",
       "      <td>-73.98559</td>\n",
       "      <td>Entire home/apt</td>\n",
       "      <td>225</td>\n",
       "      <td>30</td>\n",
       "      <td>48</td>\n",
       "      <td>2019-11-04</td>\n",
       "      <td>0.31</td>\n",
       "      <td>3</td>\n",
       "      <td>308</td>\n",
       "      <td>0</td>\n",
       "      <td>NaN</td>\n",
       "    </tr>\n",
       "    <tr>\n",
       "      <th>1</th>\n",
       "      <td>5121</td>\n",
       "      <td>BlissArtsSpace!</td>\n",
       "      <td>7356</td>\n",
       "      <td>Garon</td>\n",
       "      <td>Brooklyn</td>\n",
       "      <td>Bedford-Stuyvesant</td>\n",
       "      <td>40.68535</td>\n",
       "      <td>-73.95512</td>\n",
       "      <td>Private room</td>\n",
       "      <td>60</td>\n",
       "      <td>30</td>\n",
       "      <td>50</td>\n",
       "      <td>2019-12-02</td>\n",
       "      <td>0.32</td>\n",
       "      <td>2</td>\n",
       "      <td>365</td>\n",
       "      <td>0</td>\n",
       "      <td>NaN</td>\n",
       "    </tr>\n",
       "    <tr>\n",
       "      <th>2</th>\n",
       "      <td>5136</td>\n",
       "      <td>Spacious Brooklyn Duplex, Patio + Garden</td>\n",
       "      <td>7378</td>\n",
       "      <td>Rebecca</td>\n",
       "      <td>Brooklyn</td>\n",
       "      <td>Sunset Park</td>\n",
       "      <td>40.66265</td>\n",
       "      <td>-73.99454</td>\n",
       "      <td>Entire home/apt</td>\n",
       "      <td>275</td>\n",
       "      <td>21</td>\n",
       "      <td>2</td>\n",
       "      <td>2021-08-08</td>\n",
       "      <td>0.02</td>\n",
       "      <td>1</td>\n",
       "      <td>250</td>\n",
       "      <td>1</td>\n",
       "      <td>NaN</td>\n",
       "    </tr>\n",
       "    <tr>\n",
       "      <th>3</th>\n",
       "      <td>5178</td>\n",
       "      <td>Large Furnished Room Near B'way</td>\n",
       "      <td>8967</td>\n",
       "      <td>Shunichi</td>\n",
       "      <td>Manhattan</td>\n",
       "      <td>Midtown</td>\n",
       "      <td>40.76457</td>\n",
       "      <td>-73.98317</td>\n",
       "      <td>Private room</td>\n",
       "      <td>68</td>\n",
       "      <td>2</td>\n",
       "      <td>536</td>\n",
       "      <td>2022-05-09</td>\n",
       "      <td>3.37</td>\n",
       "      <td>1</td>\n",
       "      <td>172</td>\n",
       "      <td>62</td>\n",
       "      <td>NaN</td>\n",
       "    </tr>\n",
       "    <tr>\n",
       "      <th>4</th>\n",
       "      <td>5203</td>\n",
       "      <td>Cozy Clean Guest Room - Family Apt</td>\n",
       "      <td>7490</td>\n",
       "      <td>MaryEllen</td>\n",
       "      <td>Manhattan</td>\n",
       "      <td>Upper West Side</td>\n",
       "      <td>40.80380</td>\n",
       "      <td>-73.96751</td>\n",
       "      <td>Private room</td>\n",
       "      <td>75</td>\n",
       "      <td>2</td>\n",
       "      <td>118</td>\n",
       "      <td>2017-07-21</td>\n",
       "      <td>0.76</td>\n",
       "      <td>1</td>\n",
       "      <td>0</td>\n",
       "      <td>0</td>\n",
       "      <td>NaN</td>\n",
       "    </tr>\n",
       "  </tbody>\n",
       "</table>\n",
       "</div>"
      ],
      "text/plain": [
       "     id                                      name  host_id  host_name  \\\n",
       "0  2595                     Skylit Midtown Castle     2845   Jennifer   \n",
       "1  5121                           BlissArtsSpace!     7356      Garon   \n",
       "2  5136  Spacious Brooklyn Duplex, Patio + Garden     7378    Rebecca   \n",
       "3  5178          Large Furnished Room Near B'way　     8967   Shunichi   \n",
       "4  5203        Cozy Clean Guest Room - Family Apt     7490  MaryEllen   \n",
       "\n",
       "  neighbourhood_group       neighbourhood  latitude  longitude  \\\n",
       "0           Manhattan             Midtown  40.75356  -73.98559   \n",
       "1            Brooklyn  Bedford-Stuyvesant  40.68535  -73.95512   \n",
       "2            Brooklyn         Sunset Park  40.66265  -73.99454   \n",
       "3           Manhattan             Midtown  40.76457  -73.98317   \n",
       "4           Manhattan     Upper West Side  40.80380  -73.96751   \n",
       "\n",
       "         room_type  price  minimum_nights  number_of_reviews last_review  \\\n",
       "0  Entire home/apt    225              30                 48  2019-11-04   \n",
       "1     Private room     60              30                 50  2019-12-02   \n",
       "2  Entire home/apt    275              21                  2  2021-08-08   \n",
       "3     Private room     68               2                536  2022-05-09   \n",
       "4     Private room     75               2                118  2017-07-21   \n",
       "\n",
       "   reviews_per_month  calculated_host_listings_count  availability_365  \\\n",
       "0               0.31                               3               308   \n",
       "1               0.32                               2               365   \n",
       "2               0.02                               1               250   \n",
       "3               3.37                               1               172   \n",
       "4               0.76                               1                 0   \n",
       "\n",
       "   number_of_reviews_ltm license  \n",
       "0                      0     NaN  \n",
       "1                      0     NaN  \n",
       "2                      1     NaN  \n",
       "3                     62     NaN  \n",
       "4                      0     NaN  "
      ]
     },
     "execution_count": 7,
     "metadata": {},
     "output_type": "execute_result"
    }
   ],
   "source": [
    "#Listings of Ny\n",
    "ny_listings = pd.read_csv(\"../Data_Files/NewYork_Listings.csv\", low_memory=False)\n",
    "ny_listings.head()"
   ]
  },
  {
   "cell_type": "code",
   "execution_count": 8,
   "id": "38b25e08",
   "metadata": {},
   "outputs": [],
   "source": [
    "ny_neigh_group = ny_listings[['id','neighbourhood_group','neighbourhood','availability_365','price']]\n",
    "ny_neigh_group.sort_values(by='id')\n",
    "ny_neigh_group.rename(columns = {'id':'listing_id'}, inplace = True)"
   ]
  },
  {
   "cell_type": "code",
   "execution_count": 9,
   "id": "1ddeda9f",
   "metadata": {},
   "outputs": [
    {
     "data": {
      "text/plain": [
       "array(['Bronx', 'Brooklyn', 'Manhattan', 'Queens', 'Staten Island'],\n",
       "      dtype=object)"
      ]
     },
     "execution_count": 9,
     "metadata": {},
     "output_type": "execute_result"
    }
   ],
   "source": [
    "'''\n",
    "Neighborhoods of NY.  There are 5 NY neighbourhood groupings and several neighbourhoods per grouping.\n",
    "'''\n",
    "ny_nbh = pd.read_csv(\"../Data_Files/neighbourhoods.csv\", low_memory=False)\n",
    "\n",
    "ny_nbh.neighbourhood_group.unique()"
   ]
  },
  {
   "cell_type": "code",
   "execution_count": 10,
   "id": "4fe43bea",
   "metadata": {},
   "outputs": [],
   "source": [
    "## NY calendar dataframe --  Lists availability on a given date\n",
    "ny_cal = pd.read_csv(\"../Data_Files/calendar.csv.gz\", compression=\"gzip\", header=0, sep=\",\")"
   ]
  },
  {
   "cell_type": "code",
   "execution_count": 11,
   "id": "2b8eaa3a",
   "metadata": {},
   "outputs": [],
   "source": [
    "ny_cal_uniqueID = ny_cal.listing_id.unique()\n",
    "merged = pd.merge(ny_cal, ny_neigh_group, on='listing_id', how='outer')\n",
    "merged = merged.dropna()"
   ]
  },
  {
   "cell_type": "code",
   "execution_count": 12,
   "id": "a892ab4b",
   "metadata": {},
   "outputs": [],
   "source": [
    "##This cell takes about 1Min 30 Sec to run at 500k sample\n",
    "sample10000 = 10000\n",
    "sample50000 = 50000\n",
    "sample100k = 100000\n",
    "sample500k = 500000\n",
    "'''\n",
    "Please feel free to use the full merged dataframe if your machine can handle it.\n",
    "'''\n",
    "\n",
    "\n",
    "merged['date'] = pd.to_datetime(merged['date'])\n",
    "merged = merged.sort_values('date', ascending=True)\n",
    "merged['date'] = merged['date'].dt.strftime('%m-%d-%Y')\n",
    "merged100k = merged.sample(n=sample100k,random_state=1)\n",
    "NY_merged = merged"
   ]
  },
  {
   "cell_type": "code",
   "execution_count": 13,
   "id": "f8a91409",
   "metadata": {},
   "outputs": [],
   "source": [
    "external_stylesheets = [dbc.themes.BOOTSTRAP]\n",
    "app = JupyterDash(__name__,external_stylesheets=external_stylesheets)"
   ]
  },
  {
   "cell_type": "code",
   "execution_count": 14,
   "id": "301ada4d",
   "metadata": {},
   "outputs": [],
   "source": [
    "# JupyterDash.infer_jupyter_proxy_config()"
   ]
  },
  {
   "cell_type": "code",
   "execution_count": 15,
   "id": "881310ee",
   "metadata": {},
   "outputs": [],
   "source": [
    "fig_scatter = px.scatter(data_frame=merged100k,\n",
    "          x='availability_365',\n",
    "          y='minimum_nights',\n",
    "          size='price_y',\n",
    "           animation_group='neighbourhood_group',\n",
    "          color='neighbourhood_group',\n",
    "          log_x=False,\n",
    "          animation_frame='date',\n",
    "           height=900,\n",
    "           width=900,\n",
    "           size_max=90,facet_row='neighbourhood_group')\n",
    "fig_scatter.for_each_annotation(lambda a: a.update(text=a.text.replace(\"neighbourhood_group=\", \"\")))\n",
    "fig_scatter.for_each_annotation(lambda a: a.update(text=a.text.replace(\"neighbourhood_group=\", \"\")))\n",
    "fig_scatter=fig_scatter.for_each_trace(lambda t: t.update(name=t.name.replace(\"neighbourhood_group=\", \"\")))"
   ]
  },
  {
   "cell_type": "code",
   "execution_count": 21,
   "id": "36a224d3",
   "metadata": {},
   "outputs": [],
   "source": [
    "hist_data = [nyc_data['price'].to_numpy()]\n",
    "\n",
    "price_hist_fig=ff.create_distplot(hist_data,['distplot'])"
   ]
  },
  {
   "cell_type": "code",
   "execution_count": 22,
   "id": "c0fca264",
   "metadata": {},
   "outputs": [],
   "source": [
    "app.layout = html.Div([\n",
    "    html.H1('Welcome To Airbnb Explorers Dashboard'),\n",
    "    html.H6('**This dashboard is for academic purposes only.  Actual prices may vary'),\n",
    "    html.H6('**Please check Airbnb for actual prices.'),\n",
    "    html.Br(),\n",
    "    dcc.Markdown('''\n",
    "    #### Intro\n",
    "                                                                  \n",
    "    Despite concerns of an ongoing global pandemic, increase in international turmoil, and the uncertainty of the\\n\n",
    "    US economy, leisure traveling is expected to reach new highs [(Mckinsey)](https://www.mckinsey.com/industries/travel-logistics-and-infrastructure/our-insights/us-summer-travel-2022) As the interest in traveling increases, individuals.\\n \n",
    "    are faced with the question of booking a hotel or renting an Airbnb. Despite where you may stand on this debate,\\n\n",
    "    it is hard to ignore the success Airbnb has had since the demise of traveling at the start of the Covid-19 pandemic.\\n\n",
    "    In fact, Airbnb posted revenue of $1.5 billion in Q1 of 2022, and average daily rates continue to rise [(CNN)](https://www.cnn.com/2022/05/03/tech/airbnb-first-quarter-earnings/index.f).\\n\n",
    "    '''),\n",
    "    html.Br(),\n",
    "    dcc.Markdown('''\n",
    "    To match this demand in traveling, more & more hosts are buying out property for the sole purpose of short term\\n\n",
    "    rentals. New York City alone saw the number of available short term rentals increase to 13,000 [(Bloomberg)](https://www.bloomberg.com/news/articles/2022-05-18/airbnbs-outnumber-new-york-city-apartments-in-hot-housing-market). Using\\n\n",
    "    data available from [Inside Airbnb](http://insideairbnb.com/get-the-data/) we will analyze New York City’s Airbnb listings data to build a predictive model\\n\n",
    "    on future rental prices. The different regression models that will be used include linear, lasso, ridge, and random\\n\n",
    "    forest. The analysis and model will be incorporated into a final dashboard that a host can use to learn about their\\n\n",
    "    desired market.\n",
    "    '''),\n",
    "    html.Br(),\n",
    "    html.H3('Average cost of an Airbnb rental in 2022'),\n",
    "    \n",
    "    dcc.Dropdown(id='neighbourhood_group',style={\"width\": \"75%\"},\n",
    "                options=[{'label': neighbourhood_group, 'value': neighbourhood_group}\n",
    "                        for neighbourhood_group in merged['neighbourhood_group'].unique()]),\n",
    "    \n",
    "    dbc.Row([\n",
    "        dbc.Col([\n",
    "            dcc.Graph(id='price_distro_hist',figure=price_hist_fig)\n",
    "        ]),\n",
    "        dbc.Col([]),\n",
    "    ]),    \n",
    "    \n",
    "    html.Br(),\n",
    "    html.Div(id='report'),\n",
    "    html.Br(),\n",
    "    dcc.Graph(id='animated_scatter',\n",
    "             figure=fig_scatter),\n",
    "    html.Br(),\n",
    "    html.Br(),\n",
    "    \n",
    "])\n",
    "\n",
    "@app.callback(Output('report', 'children'),\n",
    "             Input('neighbourhood_group','value'))\n",
    "def display_neighbourhood_group(neighbourhood_group):\n",
    "    if neighbourhood_group is None:\n",
    "        return ''\n",
    "    group_filt = merged100k.groupby('neighbourhood_group', as_index=False)['price_y'].mean()\n",
    "    filtered = group_filt[group_filt['neighbourhood_group']==neighbourhood_group]\n",
    "    price = filtered.loc[:, 'price_y'].values[0]\n",
    "    return [html.H3(neighbourhood_group),\n",
    "           f'The average sampled price for one night stay in {neighbourhood_group} is ${price:,.0f}.']\n",
    "\n",
    "\n",
    "###Put link to google doc down here\n",
    "##Maybe link through api and/or download dataset"
   ]
  },
  {
   "cell_type": "code",
   "execution_count": 23,
   "id": "0d5d24e6",
   "metadata": {},
   "outputs": [
    {
     "name": "stdout",
     "output_type": "stream",
     "text": [
      "Dash app running on http://127.0.0.1:8992/\n"
     ]
    }
   ],
   "source": [
    "'''\n",
    "Please make sure all Dash ports are shutdown before tyring to run.\n",
    "'''\n",
    "app.run_server(mode='external',port=8992)"
   ]
  },
  {
   "cell_type": "code",
   "execution_count": null,
   "id": "270dcd86",
   "metadata": {},
   "outputs": [],
   "source": [
    "amenities_df = pd.DataFrame(amenities_counter.most_common(50), columns =['Amenities', 'Count'])\n",
    "amenities_df"
   ]
  },
  {
   "cell_type": "code",
   "execution_count": null,
   "id": "c5c712a6",
   "metadata": {},
   "outputs": [],
   "source": []
  }
 ],
 "metadata": {
  "kernelspec": {
   "display_name": "Python 3 (ipykernel)",
   "language": "python",
   "name": "python3"
  },
  "language_info": {
   "codemirror_mode": {
    "name": "ipython",
    "version": 3
   },
   "file_extension": ".py",
   "mimetype": "text/x-python",
   "name": "python",
   "nbconvert_exporter": "python",
   "pygments_lexer": "ipython3",
   "version": "3.9.12"
  }
 },
 "nbformat": 4,
 "nbformat_minor": 5
}
