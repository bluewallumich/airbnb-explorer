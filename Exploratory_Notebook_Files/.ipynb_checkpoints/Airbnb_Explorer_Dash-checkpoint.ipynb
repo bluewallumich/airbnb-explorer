{
 "cells": [
  {
   "cell_type": "code",
   "execution_count": 1,
   "id": "5a3750d7",
   "metadata": {},
   "outputs": [],
   "source": [
    "import os\n",
    "import datetime as dt\n",
    "\n",
    "import pandas as pd\n",
    "import numpy as np\n",
    "\n",
    "import re\n",
    "\n",
    "import random\n",
    "\n",
    "import warnings\n",
    "warnings.filterwarnings('ignore')\n",
    "\n",
    "from urllib.request import urlopen\n",
    "import json\n",
    "\n",
    "#GeoJson file for heat map\n",
    "with urlopen('http://data.insideairbnb.com/united-states/ny/new-york-city/2022-06-03/visualisations/neighbourhoods.geojson') as response:\n",
    "    ny_data = json.load(response)"
   ]
  },
  {
   "cell_type": "code",
   "execution_count": 3,
   "id": "abd5c9e2",
   "metadata": {},
   "outputs": [],
   "source": [
    "import matplotlib.pyplot as plt\n",
    "from jupyter_dash import JupyterDash\n",
    "from dash import Dash, dcc, html, Input, Output\n",
    "import plotly.express as px\n",
    "import dash_bootstrap_components as dbc\n",
    "from dash.exceptions import PreventUpdate\n",
    "\n",
    "import plotly.graph_objects as go\n",
    "from plotly.graph_objs.scatter import Line\n",
    "from plotly.subplots import make_subplots\n",
    "import plotly.figure_factory as ff"
   ]
  },
  {
   "cell_type": "code",
   "execution_count": 4,
   "id": "927b2ad9",
   "metadata": {},
   "outputs": [],
   "source": [
    "df1 = pd.read_csv('../Data_Files/NYC_Listings_202203.csv')\n",
    "df1['Quarter']=1\n",
    "df2 = pd.read_csv('../Data_Files/NYC_Listings_202206.csv')\n",
    "df2['Quarter']=2\n",
    "df3 = pd.read_csv('../Data_Files/NYC_Listings_202109.csv')\n",
    "df3['Quarter']=3\n",
    "df4 = pd.read_csv('../Data_Files/NYC_Listings_202112.csv')\n",
    "df4['Quarter']=4\n",
    "nyc_data=pd.concat([df1, df2, df3, df4])"
   ]
  },
  {
   "cell_type": "code",
   "execution_count": 5,
   "id": "e3f7ca8a",
   "metadata": {},
   "outputs": [],
   "source": [
    "#Listings of Ny\n",
    "ny_listings = pd.read_csv(\"../Data_Files/NewYork_Listings.csv\", low_memory=False)"
   ]
  },
  {
   "cell_type": "code",
   "execution_count": 6,
   "id": "38b25e08",
   "metadata": {},
   "outputs": [],
   "source": [
    "ny_neigh_group = ny_listings[['id','neighbourhood_group','neighbourhood','availability_365','price']]\n",
    "ny_neigh_group.sort_values(by='id')\n",
    "ny_neigh_group.rename(columns = {'id':'listing_id'}, inplace = True)"
   ]
  },
  {
   "cell_type": "code",
   "execution_count": 7,
   "id": "4fe43bea",
   "metadata": {},
   "outputs": [],
   "source": [
    "## NY calendar dataframe --  Lists availability on a given date\n",
    "ny_cal = pd.read_csv(\"../Data_Files/calendar.csv.gz\", compression=\"gzip\", header=0, sep=\",\")"
   ]
  },
  {
   "cell_type": "code",
   "execution_count": 8,
   "id": "2b8eaa3a",
   "metadata": {},
   "outputs": [],
   "source": [
    "ny_cal_uniqueID = ny_cal.listing_id.unique()\n",
    "merged = pd.merge(ny_cal, ny_neigh_group, on='listing_id', how='outer')\n",
    "merged = merged.dropna()"
   ]
  },
  {
   "cell_type": "code",
   "execution_count": 9,
   "id": "a892ab4b",
   "metadata": {},
   "outputs": [],
   "source": [
    "##This cell takes about 1Min 30 Sec to run at 500k sample\n",
    "sample10000 = 10000\n",
    "sample50000 = 50000\n",
    "sample100k = 100000\n",
    "sample500k = 500000\n",
    "'''\n",
    "Please feel free to use the full merged dataframe if your machine can handle it.\n",
    "'''\n",
    "\n",
    "\n",
    "merged['date'] = pd.to_datetime(merged['date'])\n",
    "merged = merged.sort_values('date', ascending=True)\n",
    "merged['date'] = merged['date'].dt.strftime('%m-%d-%Y')\n",
    "merged100k = merged.sample(n=sample100k,random_state=1)\n",
    "NY_merged = merged"
   ]
  },
  {
   "cell_type": "code",
   "execution_count": 10,
   "id": "f8a91409",
   "metadata": {},
   "outputs": [],
   "source": [
    "external_stylesheets = [dbc.themes.BOOTSTRAP]\n",
    "app = JupyterDash(__name__,external_stylesheets=external_stylesheets)"
   ]
  },
  {
   "cell_type": "code",
   "execution_count": 11,
   "id": "301ada4d",
   "metadata": {},
   "outputs": [
    {
     "data": {
      "text/plain": [
       "'\\nThis cell for instructor use only.  If you are unable to find a port:\\nPlease stop all open notebooks.\\nRestart this notebook and run it.  Ports around 8992 were a safe bet but might not work for others.\\nIf that fails uncomment this box.  It should in theroy \"infer\" a port.  \\n'"
      ]
     },
     "execution_count": 11,
     "metadata": {},
     "output_type": "execute_result"
    }
   ],
   "source": [
    "'''\n",
    "This cell for instructor use only.  If you are unable to find a port:\n",
    "Please stop all open notebooks.\n",
    "Restart this notebook and run it.  Ports around 8992 were a safe bet but might not work for others.\n",
    "If that fails uncomment this box.  It should in theroy \"infer\" a port.  \n",
    "'''\n",
    "# JupyterDash.infer_jupyter_proxy_config()\n"
   ]
  },
  {
   "cell_type": "code",
   "execution_count": 12,
   "id": "881310ee",
   "metadata": {},
   "outputs": [],
   "source": [
    "#animated scatter plot outside the dashboard cell\n",
    "fig_scatter = px.scatter(data_frame=merged100k,\n",
    "          x='availability_365',\n",
    "          y='minimum_nights',\n",
    "          size='price_y',\n",
    "           animation_group='neighbourhood_group',\n",
    "          color='neighbourhood_group',\n",
    "          log_x=False,\n",
    "          animation_frame='date',\n",
    "           height=900,\n",
    "           width=900,\n",
    "           size_max=90,facet_row='neighbourhood_group')\n",
    "fig_scatter.for_each_annotation(lambda a: a.update(text=a.text.replace(\"neighbourhood_group=\", \"\")))\n",
    "fig_scatter.for_each_annotation(lambda a: a.update(text=a.text.replace(\"neighbourhood_group=\", \"\")))\n",
    "fig_scatter=fig_scatter.for_each_trace(lambda t: t.update(name=t.name.replace(\"neighbourhood_group=\", \"\")))"
   ]
  },
  {
   "cell_type": "code",
   "execution_count": 13,
   "id": "36a224d3",
   "metadata": {},
   "outputs": [],
   "source": [
    "#The next two cells are for dahsboard graphs\n",
    "hist_data = [nyc_data['price'].to_numpy()]\n",
    "price_hist_fig=ff.create_distplot(hist_data,['distplot'])\n",
    "\n",
    "#log transformation\n",
    "nyc_data['price_log'] = np.log(nyc_data.price+1)\n",
    "log_data=[nyc_data['price_log'].to_numpy()]\n",
    "price_log=ff.create_distplot(log_data,['Log'])"
   ]
  },
  {
   "cell_type": "code",
   "execution_count": 14,
   "id": "68c2fac2",
   "metadata": {},
   "outputs": [],
   "source": [
    "\n",
    "ny_listings[\"price\"] = ny_listings[\"price\"].astype(float)"
   ]
  },
  {
   "cell_type": "code",
   "execution_count": 16,
   "id": "c0fca264",
   "metadata": {},
   "outputs": [],
   "source": [
    "app.layout = html.Div([\n",
    "    html.H1('Welcome To Airbnb Explorers Dashboard'),\n",
    "    html.H6('**This dashboard is for academic purposes only.  Actual prices may vary'),\n",
    "    html.H6('**Please check Airbnb for actual prices.'),\n",
    "    html.Br(),\n",
    "    dcc.Markdown('''\n",
    "    #### Intro\n",
    "                                                                  \n",
    "    Despite concerns of an ongoing global pandemic, increase in international turmoil, and the uncertainty of the\\n\n",
    "    US economy, leisure traveling is expected to reach new highs [(Mckinsey)](https://www.mckinsey.com/industries/travel-logistics-and-infrastructure/our-insights/us-summer-travel-2022) As the interest in traveling increases, individuals.\\n \n",
    "    are faced with the question of booking a hotel or renting an Airbnb. Despite where you may stand on this debate,\\n\n",
    "    it is hard to ignore the success Airbnb has had since the demise of traveling at the start of the Covid-19 pandemic.\\n\n",
    "    In fact, Airbnb posted revenue of $1.5 billion in Q1 of 2022, and average daily rates continue to rise [(CNN)](https://www.cnn.com/2022/05/03/tech/airbnb-first-quarter-earnings/index.f).\\n\n",
    "    '''),\n",
    "    html.Br(),\n",
    "    dcc.Markdown('''\n",
    "    To match this demand in traveling, more & more hosts are buying out property for the sole purpose of short term\\n\n",
    "    rentals. New York City alone saw the number of available short term rentals increase to 13,000 [(Bloomberg)](https://www.bloomberg.com/news/articles/2022-05-18/airbnbs-outnumber-new-york-city-apartments-in-hot-housing-market). Using\\n\n",
    "    data available from [Inside Airbnb](http://insideairbnb.com/get-the-data/) we will analyze New York City’s Airbnb listings data to build a predictive model\\n\n",
    "    on future rental prices. The different regression models that will be used include linear, lasso, ridge, and random\\n\n",
    "    forest. The analysis and model will be incorporated into a final dashboard that a host can use to learn about their\\n\n",
    "    desired market.\n",
    "    '''),\n",
    "    html.Br(),\n",
    "    html.H3('Average cost of an Airbnb rental in 2022'),\n",
    "    html.Br(),\n",
    "    dcc.Graph(id='ny_heat_map'),\n",
    "    dcc.Slider(\n",
    "    ny_listings['price'].min(),\n",
    "    ny_listings['price'].max(),\n",
    "    step=None,\n",
    "    value=ny_listings['price'].min(),\n",
    "    marks={str(price):str(price) for price in ny_listings['price']},\n",
    "    id='heat_slider'),\n",
    "    \n",
    "    dcc.Dropdown(id='neighbourhood_group',style={\"width\": \"75%\"},\n",
    "                options=[{'label': neighbourhood_group, 'value': neighbourhood_group}\n",
    "                        for neighbourhood_group in merged['neighbourhood_group'].unique()]),\n",
    "    html.Br(),\n",
    "    html.Div(id='report'),\n",
    "    html.Br(),\n",
    "    \n",
    "    dcc.Tabs([\n",
    "        dcc.Tab(label='NY Price Distrobution', children=[\n",
    "            dbc.Row([\n",
    "        dbc.Col([\n",
    "            dcc.Graph(id='price_distro_hist',figure=price_hist_fig)\n",
    "        ]),\n",
    "        dbc.Col([\n",
    "            dcc.Graph(id='price_log_hist',figure=price_log)\n",
    "        ]),\n",
    "    ]),\n",
    "        ]),\n",
    "        dcc.Tab(label='EDA',children=[\n",
    "            \n",
    "        ]),\n",
    "    ]),\n",
    "        \n",
    "    \n",
    "    \n",
    "    dcc.Graph(id='animated_scatter',\n",
    "             figure=fig_scatter),\n",
    "    html.Br(),\n",
    "    html.Br(),\n",
    "    \n",
    "])\n",
    "\n",
    "@app.callback(Output('report', 'children'),\n",
    "             Input('neighbourhood_group','value'))\n",
    "def display_neighbourhood_group(neighbourhood_group):\n",
    "    if neighbourhood_group is None:\n",
    "        return ''\n",
    "    group_filt = merged100k.groupby('neighbourhood_group', as_index=False)['price_y'].mean()\n",
    "    filtered = group_filt[group_filt['neighbourhood_group']==neighbourhood_group]\n",
    "    price = filtered.loc[:, 'price_y'].values[0]\n",
    "    return [html.H3(neighbourhood_group),\n",
    "           f'The average sampled price for one night stay in {neighbourhood_group} is ${price:,.0f}.']\n",
    "\n",
    "@app.callback(\n",
    "Output('ny_heat_map','figure'),\n",
    "Input('heat_slider','value'))\n",
    "\n",
    "def update_figure(selected_price):\n",
    "    filtered_df = ny_listings[ny_listings.price == selected_price]\n",
    "    \n",
    "\n",
    "    heat = px.choropleth_mapbox(filtered_df,\n",
    "                                geojson=ny_data,\n",
    "                                color='price',\n",
    "                                locations='neighbourhood',\n",
    "                                featureidkey=\"properties.neighbourhood\",\n",
    "                                center={\"lat\":40.75356, \"lon\":-73.98559},\n",
    "                                mapbox_style=\"carto-positron\",\n",
    "                                zoom=9.2)\n",
    "    heat.update_layout(margin={\"r\":0,\"t\":0,\"l\":0,\"b\":0})\n",
    "    return heat\n",
    "\n",
    "###Put link to google doc down here\n",
    "##Maybe link through api and/or download dataset"
   ]
  },
  {
   "cell_type": "code",
   "execution_count": 17,
   "id": "0d5d24e6",
   "metadata": {},
   "outputs": [
    {
     "name": "stdout",
     "output_type": "stream",
     "text": [
      "Dash app running on http://127.0.0.1:8993/\n"
     ]
    }
   ],
   "source": [
    "'''\n",
    "Please make sure all Dash ports are shutdown before tyring to run.\n",
    "'''\n",
    "app.run_server(mode='external',port=8993)"
   ]
  },
  {
   "cell_type": "code",
   "execution_count": null,
   "id": "270dcd86",
   "metadata": {},
   "outputs": [],
   "source": [
    "amenities_df = pd.DataFrame(amenities_counter.most_common(50), columns =['Amenities', 'Count'])\n",
    "amenities_df"
   ]
  },
  {
   "cell_type": "code",
   "execution_count": null,
   "id": "c5c712a6",
   "metadata": {},
   "outputs": [],
   "source": []
  }
 ],
 "metadata": {
  "kernelspec": {
   "display_name": "Python 3 (ipykernel)",
   "language": "python",
   "name": "python3"
  },
  "language_info": {
   "codemirror_mode": {
    "name": "ipython",
    "version": 3
   },
   "file_extension": ".py",
   "mimetype": "text/x-python",
   "name": "python",
   "nbconvert_exporter": "python",
   "pygments_lexer": "ipython3",
   "version": "3.9.12"
  }
 },
 "nbformat": 4,
 "nbformat_minor": 5
}
