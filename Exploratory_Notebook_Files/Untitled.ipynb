{
 "cells": [
  {
   "cell_type": "code",
   "execution_count": 5,
   "id": "be32d559",
   "metadata": {},
   "outputs": [],
   "source": [
    "import os\n",
    "import datetime as dt\n",
    "\n",
    "import pandas as pd\n",
    "import numpy as np\n",
    "\n",
    "import matplotlib.pyplot as plt\n",
    "import seaborn as sns\n",
    "\n",
    "import re\n",
    "\n",
    "sns.set()\n",
    "\n",
    "import warnings\n",
    "warnings.filterwarnings('ignore')"
   ]
  },
  {
   "cell_type": "code",
   "execution_count": 6,
   "id": "0bdc7e1c",
   "metadata": {},
   "outputs": [],
   "source": [
    "from jupyter_dash import JupyterDash\n",
    "from dash import html, dcc\n",
    "from dash.dependencies import Output, Input\n",
    "import dash_bootstrap_components as dbc\n",
    "from dash.exceptions import PreventUpdate\n",
    "\n",
    "import plotly.express as px"
   ]
  },
  {
   "cell_type": "code",
   "execution_count": 12,
   "id": "6ca77c85",
   "metadata": {},
   "outputs": [
    {
     "data": {
      "text/plain": [
       "['.ipynb_checkpoints',\n",
       " 'BostonGZ_listings.csv',\n",
       " 'Boston_listings.csv',\n",
       " 'Boston_listings.csv.gz',\n",
       " 'calendar.csv',\n",
       " 'calendar.csv.gz',\n",
       " 'listings _202109.csv',\n",
       " 'listings _202206.csv',\n",
       " 'listings_202112.csv',\n",
       " 'listings_202203.csv',\n",
       " 'neighbourhoods.csv',\n",
       " 'NewYork_Listings.csv',\n",
       " 'NewYork_Listings.gz',\n",
       " 'usCity_foreast.csv']"
      ]
     },
     "execution_count": 12,
     "metadata": {},
     "output_type": "execute_result"
    }
   ],
   "source": [
    "os.listdir('../Data_Files')"
   ]
  },
  {
   "cell_type": "code",
   "execution_count": 13,
   "id": "11c588b9",
   "metadata": {},
   "outputs": [],
   "source": [
    "ny_listings = pd.read_csv('../Data_Files/NewYork_Listings.csv')"
   ]
  },
  {
   "cell_type": "code",
   "execution_count": null,
   "id": "269553fe",
   "metadata": {},
   "outputs": [],
   "source": []
  }
 ],
 "metadata": {
  "kernelspec": {
   "display_name": "Python 3 (ipykernel)",
   "language": "python",
   "name": "python3"
  },
  "language_info": {
   "codemirror_mode": {
    "name": "ipython",
    "version": 3
   },
   "file_extension": ".py",
   "mimetype": "text/x-python",
   "name": "python",
   "nbconvert_exporter": "python",
   "pygments_lexer": "ipython3",
   "version": "3.9.12"
  }
 },
 "nbformat": 4,
 "nbformat_minor": 5
}
