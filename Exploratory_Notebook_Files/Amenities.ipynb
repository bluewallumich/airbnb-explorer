{
 "cells": [
  {
   "cell_type": "markdown",
   "id": "48def055",
   "metadata": {},
   "source": [
    "What is the average priced paid per amenity\n",
    "What is the average price paid per top 5 combined amenities\n",
    "Can we predict what the top amenities are or what properties are being sold based on amenities\n",
    "Why is TV missing from top of list.  -- Manually checked if most properties have TV"
   ]
  },
  {
   "cell_type": "code",
   "execution_count": 1,
   "id": "fe452971",
   "metadata": {},
   "outputs": [],
   "source": [
    "import pandas as pd\n",
    "import nltk\n",
    "from collections import Counter\n",
    "from nltk.tokenize import word_tokenize\n",
    "from nltk.corpus import stopwords\n",
    "from nltk.stem import WordNetLemmatizer\n",
    "from nltk.tokenize import sent_tokenize\n",
    "from ast import literal_eval\n",
    "\n",
    "import numpy as np\n",
    "# nltk.download('punkt')\n",
    "\n",
    "# pd.set_option('display.max_colwidth', None)\n",
    "pd.set_option('display.max_columns', None)\n",
    "# pd.set_option('display.max_row',None)"
   ]
  },
  {
   "cell_type": "code",
   "execution_count": 2,
   "id": "f69e34d8",
   "metadata": {},
   "outputs": [],
   "source": [
    "Boston = pd.read_csv('../Data_Files/BostonGZ_listings.csv')\n",
    "df2 = pd.read_csv('../Data_Files/Boston_listings.csv')"
   ]
  },
  {
   "cell_type": "code",
   "execution_count": 3,
   "id": "d1357f3c",
   "metadata": {},
   "outputs": [],
   "source": [
    "##Due to file type being csv, the column is converted to a string automatically.\n",
    "##literal_eval is used to convert string to list format.\n",
    "\n",
    "Boston_amenities_list = []\n",
    "for items in Boston.amenities:\n",
    "    Boston_amenities_list.append(literal_eval(items))\n",
    "\n",
    "Boston_amenities_list[34]\n",
    "##Count to see if TV in list\n",
    "\n",
    "##TV should be the estimated number one amenity\n",
    "##Code to combine TV and put in list.\n",
    "updated_boston_amenities = []\n",
    "Boston_amenities_list = [['TV' if 'TV' in item else item for item in lst] for lst in Boston_amenities_list ]\n",
    "\n",
    "#need to account for duplicate TV in lists or other duplicates\n",
    "#len(Boston_amenities_list)\n",
    "Bost_amen_list=[]\n",
    "for l in Boston_amenities_list:\n",
    "    Bost_amen_list.append([*set(l)])"
   ]
  },
  {
   "cell_type": "code",
   "execution_count": 4,
   "id": "bd5132c6",
   "metadata": {},
   "outputs": [],
   "source": [
    "##20 Most Common Amenities\n",
    "##Why is TV missing\n",
    "## Assumption was made that TV was going to be number one.\n",
    "##After some data wrangling TV is estimated at number 9\n",
    "\n",
    "result_list = []\n",
    "amenities_counter = Counter()\n",
    "\n",
    "for amens in Bost_amen_list:\n",
    "    amenities_counter.update(amens)"
   ]
  },
  {
   "cell_type": "code",
   "execution_count": 5,
   "id": "e6d9c081",
   "metadata": {},
   "outputs": [],
   "source": [
    "#top combined amenities\n",
    "n = 4\n",
    "n_gram_counter = Counter()\n",
    "for gram in Bost_amen_list:\n",
    "    gram_list = nltk.ngrams(gram,n)\n",
    "    n_gram_counter.update(gram_list)"
   ]
  },
  {
   "cell_type": "code",
   "execution_count": 6,
   "id": "bdbaa2c0",
   "metadata": {
    "scrolled": false
   },
   "outputs": [],
   "source": [
    "# amenities_counter.most_common(100)\n",
    "top_100_amenities=[word for word,cnt in amenities_counter.most_common(100)]\n",
    "df = pd.DataFrame(columns=top_100_amenities)\n",
    "\n",
    "zeros = [0]* 100\n",
    "\n",
    "counter = 0\n",
    "\n",
    "for element in Bost_amen_list:\n",
    "    df.loc[-1]= zeros\n",
    "    df = df.reset_index(drop=True)\n",
    "    for col in df.columns:\n",
    "        for item in element:\n",
    "            if item == col:\n",
    "                df.at[counter,col] =1\n",
    "    counter+=1          "
   ]
  },
  {
   "cell_type": "code",
   "execution_count": 7,
   "id": "958a12db",
   "metadata": {},
   "outputs": [],
   "source": [
    "# ##Set of all unique amenities.\n",
    "# amenities = list(Boston.amenities)\n",
    "# amenities_string = \" \".join(amenities)\n",
    "# amenities_string = amenities_string.replace('{', '')\n",
    "# amenities_string = amenities_string.replace('}', ',')\n",
    "# amenities_string = amenities_string.replace('[', '')\n",
    "# amenities_string = amenities_string.replace(']', ',')\n",
    "# amenities_string = amenities_string.replace('\"', '')\n",
    "# amenities_set = [x.strip() for x in amenities_string.split(',')]\n",
    "# # amenities_set = set(amenities_set)\n",
    "# # amenities_set\n",
    "\n",
    "# amenities_set"
   ]
  },
  {
   "cell_type": "code",
   "execution_count": 8,
   "id": "c0470ac8",
   "metadata": {},
   "outputs": [],
   "source": [
    "Boston.head()\n",
    "Boston_id_price = Boston[[\"host_id\",\"price\"]]"
   ]
  },
  {
   "cell_type": "code",
   "execution_count": 9,
   "id": "99b154b6",
   "metadata": {},
   "outputs": [],
   "source": [
    "Boston_concat_price_amenites = pd.concat([Boston_id_price, df], axis=1)"
   ]
  },
  {
   "cell_type": "code",
   "execution_count": 10,
   "id": "65ff9df1",
   "metadata": {},
   "outputs": [],
   "source": [
    "#Convert dollar amounts to floats\n",
    "Boston_concat_price_amenites['price']  = Boston_concat_price_amenites['price'].replace('[\\$,]', '', regex=True).astype(float)\n",
    "\n",
    "#test average or median\n",
    "median = round(Boston_concat_price_amenites.loc[Boston_concat_price_amenites['Wifi'] == 1, 'price'].median(),2)\n",
    "mean = round(Boston_concat_price_amenites.loc[Boston_concat_price_amenites['Wifi'] == 1, 'price'].mean(),2)"
   ]
  },
  {
   "cell_type": "code",
   "execution_count": 11,
   "id": "e9d2442c",
   "metadata": {},
   "outputs": [],
   "source": [
    "#This cell cannot be ran more than once or it inserts an extra row.\n",
    "\n",
    "average_price=[]\n",
    "for col in df.columns:\n",
    "    average_price.append(round(Boston_concat_price_amenites.loc[Boston_concat_price_amenites[col] == 1, 'price'].mean(),2))\n",
    "\n",
    "average_price.insert(0,float(\"nan\"))\n",
    "average_price.insert(0,float(\"nan\"))\n",
    "\n",
    "average_price\n",
    "\n",
    "Boston_concat_price_amenites.loc[-1] = average_price  # adding a row\n",
    "Boston_concat_price_amenites.index = Boston_concat_price_amenites.index + 1  # shifting index\n",
    "Boston_concat_price_amenites = Boston_concat_price_amenites.sort_index()"
   ]
  },
  {
   "cell_type": "code",
   "execution_count": null,
   "id": "15e894f5",
   "metadata": {},
   "outputs": [],
   "source": []
  },
  {
   "cell_type": "code",
   "execution_count": null,
   "id": "45f3d872",
   "metadata": {},
   "outputs": [],
   "source": []
  }
 ],
 "metadata": {
  "kernelspec": {
   "display_name": "Python 3 (ipykernel)",
   "language": "python",
   "name": "python3"
  },
  "language_info": {
   "codemirror_mode": {
    "name": "ipython",
    "version": 3
   },
   "file_extension": ".py",
   "mimetype": "text/x-python",
   "name": "python",
   "nbconvert_exporter": "python",
   "pygments_lexer": "ipython3",
   "version": "3.9.12"
  }
 },
 "nbformat": 4,
 "nbformat_minor": 5
}
