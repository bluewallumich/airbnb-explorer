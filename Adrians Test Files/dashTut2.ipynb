{
 "cells": [
  {
   "cell_type": "code",
   "execution_count": 4,
   "id": "07ccdfb8",
   "metadata": {},
   "outputs": [],
   "source": [
    "from jupyter_dash import JupyterDash"
   ]
  },
  {
   "cell_type": "code",
   "execution_count": 5,
   "id": "3d34b094",
   "metadata": {},
   "outputs": [],
   "source": [
    "import dash_bootstrap_components as dbc\n",
    "from dash import Dash, dcc, html, Input, Output\n",
    "import pandas as pd\n",
    "\n",
    "import os"
   ]
  },
  {
   "cell_type": "code",
   "execution_count": 7,
   "id": "4297de59",
   "metadata": {},
   "outputs": [],
   "source": [
    "JupyterDash.infer_jupyter_proxy_config()"
   ]
  },
  {
   "cell_type": "code",
   "execution_count": 8,
   "id": "e733436c",
   "metadata": {},
   "outputs": [],
   "source": [
    "external_stylesheets = [dbc.themes.BOOTSTRAP]\n",
    "app = JupyterDash(__name__,external_stylesheets=external_stylesheets)\n",
    "# server = app.server"
   ]
  },
  {
   "cell_type": "code",
   "execution_count": 10,
   "id": "dd4937d0",
   "metadata": {},
   "outputs": [
    {
     "data": {
      "text/plain": [
       "['lat_long.csv',\n",
       " 'poverty.csv',\n",
       " 'PovStatsCountry-Series.csv',\n",
       " 'PovStatsCountry.csv',\n",
       " 'PovStatsData.csv',\n",
       " 'PovStatsFootNote.csv',\n",
       " 'PovStatsSeries.csv']"
      ]
     },
     "execution_count": 10,
     "metadata": {},
     "output_type": "execute_result"
    }
   ],
   "source": [
    "os.listdir('data')\n",
    "\n",
    "# poverty_data = pd.read_csv('data/PovStatsData.csv')\n",
    "# poverty_data.head(3)"
   ]
  },
  {
   "cell_type": "code",
   "execution_count": 5,
   "id": "c33f3efd",
   "metadata": {},
   "outputs": [],
   "source": [
    "# dcc.Dropdown(id='country',\n",
    "#             options=[{'label': country,\n",
    "#                      'value':country}\n",
    "#                     for country in poverty_data['Country Name'].unique()])\n",
    "# html.Div(id='report')\n",
    "\n",
    "# if country is None:\n",
    "#     return ''\n",
    "\n",
    "# filtered_df = countrydata[(countrydata['Country Name']==country) & (countrydata['Indicator Name']=='Population, total')]\n",
    "# population = filtered_df.loc[:, '2010'].values[0]"
   ]
  },
  {
   "cell_type": "code",
   "execution_count": 6,
   "id": "4e00e16a",
   "metadata": {},
   "outputs": [
    {
     "ename": "NameError",
     "evalue": "name 'poverty_data' is not defined",
     "output_type": "error",
     "traceback": [
      "\u001b[1;31m---------------------------------------------------------------------------\u001b[0m",
      "\u001b[1;31mNameError\u001b[0m                                 Traceback (most recent call last)",
      "Input \u001b[1;32mIn [6]\u001b[0m, in \u001b[0;36m<cell line: 1>\u001b[1;34m()\u001b[0m\n\u001b[0;32m      1\u001b[0m app\u001b[38;5;241m.\u001b[39mlayout \u001b[38;5;241m=\u001b[39m html\u001b[38;5;241m.\u001b[39mDiv([\n\u001b[0;32m      2\u001b[0m     html\u001b[38;5;241m.\u001b[39mH1(children\u001b[38;5;241m=\u001b[39m\u001b[38;5;124m'\u001b[39m\u001b[38;5;124mHello, World\u001b[39m\u001b[38;5;124m'\u001b[39m,\n\u001b[0;32m      3\u001b[0m            style\u001b[38;5;241m=\u001b[39m{\u001b[38;5;124m'\u001b[39m\u001b[38;5;124mcolor\u001b[39m\u001b[38;5;124m'\u001b[39m:\u001b[38;5;124m'\u001b[39m\u001b[38;5;124mblue\u001b[39m\u001b[38;5;124m'\u001b[39m,\n\u001b[0;32m      4\u001b[0m                  \u001b[38;5;124m'\u001b[39m\u001b[38;5;124mfontSize\u001b[39m\u001b[38;5;124m'\u001b[39m:\u001b[38;5;124m'\u001b[39m\u001b[38;5;124m40px\u001b[39m\u001b[38;5;124m'\u001b[39m,\n\u001b[0;32m      5\u001b[0m                  \u001b[38;5;124m'\u001b[39m\u001b[38;5;124mmarginLeft\u001b[39m\u001b[38;5;124m'\u001b[39m:\u001b[38;5;124m'\u001b[39m\u001b[38;5;124m20\u001b[39m\u001b[38;5;124m%\u001b[39m\u001b[38;5;124m'\u001b[39m}),\n\u001b[0;32m      6\u001b[0m     html\u001b[38;5;241m.\u001b[39mH2(\u001b[38;5;124m'\u001b[39m\u001b[38;5;124mWorld Bank\u001b[39m\u001b[38;5;124m'\u001b[39m),\n\u001b[0;32m      7\u001b[0m     dcc\u001b[38;5;241m.\u001b[39mDropdown(\u001b[38;5;28mid\u001b[39m\u001b[38;5;241m=\u001b[39m\u001b[38;5;124m'\u001b[39m\u001b[38;5;124mcountry\u001b[39m\u001b[38;5;124m'\u001b[39m,\n\u001b[0;32m      8\u001b[0m                  options\u001b[38;5;241m=\u001b[39m[{\u001b[38;5;124m'\u001b[39m\u001b[38;5;124mlabel\u001b[39m\u001b[38;5;124m'\u001b[39m:country,\n\u001b[0;32m      9\u001b[0m                          \u001b[38;5;124m'\u001b[39m\u001b[38;5;124mvalue\u001b[39m\u001b[38;5;124m'\u001b[39m:country}\n\u001b[1;32m---> 10\u001b[0m                 \u001b[38;5;28;01mfor\u001b[39;00m country \u001b[38;5;129;01min\u001b[39;00m \u001b[43mpoverty_data\u001b[49m[\u001b[38;5;124m\"\u001b[39m\u001b[38;5;124mCountry Name\u001b[39m\u001b[38;5;124m\"\u001b[39m]\u001b[38;5;241m.\u001b[39munique()]),\n\u001b[0;32m     11\u001b[0m     html\u001b[38;5;241m.\u001b[39mBr(),\n\u001b[0;32m     12\u001b[0m     html\u001b[38;5;241m.\u001b[39mDiv(\u001b[38;5;28mid\u001b[39m\u001b[38;5;241m=\u001b[39m\u001b[38;5;124m'\u001b[39m\u001b[38;5;124mreport\u001b[39m\u001b[38;5;124m'\u001b[39m),\n\u001b[0;32m     13\u001b[0m     dbc\u001b[38;5;241m.\u001b[39mTabs([\n\u001b[0;32m     14\u001b[0m         dbc\u001b[38;5;241m.\u001b[39mTab([\n\u001b[0;32m     15\u001b[0m             html\u001b[38;5;241m.\u001b[39mUl([\n\u001b[0;32m     16\u001b[0m                 html\u001b[38;5;241m.\u001b[39mLi(\u001b[38;5;124m'\u001b[39m\u001b[38;5;124mEconomies: 170\u001b[39m\u001b[38;5;124m'\u001b[39m),\n\u001b[0;32m     17\u001b[0m                 html\u001b[38;5;241m.\u001b[39mLi(\u001b[38;5;124m'\u001b[39m\u001b[38;5;124mCoverage: 1974-2019\u001b[39m\u001b[38;5;124m'\u001b[39m),\n\u001b[0;32m     18\u001b[0m                 html\u001b[38;5;241m.\u001b[39mLi(\u001b[38;5;124m'\u001b[39m\u001b[38;5;124mUpdates: Quarterly\u001b[39m\u001b[38;5;124m'\u001b[39m),\n\u001b[0;32m     19\u001b[0m                 html\u001b[38;5;241m.\u001b[39mLi(\u001b[38;5;124m'\u001b[39m\u001b[38;5;124mLast Update: March\u001b[39m\u001b[38;5;124m'\u001b[39m),\n\u001b[0;32m     20\u001b[0m                 html\u001b[38;5;241m.\u001b[39mLi([\n\u001b[0;32m     21\u001b[0m                     \u001b[38;5;124m'\u001b[39m\u001b[38;5;124mSource: \u001b[39m\u001b[38;5;124m'\u001b[39m,\n\u001b[0;32m     22\u001b[0m                     html\u001b[38;5;241m.\u001b[39mA(\u001b[38;5;124m'\u001b[39m\u001b[38;5;124mhttps://datacatalog.worldbank.org\u001b[39m\u001b[38;5;124m'\u001b[39m)\n\u001b[0;32m     23\u001b[0m         ])\n\u001b[0;32m     24\u001b[0m         ])\n\u001b[0;32m     25\u001b[0m             \n\u001b[0;32m     26\u001b[0m     ],label\u001b[38;5;241m=\u001b[39m\u001b[38;5;124m'\u001b[39m\u001b[38;5;124mKey Facts\u001b[39m\u001b[38;5;124m'\u001b[39m),\n\u001b[0;32m     27\u001b[0m         dbc\u001b[38;5;241m.\u001b[39mTab([\n\u001b[0;32m     28\u001b[0m                 html\u001b[38;5;241m.\u001b[39mUl([\n\u001b[0;32m     29\u001b[0m                     html\u001b[38;5;241m.\u001b[39mBr(),\n\u001b[0;32m     30\u001b[0m                     html\u001b[38;5;241m.\u001b[39mLi(\u001b[38;5;124m'\u001b[39m\u001b[38;5;124mBooks1\u001b[39m\u001b[38;5;124m'\u001b[39m),\n\u001b[0;32m     31\u001b[0m                     html\u001b[38;5;241m.\u001b[39mLi(\u001b[38;5;124m'\u001b[39m\u001b[38;5;124mBooks2\u001b[39m\u001b[38;5;124m'\u001b[39m)\n\u001b[0;32m     32\u001b[0m                 ])\n\u001b[0;32m     33\u001b[0m             ],label\u001b[38;5;241m=\u001b[39m\u001b[38;5;124m'\u001b[39m\u001b[38;5;124mProject Info\u001b[39m\u001b[38;5;124m'\u001b[39m)\n\u001b[0;32m     34\u001b[0m \n\u001b[0;32m     35\u001b[0m     ])\n\u001b[0;32m     36\u001b[0m ])\n\u001b[0;32m     37\u001b[0m \u001b[38;5;129m@app\u001b[39m\u001b[38;5;241m.\u001b[39mcallback(Output(\u001b[38;5;124m'\u001b[39m\u001b[38;5;124mreport\u001b[39m\u001b[38;5;124m'\u001b[39m,\u001b[38;5;124m'\u001b[39m\u001b[38;5;124mchildren\u001b[39m\u001b[38;5;124m'\u001b[39m),\n\u001b[0;32m     38\u001b[0m              Input(\u001b[38;5;124m'\u001b[39m\u001b[38;5;124mcountry\u001b[39m\u001b[38;5;124m'\u001b[39m,\u001b[38;5;124m'\u001b[39m\u001b[38;5;124mvalue\u001b[39m\u001b[38;5;124m'\u001b[39m))\n\u001b[0;32m     39\u001b[0m \u001b[38;5;28;01mdef\u001b[39;00m \u001b[38;5;21mdisplay_selected_color\u001b[39m(country):\n\u001b[0;32m     40\u001b[0m     \u001b[38;5;28;01mif\u001b[39;00m country \u001b[38;5;129;01mis\u001b[39;00m \u001b[38;5;28;01mNone\u001b[39;00m:\n",
      "\u001b[1;31mNameError\u001b[0m: name 'poverty_data' is not defined"
     ]
    }
   ],
   "source": [
    "app.layout = html.Div([\n",
    "    html.H1(children='Hello, World',\n",
    "           style={'color':'blue',\n",
    "                 'fontSize':'40px',\n",
    "                 'marginLeft':'20%'}),\n",
    "    html.H2('World Bank'),\n",
    "    dcc.Dropdown(id='country',\n",
    "                 options=[{'label':country,\n",
    "                         'value':country}\n",
    "                for country in poverty_data[\"Country Name\"].unique()]),\n",
    "    html.Br(),\n",
    "    html.Div(id='report'),\n",
    "    dbc.Tabs([\n",
    "        dbc.Tab([\n",
    "            html.Ul([\n",
    "                html.Li('Economies: 170'),\n",
    "                html.Li('Coverage: 1974-2019'),\n",
    "                html.Li('Updates: Quarterly'),\n",
    "                html.Li('Last Update: March'),\n",
    "                html.Li([\n",
    "                    'Source: ',\n",
    "                    html.A('https://datacatalog.worldbank.org')\n",
    "        ])\n",
    "        ])\n",
    "            \n",
    "    ],label='Key Facts'),\n",
    "        dbc.Tab([\n",
    "                html.Ul([\n",
    "                    html.Br(),\n",
    "                    html.Li('Books1'),\n",
    "                    html.Li('Books2')\n",
    "                ])\n",
    "            ],label='Project Info')\n",
    "\n",
    "    ])\n",
    "])\n",
    "@app.callback(Output('report','children'),\n",
    "             Input('country','value'))\n",
    "def display_selected_color(country):\n",
    "    if country is None:\n",
    "        return ''\n",
    "    filtered_df = poverty_data[(poverty_data['Country Name']==country) & \n",
    "                              (poverty_data['Indicator Name']=='Population, total')]\n",
    "    population = filtered_df.loc[:, '2010'].values[0]\n",
    "    return [\n",
    "        html.H3(country),\n",
    "        f'The population {country} in 2010 was {population:,.0f}.'\n",
    "    ]"
   ]
  },
  {
   "cell_type": "code",
   "execution_count": 7,
   "id": "07841380",
   "metadata": {},
   "outputs": [
    {
     "ename": "NameError",
     "evalue": "name 'app' is not defined",
     "output_type": "error",
     "traceback": [
      "\u001b[1;31m---------------------------------------------------------------------------\u001b[0m",
      "\u001b[1;31mNameError\u001b[0m                                 Traceback (most recent call last)",
      "Input \u001b[1;32mIn [7]\u001b[0m, in \u001b[0;36m<cell line: 1>\u001b[1;34m()\u001b[0m\n\u001b[1;32m----> 1\u001b[0m \u001b[43mapp\u001b[49m\u001b[38;5;241m.\u001b[39mrun_server(mode\u001b[38;5;241m=\u001b[39m\u001b[38;5;124m\"\u001b[39m\u001b[38;5;124minline\u001b[39m\u001b[38;5;124m\"\u001b[39m,height\u001b[38;5;241m=\u001b[39m\u001b[38;5;241m600\u001b[39m, width\u001b[38;5;241m=\u001b[39m\u001b[38;5;124m'\u001b[39m\u001b[38;5;124m80\u001b[39m\u001b[38;5;124m%\u001b[39m\u001b[38;5;124m'\u001b[39m,port\u001b[38;5;241m=\u001b[39m\u001b[38;5;241m8051\u001b[39m)\n",
      "\u001b[1;31mNameError\u001b[0m: name 'app' is not defined"
     ]
    }
   ],
   "source": [
    "app.run_server(mode=\"inline\",height=600, width='80%',port=8051)"
   ]
  },
  {
   "cell_type": "code",
   "execution_count": null,
   "id": "88307590",
   "metadata": {},
   "outputs": [],
   "source": []
  },
  {
   "cell_type": "code",
   "execution_count": 8,
   "id": "94114dfd",
   "metadata": {},
   "outputs": [],
   "source": [
    "# if __name__=='__main__':\n",
    "#     app.run_server(mode='inline',height=200,width='30%')"
   ]
  },
  {
   "cell_type": "code",
   "execution_count": null,
   "id": "d2fbe27c",
   "metadata": {},
   "outputs": [],
   "source": []
  },
  {
   "cell_type": "code",
   "execution_count": null,
   "id": "4543efbe",
   "metadata": {},
   "outputs": [],
   "source": []
  }
 ],
 "metadata": {
  "kernelspec": {
   "display_name": "Python 3 (ipykernel)",
   "language": "python",
   "name": "python3"
  },
  "language_info": {
   "codemirror_mode": {
    "name": "ipython",
    "version": 3
   },
   "file_extension": ".py",
   "mimetype": "text/x-python",
   "name": "python",
   "nbconvert_exporter": "python",
   "pygments_lexer": "ipython3",
   "version": "3.9.12"
  }
 },
 "nbformat": 4,
 "nbformat_minor": 5
}
