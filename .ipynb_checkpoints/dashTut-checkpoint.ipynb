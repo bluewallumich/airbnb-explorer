{
 "cells": [
  {
   "cell_type": "code",
   "execution_count": 44,
   "id": "b85da86d",
   "metadata": {},
   "outputs": [],
   "source": [
    "from jupyter_dash import JupyterDash"
   ]
  },
  {
   "cell_type": "code",
   "execution_count": 57,
   "id": "8ff52830",
   "metadata": {},
   "outputs": [],
   "source": [
    "import dash\n",
    "import dash_bootstrap_components as dbc\n",
    "from dash import dcc\n",
    "from dash import html\n",
    "import pandas as pd\n"
   ]
  },
  {
   "cell_type": "code",
   "execution_count": 53,
   "id": "e66e178b",
   "metadata": {},
   "outputs": [],
   "source": [
    "JupyterDash.infer_jupyter_proxy_config()"
   ]
  },
  {
   "cell_type": "code",
   "execution_count": 58,
   "id": "b98b51c4",
   "metadata": {},
   "outputs": [],
   "source": [
    "external_stylesheets = [dbc.themes.BOOTSTRAP]\n",
    "app = JupyterDash(__name__,external_stylesheets=external_stylesheets)\n",
    "server = app.server"
   ]
  },
  {
   "cell_type": "code",
   "execution_count": 68,
   "id": "a63f6dcc",
   "metadata": {},
   "outputs": [],
   "source": [
    "app.layout = html.Div([\n",
    "    html.H1(children='Hello, World',\n",
    "           style={'color':'blue',\n",
    "                 'fontSize':'40px',\n",
    "                 'marginLeft':'20%'}),\n",
    "    html.H2('World Bank'),\n",
    "    dbc.Tabs([\n",
    "        dbc.Tab([\n",
    "            html.Ul([\n",
    "                html.Li('Economies: 170'),\n",
    "                html.Li('Coverage: 1974-2019'),\n",
    "                html.Li('Updates: Quarterly'),\n",
    "                html.Li('Last Update: March'),\n",
    "                html.Li([\n",
    "                    'Source: ',\n",
    "                    html.A('https://datacatalog.worldbank.org')\n",
    "        ])\n",
    "        ]),\n",
    "            dbc.Tab([\n",
    "                html.Ul([\n",
    "                    html.Br(),\n",
    "                    html.Li('Books1'),\n",
    "                    html.Li('Books2')\n",
    "                ])\n",
    "            ])\n",
    "    ])\n",
    "#     html.P('Key Facts:'),\n",
    "\n",
    "    ])\n",
    "])"
   ]
  },
  {
   "cell_type": "code",
   "execution_count": 69,
   "id": "cf56ed88",
   "metadata": {},
   "outputs": [
    {
     "data": {
      "text/html": [
       "\n",
       "        <iframe\n",
       "            width=\"100%\"\n",
       "            height=\"650\"\n",
       "            src=\"http://127.0.0.1:8050/\"\n",
       "            frameborder=\"0\"\n",
       "            allowfullscreen\n",
       "            \n",
       "        ></iframe>\n",
       "        "
      ],
      "text/plain": [
       "<IPython.lib.display.IFrame at 0x1a6a368fc40>"
      ]
     },
     "metadata": {},
     "output_type": "display_data"
    }
   ],
   "source": [
    "app.run_server(mode=\"inline\")"
   ]
  },
  {
   "cell_type": "code",
   "execution_count": null,
   "id": "36174e59",
   "metadata": {},
   "outputs": [],
   "source": []
  }
 ],
 "metadata": {
  "kernelspec": {
   "display_name": "Python 3 (ipykernel)",
   "language": "python",
   "name": "python3"
  },
  "language_info": {
   "codemirror_mode": {
    "name": "ipython",
    "version": 3
   },
   "file_extension": ".py",
   "mimetype": "text/x-python",
   "name": "python",
   "nbconvert_exporter": "python",
   "pygments_lexer": "ipython3",
   "version": "3.9.12"
  }
 },
 "nbformat": 4,
 "nbformat_minor": 5
}
