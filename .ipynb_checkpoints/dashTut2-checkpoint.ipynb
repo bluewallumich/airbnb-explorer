{
 "cells": [
  {
   "cell_type": "code",
   "execution_count": null,
   "id": "07ccdfb8",
   "metadata": {},
   "outputs": [],
   "source": [
    "from jupyter_dash import JupyterDash"
   ]
  },
  {
   "cell_type": "code",
   "execution_count": 4,
   "id": "3d34b094",
   "metadata": {},
   "outputs": [],
   "source": [
    "import dash_bootstrap_components as dbc\n",
    "from dash import Dash, dcc, html, Input, Output\n",
    "import pandas as pd\n",
    "\n",
    "import os"
   ]
  },
  {
   "cell_type": "code",
   "execution_count": 6,
   "id": "4297de59",
   "metadata": {},
   "outputs": [
    {
     "ename": "OSError",
     "evalue": "Unable to communicate with the jupyter_dash notebook or JupyterLab \nextension required to infer Jupyter configuration.",
     "output_type": "error",
     "traceback": [
      "\u001b[1;31m---------------------------------------------------------------------------\u001b[0m",
      "\u001b[1;31mOSError\u001b[0m                                   Traceback (most recent call last)",
      "Input \u001b[1;32mIn [5]\u001b[0m, in \u001b[0;36m<cell line: 1>\u001b[1;34m()\u001b[0m\n\u001b[1;32m----> 1\u001b[0m \u001b[43mJupyterDash\u001b[49m\u001b[38;5;241;43m.\u001b[39;49m\u001b[43minfer_jupyter_proxy_config\u001b[49m\u001b[43m(\u001b[49m\u001b[43m)\u001b[49m\n",
      "File \u001b[1;32mC:\\ProgramData\\Anaconda3\\lib\\site-packages\\jupyter_dash\\jupyter_app.py:82\u001b[0m, in \u001b[0;36mJupyterDash.infer_jupyter_proxy_config\u001b[1;34m(cls)\u001b[0m\n\u001b[0;32m     79\u001b[0m     \u001b[38;5;28;01mreturn\u001b[39;00m\n\u001b[0;32m     80\u001b[0m \u001b[38;5;28;01melse\u001b[39;00m:\n\u001b[0;32m     81\u001b[0m     \u001b[38;5;66;03m# Assume classic notebook or JupyterLab\u001b[39;00m\n\u001b[1;32m---> 82\u001b[0m     \u001b[43m_request_jupyter_config\u001b[49m\u001b[43m(\u001b[49m\u001b[43m)\u001b[49m\n",
      "File \u001b[1;32mC:\\ProgramData\\Anaconda3\\lib\\site-packages\\jupyter_dash\\comms.py:72\u001b[0m, in \u001b[0;36m_request_jupyter_config\u001b[1;34m(timeout)\u001b[0m\n\u001b[0;32m     69\u001b[0m \u001b[38;5;28;01mwhile\u001b[39;00m \u001b[38;5;28;01mTrue\u001b[39;00m:\n\u001b[0;32m     70\u001b[0m     \u001b[38;5;28;01mif\u001b[39;00m (time\u001b[38;5;241m.\u001b[39mtime() \u001b[38;5;241m-\u001b[39m t0) \u001b[38;5;241m>\u001b[39m timeout:\n\u001b[0;32m     71\u001b[0m         \u001b[38;5;66;03m# give up\u001b[39;00m\n\u001b[1;32m---> 72\u001b[0m         \u001b[38;5;28;01mraise\u001b[39;00m \u001b[38;5;167;01mEnvironmentError\u001b[39;00m(\n\u001b[0;32m     73\u001b[0m             \u001b[38;5;124m\"\u001b[39m\u001b[38;5;124mUnable to communicate with the jupyter_dash notebook or JupyterLab \u001b[39m\u001b[38;5;130;01m\\n\u001b[39;00m\u001b[38;5;124m\"\u001b[39m\n\u001b[0;32m     74\u001b[0m             \u001b[38;5;124m\"\u001b[39m\u001b[38;5;124mextension required to infer Jupyter configuration.\u001b[39m\u001b[38;5;124m\"\u001b[39m\n\u001b[0;32m     75\u001b[0m         )\n\u001b[0;32m     76\u001b[0m     \u001b[38;5;28;01mif\u001b[39;00m _jupyter_comm_response_received():\n\u001b[0;32m     77\u001b[0m         \u001b[38;5;28;01mbreak\u001b[39;00m\n",
      "\u001b[1;31mOSError\u001b[0m: Unable to communicate with the jupyter_dash notebook or JupyterLab \nextension required to infer Jupyter configuration."
     ]
    }
   ],
   "source": [
    "JupyterDash.infer_jupyter_proxy_config()"
   ]
  },
  {
   "cell_type": "code",
   "execution_count": null,
   "id": "e733436c",
   "metadata": {},
   "outputs": [],
   "source": [
    "external_stylesheets = [dbc.themes.BOOTSTRAP]\n",
    "app = JupyterDash(__name__)\n",
    "# server = app.server"
   ]
  },
  {
   "cell_type": "code",
   "execution_count": null,
   "id": "dd4937d0",
   "metadata": {},
   "outputs": [],
   "source": [
    "os.listdir('data')\n",
    "\n",
    "poverty_data = pd.read_csv('data/PovStatsData.csv')\n",
    "poverty_data.head(3)"
   ]
  },
  {
   "cell_type": "code",
   "execution_count": null,
   "id": "c33f3efd",
   "metadata": {},
   "outputs": [],
   "source": [
    "# dcc.Dropdown(id='country',\n",
    "#             options=[{'label': country,\n",
    "#                      'value':country}\n",
    "#                     for country in poverty_data['Country Name'].unique()])\n",
    "# html.Div(id='report')\n",
    "\n",
    "# if country is None:\n",
    "#     return ''\n",
    "\n",
    "# filtered_df = countrydata[(countrydata['Country Name']==country) & (countrydata['Indicator Name']=='Population, total')]\n",
    "# population = filtered_df.loc[:, '2010'].values[0]"
   ]
  },
  {
   "cell_type": "code",
   "execution_count": null,
   "id": "4e00e16a",
   "metadata": {},
   "outputs": [],
   "source": [
    "app.layout = html.Div([\n",
    "    html.H2('The World Bank'),\n",
    "    dcc.Dropdown(id='country',\n",
    "                 options=[{'label':country,\n",
    "                         'value':country}\n",
    "                for country in poverty_data[\"Country Name\"].unique()]),\n",
    "    html.Br(),\n",
    "    html.Div(id='report'),\n",
    "    dbc.Tabs([\n",
    "        dbc.Tab([\n",
    "            html.Ul([\n",
    "                html.Li('Number of Economies: 170'),\n",
    "                html.Li('Temporal Coverage: 1974 - 2019'),\n",
    "                html.Li('Update Frequency: Quarterly'),\n",
    "                html.Li('Last Updated: March 18, 2020'),\n",
    "                html.Li(['Source: ',\n",
    "                         html.A('https://datacatalog.worldbank.org/dataset/poverty-and-equity-database',\n",
    "                                href='https://datacatalog.worldbank.org/dataset/poverty-and-equity-database')]),\n",
    "        ]),\n",
    "    ],label='Key Facts'),\n",
    "])\n",
    "])\n",
    "\n",
    "@app.callback(Output('report','children'),\n",
    "             Input('country','value'))\n",
    "def display_selected_color(country):\n",
    "    if country is None:\n",
    "        return ''\n",
    "    filtered_df = poverty_data[(poverty_data['Country Name']==country) & \n",
    "                              (poverty_data['Indicator Name']=='Population, total')]\n",
    "    population = filtered_df.loc[:, '2010'].values[0]\n",
    "    return [\n",
    "        html.H3(country),\n",
    "        f'The population {country} in 2010 was {population:,.0f}.'\n",
    "    ]"
   ]
  },
  {
   "cell_type": "code",
   "execution_count": null,
   "id": "07841380",
   "metadata": {},
   "outputs": [],
   "source": [
    "# app.run_server(mode=\"inline\",height=600, width='80%')"
   ]
  },
  {
   "cell_type": "code",
   "execution_count": null,
   "id": "88307590",
   "metadata": {},
   "outputs": [],
   "source": []
  },
  {
   "cell_type": "code",
   "execution_count": null,
   "id": "94114dfd",
   "metadata": {},
   "outputs": [],
   "source": [
    "if __name__=='__main__':\n",
    "    app.run_server(mode='inline',height=200,width='30%')"
   ]
  },
  {
   "cell_type": "code",
   "execution_count": null,
   "id": "d2fbe27c",
   "metadata": {},
   "outputs": [],
   "source": []
  },
  {
   "cell_type": "code",
   "execution_count": null,
   "id": "4543efbe",
   "metadata": {},
   "outputs": [],
   "source": []
  }
 ],
 "metadata": {
  "kernelspec": {
   "display_name": "Python 3 (ipykernel)",
   "language": "python",
   "name": "python3"
  },
  "language_info": {
   "codemirror_mode": {
    "name": "ipython",
    "version": 3
   },
   "file_extension": ".py",
   "mimetype": "text/x-python",
   "name": "python",
   "nbconvert_exporter": "python",
   "pygments_lexer": "ipython3",
   "version": "3.9.12"
  }
 },
 "nbformat": 4,
 "nbformat_minor": 5
}
