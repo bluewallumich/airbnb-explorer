{
 "cells": [
  {
   "cell_type": "code",
   "execution_count": 96,
   "metadata": {},
   "outputs": [],
   "source": [
    "import pandas as pd\n",
    "import numpy as np\n",
    "import matplotlib.pyplot as plt"
   ]
  },
  {
   "cell_type": "markdown",
   "id": "85aa1df5",
   "metadata": {},
   "source": [
    "##### Load Airbnb listing data"
   ]
  },
  {
   "cell_type": "code",
   "execution_count": 97,
   "id": "5dbd33e1",
   "metadata": {},
   "outputs": [
    {
     "name": "stderr",
     "output_type": "stream",
     "text": [
      "/Library/Frameworks/Python.framework/Versions/3.9/lib/python3.9/site-packages/IPython/core/interactiveshell.py:3146: DtypeWarning: Columns (17) have mixed types.Specify dtype option on import or set low_memory=False.\n",
      "  has_raised = await self.run_ast_nodes(code_ast.body, cell_name,\n"
     ]
    }
   ],
   "source": [
    "q3_21 = pd.read_csv(\"../Data_Files/listings _202109.csv\")\n",
    "q4_21 = pd.read_csv(\"../Data_Files/listings_202112.csv\")\n",
    "q1_22 = pd.read_csv(\"../Data_Files/listings_202203.csv\")\n",
    "q2_22 = pd.read_csv(\"../Data_Files/listings _202206.csv\")"
   ]
  },
  {
   "cell_type": "code",
   "execution_count": 98,
   "id": "025c6bca",
   "metadata": {},
   "outputs": [],
   "source": [
    "# combine dataframes\n",
    "airbnb_listings = pd.concat([q3_21, q4_21, q1_22, q2_22])"
   ]
  },
  {
   "cell_type": "code",
   "execution_count": 99,
   "id": "5ced86a1",
   "metadata": {},
   "outputs": [
    {
     "data": {
      "text/html": [
       "<div>\n",
       "<style scoped>\n",
       "    .dataframe tbody tr th:only-of-type {\n",
       "        vertical-align: middle;\n",
       "    }\n",
       "\n",
       "    .dataframe tbody tr th {\n",
       "        vertical-align: top;\n",
       "    }\n",
       "\n",
       "    .dataframe thead th {\n",
       "        text-align: right;\n",
       "    }\n",
       "</style>\n",
       "<table border=\"1\" class=\"dataframe\">\n",
       "  <thead>\n",
       "    <tr style=\"text-align: right;\">\n",
       "      <th></th>\n",
       "      <th>id</th>\n",
       "      <th>name</th>\n",
       "      <th>host_id</th>\n",
       "      <th>host_name</th>\n",
       "      <th>neighbourhood_group</th>\n",
       "      <th>neighbourhood</th>\n",
       "      <th>latitude</th>\n",
       "      <th>longitude</th>\n",
       "      <th>room_type</th>\n",
       "      <th>price</th>\n",
       "      <th>minimum_nights</th>\n",
       "      <th>number_of_reviews</th>\n",
       "      <th>last_review</th>\n",
       "      <th>reviews_per_month</th>\n",
       "      <th>calculated_host_listings_count</th>\n",
       "      <th>availability_365</th>\n",
       "      <th>number_of_reviews_ltm</th>\n",
       "      <th>license</th>\n",
       "    </tr>\n",
       "  </thead>\n",
       "  <tbody>\n",
       "    <tr>\n",
       "      <th>0</th>\n",
       "      <td>2595</td>\n",
       "      <td>Skylit Midtown Castle</td>\n",
       "      <td>2845</td>\n",
       "      <td>Jennifer</td>\n",
       "      <td>Manhattan</td>\n",
       "      <td>Midtown</td>\n",
       "      <td>40.75356</td>\n",
       "      <td>-73.98559</td>\n",
       "      <td>Entire home/apt</td>\n",
       "      <td>150</td>\n",
       "      <td>30</td>\n",
       "      <td>48</td>\n",
       "      <td>2019-11-04</td>\n",
       "      <td>0.33</td>\n",
       "      <td>3</td>\n",
       "      <td>340</td>\n",
       "      <td>0</td>\n",
       "      <td>NaN</td>\n",
       "    </tr>\n",
       "    <tr>\n",
       "      <th>1</th>\n",
       "      <td>3831</td>\n",
       "      <td>Whole flr w/private bdrm, bath &amp; kitchen(pls r...</td>\n",
       "      <td>4869</td>\n",
       "      <td>LisaRoxanne</td>\n",
       "      <td>Brooklyn</td>\n",
       "      <td>Bedford-Stuyvesant</td>\n",
       "      <td>40.68494</td>\n",
       "      <td>-73.95765</td>\n",
       "      <td>Entire home/apt</td>\n",
       "      <td>76</td>\n",
       "      <td>1</td>\n",
       "      <td>408</td>\n",
       "      <td>2021-06-29</td>\n",
       "      <td>5.03</td>\n",
       "      <td>1</td>\n",
       "      <td>208</td>\n",
       "      <td>58</td>\n",
       "      <td>NaN</td>\n",
       "    </tr>\n",
       "    <tr>\n",
       "      <th>2</th>\n",
       "      <td>5121</td>\n",
       "      <td>BlissArtsSpace!</td>\n",
       "      <td>7356</td>\n",
       "      <td>Garon</td>\n",
       "      <td>Brooklyn</td>\n",
       "      <td>Bedford-Stuyvesant</td>\n",
       "      <td>40.68535</td>\n",
       "      <td>-73.95512</td>\n",
       "      <td>Private room</td>\n",
       "      <td>60</td>\n",
       "      <td>30</td>\n",
       "      <td>50</td>\n",
       "      <td>2016-06-05</td>\n",
       "      <td>0.54</td>\n",
       "      <td>1</td>\n",
       "      <td>365</td>\n",
       "      <td>0</td>\n",
       "      <td>NaN</td>\n",
       "    </tr>\n",
       "    <tr>\n",
       "      <th>3</th>\n",
       "      <td>5136</td>\n",
       "      <td>Spacious Brooklyn Duplex, Patio + Garden</td>\n",
       "      <td>7378</td>\n",
       "      <td>Rebecca</td>\n",
       "      <td>Brooklyn</td>\n",
       "      <td>Sunset Park</td>\n",
       "      <td>40.66265</td>\n",
       "      <td>-73.99454</td>\n",
       "      <td>Entire home/apt</td>\n",
       "      <td>275</td>\n",
       "      <td>5</td>\n",
       "      <td>2</td>\n",
       "      <td>2021-08-08</td>\n",
       "      <td>0.02</td>\n",
       "      <td>1</td>\n",
       "      <td>204</td>\n",
       "      <td>1</td>\n",
       "      <td>NaN</td>\n",
       "    </tr>\n",
       "    <tr>\n",
       "      <th>4</th>\n",
       "      <td>5178</td>\n",
       "      <td>Large Furnished Room Near B'way</td>\n",
       "      <td>8967</td>\n",
       "      <td>Shunichi</td>\n",
       "      <td>Manhattan</td>\n",
       "      <td>Midtown</td>\n",
       "      <td>40.76457</td>\n",
       "      <td>-73.98317</td>\n",
       "      <td>Private room</td>\n",
       "      <td>68</td>\n",
       "      <td>2</td>\n",
       "      <td>490</td>\n",
       "      <td>2021-08-14</td>\n",
       "      <td>3.64</td>\n",
       "      <td>1</td>\n",
       "      <td>243</td>\n",
       "      <td>17</td>\n",
       "      <td>NaN</td>\n",
       "    </tr>\n",
       "  </tbody>\n",
       "</table>\n",
       "</div>"
      ],
      "text/plain": [
       "     id                                               name  host_id  \\\n",
       "0  2595                              Skylit Midtown Castle     2845   \n",
       "1  3831  Whole flr w/private bdrm, bath & kitchen(pls r...     4869   \n",
       "2  5121                                    BlissArtsSpace!     7356   \n",
       "3  5136           Spacious Brooklyn Duplex, Patio + Garden     7378   \n",
       "4  5178                   Large Furnished Room Near B'way　     8967   \n",
       "\n",
       "     host_name neighbourhood_group       neighbourhood  latitude  longitude  \\\n",
       "0     Jennifer           Manhattan             Midtown  40.75356  -73.98559   \n",
       "1  LisaRoxanne            Brooklyn  Bedford-Stuyvesant  40.68494  -73.95765   \n",
       "2        Garon            Brooklyn  Bedford-Stuyvesant  40.68535  -73.95512   \n",
       "3      Rebecca            Brooklyn         Sunset Park  40.66265  -73.99454   \n",
       "4     Shunichi           Manhattan             Midtown  40.76457  -73.98317   \n",
       "\n",
       "         room_type  price  minimum_nights  number_of_reviews last_review  \\\n",
       "0  Entire home/apt    150              30                 48  2019-11-04   \n",
       "1  Entire home/apt     76               1                408  2021-06-29   \n",
       "2     Private room     60              30                 50  2016-06-05   \n",
       "3  Entire home/apt    275               5                  2  2021-08-08   \n",
       "4     Private room     68               2                490  2021-08-14   \n",
       "\n",
       "   reviews_per_month  calculated_host_listings_count  availability_365  \\\n",
       "0               0.33                               3               340   \n",
       "1               5.03                               1               208   \n",
       "2               0.54                               1               365   \n",
       "3               0.02                               1               204   \n",
       "4               3.64                               1               243   \n",
       "\n",
       "   number_of_reviews_ltm license  \n",
       "0                      0     NaN  \n",
       "1                     58     NaN  \n",
       "2                      0     NaN  \n",
       "3                      1     NaN  \n",
       "4                     17     NaN  "
      ]
     },
     "execution_count": 99,
     "metadata": {},
     "output_type": "execute_result"
    }
   ],
   "source": [
    "airbnb_listings.head()"
   ]
  },
  {
   "cell_type": "code",
   "execution_count": 100,
   "id": "d8632d1a",
   "metadata": {},
   "outputs": [
    {
     "name": "stdout",
     "output_type": "stream",
     "text": [
      "Total number of rows in airbnb listings: 50957\n",
      "Average number of reviews: 24.32397281700734\n",
      "Average price: 174.24615118376474\n",
      "Average minimum nights: 21.11678569764578\n"
     ]
    }
   ],
   "source": [
    "print(\"Total number of rows in airbnb listings:\", len(airbnb_listings.id.unique()))\n",
    "\n",
    "print(\"Average number of reviews:\", airbnb_listings.number_of_reviews.mean())\n",
    "\n",
    "print(\"Average price:\", airbnb_listings.price.mean())\n",
    "\n",
    "print(\"Average minimum nights:\", airbnb_listings.minimum_nights.mean())"
   ]
  },
  {
   "cell_type": "code",
   "execution_count": 101,
   "id": "88dc737c",
   "metadata": {},
   "outputs": [
    {
     "data": {
      "text/html": [
       "<div>\n",
       "<style scoped>\n",
       "    .dataframe tbody tr th:only-of-type {\n",
       "        vertical-align: middle;\n",
       "    }\n",
       "\n",
       "    .dataframe tbody tr th {\n",
       "        vertical-align: top;\n",
       "    }\n",
       "\n",
       "    .dataframe thead th {\n",
       "        text-align: right;\n",
       "    }\n",
       "</style>\n",
       "<table border=\"1\" class=\"dataframe\">\n",
       "  <thead>\n",
       "    <tr style=\"text-align: right;\">\n",
       "      <th></th>\n",
       "      <th>neighbourhood</th>\n",
       "      <th>neighborhood_count</th>\n",
       "    </tr>\n",
       "  </thead>\n",
       "  <tbody>\n",
       "    <tr>\n",
       "      <th>12</th>\n",
       "      <td>Bedford-Stuyvesant</td>\n",
       "      <td>10919</td>\n",
       "    </tr>\n",
       "    <tr>\n",
       "      <th>238</th>\n",
       "      <td>Williamsburg</td>\n",
       "      <td>9972</td>\n",
       "    </tr>\n",
       "    <tr>\n",
       "      <th>109</th>\n",
       "      <td>Harlem</td>\n",
       "      <td>7574</td>\n",
       "    </tr>\n",
       "    <tr>\n",
       "      <th>30</th>\n",
       "      <td>Bushwick</td>\n",
       "      <td>6568</td>\n",
       "    </tr>\n",
       "    <tr>\n",
       "      <th>110</th>\n",
       "      <td>Hell's Kitchen</td>\n",
       "      <td>6523</td>\n",
       "    </tr>\n",
       "  </tbody>\n",
       "</table>\n",
       "</div>"
      ],
      "text/plain": [
       "          neighbourhood  neighborhood_count\n",
       "12   Bedford-Stuyvesant               10919\n",
       "238        Williamsburg                9972\n",
       "109              Harlem                7574\n",
       "30             Bushwick                6568\n",
       "110      Hell's Kitchen                6523"
      ]
     },
     "execution_count": 101,
     "metadata": {},
     "output_type": "execute_result"
    }
   ],
   "source": [
    "# show count of listings in each neighborhood\n",
    "neighborhood_count = airbnb_listings.groupby(\"neighbourhood\").size().reset_index(name=\"neighborhood_count\").sort_values(\"neighborhood_count\", ascending=False)\n",
    "\n",
    "neighborhood_count.head()"
   ]
  },
  {
   "cell_type": "code",
   "execution_count": 102,
   "id": "d223d292",
   "metadata": {},
   "outputs": [],
   "source": [
    "neighborhood_topten = neighborhood_count.head(10)"
   ]
  },
  {
   "cell_type": "code",
   "execution_count": 140,
   "id": "b962cb89",
   "metadata": {},
   "outputs": [],
   "source": [
    "### visualize neighbourhood counts\n",
    "# set size of visualization\n",
    "plt.figure(figsize=(20,6))\n",
    "\n",
    "# plot data\n",
    "bars = plt.bar(neighborhood_topten.neighbourhood, neighborhood_topten.neighborhood_count)\n",
    "\n",
    "# show value labels\n",
    "plt.bar_label(bars)\n",
    "\n",
    "# create y label\n",
    "plt.ylabel(\"count\", size=12)\n",
    "\n",
    "# displaying the title\n",
    "plt.title(\"Neighborhood count for NYC Airbnb listings Q3 2021-Q2 2022\", size=15)\n",
    "\n",
    "plt.show()"
   ]
  },
  {
   "cell_type": "code",
   "execution_count": 104,
   "id": "00db8232",
   "metadata": {},
   "outputs": [
    {
     "data": {
      "text/html": [
       "<div>\n",
       "<style scoped>\n",
       "    .dataframe tbody tr th:only-of-type {\n",
       "        vertical-align: middle;\n",
       "    }\n",
       "\n",
       "    .dataframe tbody tr th {\n",
       "        vertical-align: top;\n",
       "    }\n",
       "\n",
       "    .dataframe thead th {\n",
       "        text-align: right;\n",
       "    }\n",
       "</style>\n",
       "<table border=\"1\" class=\"dataframe\">\n",
       "  <thead>\n",
       "    <tr style=\"text-align: right;\">\n",
       "      <th></th>\n",
       "      <th>neighbourhood_group</th>\n",
       "      <th>neighbourhood_g_count</th>\n",
       "    </tr>\n",
       "  </thead>\n",
       "  <tbody>\n",
       "    <tr>\n",
       "      <th>2</th>\n",
       "      <td>Manhattan</td>\n",
       "      <td>64964</td>\n",
       "    </tr>\n",
       "    <tr>\n",
       "      <th>1</th>\n",
       "      <td>Brooklyn</td>\n",
       "      <td>57429</td>\n",
       "    </tr>\n",
       "    <tr>\n",
       "      <th>3</th>\n",
       "      <td>Queens</td>\n",
       "      <td>21737</td>\n",
       "    </tr>\n",
       "    <tr>\n",
       "      <th>0</th>\n",
       "      <td>Bronx</td>\n",
       "      <td>4709</td>\n",
       "    </tr>\n",
       "    <tr>\n",
       "      <th>4</th>\n",
       "      <td>Staten Island</td>\n",
       "      <td>1402</td>\n",
       "    </tr>\n",
       "  </tbody>\n",
       "</table>\n",
       "</div>"
      ],
      "text/plain": [
       "  neighbourhood_group  neighbourhood_g_count\n",
       "2           Manhattan                  64964\n",
       "1            Brooklyn                  57429\n",
       "3              Queens                  21737\n",
       "0               Bronx                   4709\n",
       "4       Staten Island                   1402"
      ]
     },
     "execution_count": 104,
     "metadata": {},
     "output_type": "execute_result"
    }
   ],
   "source": [
    "# show count of listings in each borough\n",
    "neighbourhood_g_count = airbnb_listings.groupby(\"neighbourhood_group\").size().reset_index(name=\"neighbourhood_g_count\").sort_values(\"neighbourhood_g_count\", ascending=False)\n",
    "\n",
    "neighbourhood_g_count.head()"
   ]
  },
  {
   "cell_type": "code",
   "execution_count": 105,
   "id": "8acf1481",
   "metadata": {},
   "outputs": [],
   "source": [
    "neighbourhood_g_topten = neighbourhood_g_count.head(10)"
   ]
  },
  {
   "cell_type": "code",
   "execution_count": 139,
   "id": "65f0ee9d",
   "metadata": {},
   "outputs": [],
   "source": [
    "### visualize borough counts\n",
    "# set size of visualization\n",
    "plt.figure(figsize=(10,6))\n",
    "\n",
    "# plot data\n",
    "bars = plt.bar(neighbourhood_g_topten.neighbourhood_group, neighbourhood_g_topten.neighbourhood_g_count)\n",
    "\n",
    "# show value labels\n",
    "plt.bar_label(bars)\n",
    "\n",
    "# create y label\n",
    "plt.ylabel(\"count\", size=10)\n",
    "\n",
    "# displaying the title\n",
    "plt.title(\"Neighbourhood Group count for NYC Airbnb listings Q3 2021-Q2 2022\", size=14)\n",
    "\n",
    "plt.show()"
   ]
  },
  {
   "cell_type": "code",
   "execution_count": 107,
   "id": "1d2e7e3d",
   "metadata": {},
   "outputs": [
    {
     "data": {
      "text/html": [
       "<div>\n",
       "<style scoped>\n",
       "    .dataframe tbody tr th:only-of-type {\n",
       "        vertical-align: middle;\n",
       "    }\n",
       "\n",
       "    .dataframe tbody tr th {\n",
       "        vertical-align: top;\n",
       "    }\n",
       "\n",
       "    .dataframe thead th {\n",
       "        text-align: right;\n",
       "    }\n",
       "</style>\n",
       "<table border=\"1\" class=\"dataframe\">\n",
       "  <thead>\n",
       "    <tr style=\"text-align: right;\">\n",
       "      <th></th>\n",
       "      <th>room_type</th>\n",
       "      <th>room_type_count</th>\n",
       "    </tr>\n",
       "  </thead>\n",
       "  <tbody>\n",
       "    <tr>\n",
       "      <th>0</th>\n",
       "      <td>Entire home/apt</td>\n",
       "      <td>81527</td>\n",
       "    </tr>\n",
       "    <tr>\n",
       "      <th>2</th>\n",
       "      <td>Private room</td>\n",
       "      <td>65614</td>\n",
       "    </tr>\n",
       "    <tr>\n",
       "      <th>3</th>\n",
       "      <td>Shared room</td>\n",
       "      <td>2239</td>\n",
       "    </tr>\n",
       "    <tr>\n",
       "      <th>1</th>\n",
       "      <td>Hotel room</td>\n",
       "      <td>861</td>\n",
       "    </tr>\n",
       "  </tbody>\n",
       "</table>\n",
       "</div>"
      ],
      "text/plain": [
       "         room_type  room_type_count\n",
       "0  Entire home/apt            81527\n",
       "2     Private room            65614\n",
       "3      Shared room             2239\n",
       "1       Hotel room              861"
      ]
     },
     "execution_count": 107,
     "metadata": {},
     "output_type": "execute_result"
    }
   ],
   "source": [
    "# show count of listings in types of rooms available\n",
    "room_type_count = airbnb_listings.groupby(\"room_type\").size().reset_index(name=\"room_type_count\").sort_values(\"room_type_count\", ascending=False)\n",
    "\n",
    "room_type_count.head()"
   ]
  },
  {
   "cell_type": "code",
   "execution_count": 108,
   "id": "ede73201",
   "metadata": {},
   "outputs": [],
   "source": [
    "room_type_topfive = room_type_count"
   ]
  },
  {
   "cell_type": "code",
   "execution_count": 137,
   "id": "7a5dbb67",
   "metadata": {},
   "outputs": [],
   "source": [
    "### visualize room type counts\n",
    "# set size of visualization\n",
    "plt.figure(figsize=(8,6))\n",
    "\n",
    "# plot data\n",
    "bars = plt.bar(room_type_topfive.room_type, room_type_topfive.room_type_count)\n",
    "\n",
    "# show value labels\n",
    "plt.bar_label(bars)\n",
    "\n",
    "# create y label\n",
    "plt.ylabel(\"count\", size=10)\n",
    "\n",
    "# displaying the title\n",
    "plt.title(\"Room type count for NYC Airbnb listings Q3 2021-Q2 2022\", size=14)\n",
    "\n",
    "plt.show()"
   ]
  },
  {
   "cell_type": "markdown",
   "id": "e1d11a46",
   "metadata": {},
   "source": [
    "##### Load Airbnb Calendar data"
   ]
  },
  {
   "cell_type": "code",
   "execution_count": 110,
   "id": "b7956946",
   "metadata": {},
   "outputs": [],
   "source": [
    "## these file were too large for GitHub. Data can be downloaded from http://insideairbnb.com/get-the-data/\n",
    "## file to download: calendar.csv.gz\n",
    "\n",
    "q2_22_cal = pd.read_csv(\"../Data_Files/calendar_nyc_q2_2022.csv.gz\", compression=\"gzip\", header=0, sep=\",\")\n",
    "q1_22_cal = pd.read_csv(\"../Data_Files/calendar_nyc_q1_2022.csv.gz\", compression=\"gzip\", header=0, sep=\",\")\n",
    "q4_21_cal = pd.read_csv(\"../Data_Files/calendar_nyc_q4_2021.csv.gz\", compression=\"gzip\", header=0, sep=\",\")\n",
    "q3_21_cal = pd.read_csv(\"../Data_Files/calendar_nyc_q3_2021.csv.gz\", compression=\"gzip\", header=0, sep=\",\")"
   ]
  },
  {
   "cell_type": "code",
   "execution_count": 111,
   "id": "7dbcf9d6",
   "metadata": {},
   "outputs": [],
   "source": [
    "# combine dataframes\n",
    "airbnb_cal = pd.concat([q3_21_cal, q4_21_cal, q1_22_cal, q2_22_cal])"
   ]
  },
  {
   "cell_type": "code",
   "execution_count": 112,
   "id": "0b6ce620",
   "metadata": {},
   "outputs": [
    {
     "name": "stdout",
     "output_type": "stream",
     "text": [
      "Total number of rows in airbnb calendar listings: 54812865\n"
     ]
    }
   ],
   "source": [
    "print(\"Total number of rows in airbnb calendar listings:\", len(airbnb_cal))"
   ]
  },
  {
   "cell_type": "code",
   "execution_count": 113,
   "id": "fbd2396e",
   "metadata": {},
   "outputs": [
    {
     "name": "stdout",
     "output_type": "stream",
     "text": [
      "Start date is: 2021-09-01\n",
      "End date is: 2023-06-03\n"
     ]
    }
   ],
   "source": [
    "print(\"Start date is:\", airbnb_cal.date.min())\n",
    "print(\"End date is:\", airbnb_cal.date.max())"
   ]
  },
  {
   "cell_type": "markdown",
   "id": "2ec385d5",
   "metadata": {},
   "source": [
    "#### Clean price column and summarize mean"
   ]
  },
  {
   "cell_type": "code",
   "execution_count": 114,
   "id": "ea5ff767",
   "metadata": {},
   "outputs": [
    {
     "data": {
      "text/html": [
       "<div>\n",
       "<style scoped>\n",
       "    .dataframe tbody tr th:only-of-type {\n",
       "        vertical-align: middle;\n",
       "    }\n",
       "\n",
       "    .dataframe tbody tr th {\n",
       "        vertical-align: top;\n",
       "    }\n",
       "\n",
       "    .dataframe thead th {\n",
       "        text-align: right;\n",
       "    }\n",
       "</style>\n",
       "<table border=\"1\" class=\"dataframe\">\n",
       "  <thead>\n",
       "    <tr style=\"text-align: right;\">\n",
       "      <th></th>\n",
       "      <th>listing_id</th>\n",
       "      <th>date</th>\n",
       "      <th>available</th>\n",
       "      <th>price</th>\n",
       "      <th>adjusted_price</th>\n",
       "      <th>minimum_nights</th>\n",
       "      <th>maximum_nights</th>\n",
       "    </tr>\n",
       "  </thead>\n",
       "  <tbody>\n",
       "    <tr>\n",
       "      <th>0</th>\n",
       "      <td>57754</td>\n",
       "      <td>2021-09-02</td>\n",
       "      <td>f</td>\n",
       "      <td>285.0</td>\n",
       "      <td>$285.00</td>\n",
       "      <td>2.0</td>\n",
       "      <td>7.0</td>\n",
       "    </tr>\n",
       "    <tr>\n",
       "      <th>1</th>\n",
       "      <td>2595</td>\n",
       "      <td>2021-09-02</td>\n",
       "      <td>f</td>\n",
       "      <td>150.0</td>\n",
       "      <td>$150.00</td>\n",
       "      <td>30.0</td>\n",
       "      <td>1125.0</td>\n",
       "    </tr>\n",
       "    <tr>\n",
       "      <th>2</th>\n",
       "      <td>2595</td>\n",
       "      <td>2021-09-03</td>\n",
       "      <td>f</td>\n",
       "      <td>150.0</td>\n",
       "      <td>$150.00</td>\n",
       "      <td>30.0</td>\n",
       "      <td>1125.0</td>\n",
       "    </tr>\n",
       "    <tr>\n",
       "      <th>3</th>\n",
       "      <td>2595</td>\n",
       "      <td>2021-09-04</td>\n",
       "      <td>f</td>\n",
       "      <td>150.0</td>\n",
       "      <td>$150.00</td>\n",
       "      <td>30.0</td>\n",
       "      <td>1125.0</td>\n",
       "    </tr>\n",
       "    <tr>\n",
       "      <th>4</th>\n",
       "      <td>2595</td>\n",
       "      <td>2021-09-05</td>\n",
       "      <td>f</td>\n",
       "      <td>150.0</td>\n",
       "      <td>$150.00</td>\n",
       "      <td>30.0</td>\n",
       "      <td>1125.0</td>\n",
       "    </tr>\n",
       "  </tbody>\n",
       "</table>\n",
       "</div>"
      ],
      "text/plain": [
       "   listing_id       date available  price adjusted_price  minimum_nights  \\\n",
       "0       57754 2021-09-02         f  285.0        $285.00             2.0   \n",
       "1        2595 2021-09-02         f  150.0        $150.00            30.0   \n",
       "2        2595 2021-09-03         f  150.0        $150.00            30.0   \n",
       "3        2595 2021-09-04         f  150.0        $150.00            30.0   \n",
       "4        2595 2021-09-05         f  150.0        $150.00            30.0   \n",
       "\n",
       "   maximum_nights  \n",
       "0             7.0  \n",
       "1          1125.0  \n",
       "2          1125.0  \n",
       "3          1125.0  \n",
       "4          1125.0  "
      ]
     },
     "execution_count": 114,
     "metadata": {},
     "output_type": "execute_result"
    }
   ],
   "source": [
    "# remove na in price column\n",
    "airbnb_cal = airbnb_cal[airbnb_cal.price.notna()]\n",
    "\n",
    "# clean price column\n",
    "new_price = [ p.replace(\"$\", \"\").replace(\",\", \"\") for p in airbnb_cal.price ]\n",
    "\n",
    "# apply clean prices\n",
    "airbnb_cal.price = new_price\n",
    "\n",
    "# round price to 2 decimals\n",
    "airbnb_cal.price = round(airbnb_cal.price.astype(\"float\"), 2)\n",
    "\n",
    "# remove records where price = 0\n",
    "airbnb_cal = airbnb_cal[airbnb_cal.price > 0]\n",
    "\n",
    "# cast to date\n",
    "airbnb_cal['date'] = pd.to_datetime(airbnb_cal['date'])\n",
    "\n",
    "airbnb_cal.head()"
   ]
  },
  {
   "cell_type": "code",
   "execution_count": 115,
   "id": "bb1cbeb7",
   "metadata": {},
   "outputs": [
    {
     "name": "stdout",
     "output_type": "stream",
     "text": [
      "Average price is: 177.54264295780425\n",
      "Minimum price is: 4.0\n",
      "Maximum price is: 48800.0\n"
     ]
    }
   ],
   "source": [
    "print(\"Average price is:\", airbnb_cal.price.mean())\n",
    "print(\"Minimum price is:\", airbnb_cal.price.min())\n",
    "print(\"Maximum price is:\", airbnb_cal.price.max())"
   ]
  },
  {
   "cell_type": "code",
   "execution_count": 116,
   "id": "b50c4493",
   "metadata": {},
   "outputs": [
    {
     "data": {
      "text/plain": [
       "count    54784802.0000\n",
       "mean          177.5426\n",
       "std           336.5264\n",
       "min             4.0000\n",
       "25%            70.0000\n",
       "50%           120.0000\n",
       "75%           195.0000\n",
       "max         48800.0000\n",
       "Name: price, dtype: object"
      ]
     },
     "execution_count": 116,
     "metadata": {},
     "output_type": "execute_result"
    }
   ],
   "source": [
    "# show price statistics\n",
    "airbnb_cal.price.describe().apply(\"{0:.4f}\".format)"
   ]
  },
  {
   "cell_type": "code",
   "execution_count": 117,
   "id": "9c8e86e0",
   "metadata": {},
   "outputs": [],
   "source": [
    "# summarize mean price\n",
    "airbnb_price_day = airbnb_cal.groupby(\"date\")[\"price\"].mean().reset_index(name=\"mean_price\")\n",
    "\n",
    "# round mean price to 2 decimals\n",
    "airbnb_price_day.mean_price = round(airbnb_price_day.mean_price, 2)"
   ]
  },
  {
   "cell_type": "code",
   "execution_count": 118,
   "id": "434e7b68",
   "metadata": {},
   "outputs": [
    {
     "data": {
      "text/html": [
       "<div>\n",
       "<style scoped>\n",
       "    .dataframe tbody tr th:only-of-type {\n",
       "        vertical-align: middle;\n",
       "    }\n",
       "\n",
       "    .dataframe tbody tr th {\n",
       "        vertical-align: top;\n",
       "    }\n",
       "\n",
       "    .dataframe thead th {\n",
       "        text-align: right;\n",
       "    }\n",
       "</style>\n",
       "<table border=\"1\" class=\"dataframe\">\n",
       "  <thead>\n",
       "    <tr style=\"text-align: right;\">\n",
       "      <th></th>\n",
       "      <th>date</th>\n",
       "      <th>mean_price</th>\n",
       "    </tr>\n",
       "  </thead>\n",
       "  <tbody>\n",
       "    <tr>\n",
       "      <th>0</th>\n",
       "      <td>2021-09-01</td>\n",
       "      <td>138.77</td>\n",
       "    </tr>\n",
       "    <tr>\n",
       "      <th>1</th>\n",
       "      <td>2021-09-02</td>\n",
       "      <td>177.37</td>\n",
       "    </tr>\n",
       "    <tr>\n",
       "      <th>2</th>\n",
       "      <td>2021-09-03</td>\n",
       "      <td>178.99</td>\n",
       "    </tr>\n",
       "    <tr>\n",
       "      <th>3</th>\n",
       "      <td>2021-09-04</td>\n",
       "      <td>180.16</td>\n",
       "    </tr>\n",
       "    <tr>\n",
       "      <th>4</th>\n",
       "      <td>2021-09-05</td>\n",
       "      <td>175.62</td>\n",
       "    </tr>\n",
       "  </tbody>\n",
       "</table>\n",
       "</div>"
      ],
      "text/plain": [
       "        date  mean_price\n",
       "0 2021-09-01      138.77\n",
       "1 2021-09-02      177.37\n",
       "2 2021-09-03      178.99\n",
       "3 2021-09-04      180.16\n",
       "4 2021-09-05      175.62"
      ]
     },
     "execution_count": 118,
     "metadata": {},
     "output_type": "execute_result"
    }
   ],
   "source": [
    "airbnb_price_day.head()"
   ]
  },
  {
   "cell_type": "code",
   "execution_count": 119,
   "id": "b4b3d499",
   "metadata": {},
   "outputs": [
    {
     "data": {
      "text/html": [
       "<div>\n",
       "<style scoped>\n",
       "    .dataframe tbody tr th:only-of-type {\n",
       "        vertical-align: middle;\n",
       "    }\n",
       "\n",
       "    .dataframe tbody tr th {\n",
       "        vertical-align: top;\n",
       "    }\n",
       "\n",
       "    .dataframe thead th {\n",
       "        text-align: right;\n",
       "    }\n",
       "</style>\n",
       "<table border=\"1\" class=\"dataframe\">\n",
       "  <thead>\n",
       "    <tr style=\"text-align: right;\">\n",
       "      <th></th>\n",
       "      <th>date</th>\n",
       "      <th>mean_price</th>\n",
       "    </tr>\n",
       "  </thead>\n",
       "  <tbody>\n",
       "    <tr>\n",
       "      <th>636</th>\n",
       "      <td>2023-05-30</td>\n",
       "      <td>199.74</td>\n",
       "    </tr>\n",
       "    <tr>\n",
       "      <th>637</th>\n",
       "      <td>2023-05-31</td>\n",
       "      <td>199.82</td>\n",
       "    </tr>\n",
       "    <tr>\n",
       "      <th>638</th>\n",
       "      <td>2023-06-01</td>\n",
       "      <td>202.00</td>\n",
       "    </tr>\n",
       "    <tr>\n",
       "      <th>639</th>\n",
       "      <td>2023-06-02</td>\n",
       "      <td>206.48</td>\n",
       "    </tr>\n",
       "    <tr>\n",
       "      <th>640</th>\n",
       "      <td>2023-06-03</td>\n",
       "      <td>194.80</td>\n",
       "    </tr>\n",
       "  </tbody>\n",
       "</table>\n",
       "</div>"
      ],
      "text/plain": [
       "          date  mean_price\n",
       "636 2023-05-30      199.74\n",
       "637 2023-05-31      199.82\n",
       "638 2023-06-01      202.00\n",
       "639 2023-06-02      206.48\n",
       "640 2023-06-03      194.80"
      ]
     },
     "execution_count": 119,
     "metadata": {},
     "output_type": "execute_result"
    }
   ],
   "source": [
    "airbnb_price_day.tail()"
   ]
  },
  {
   "cell_type": "code",
   "execution_count": 120,
   "id": "3ba5a73a",
   "metadata": {},
   "outputs": [],
   "source": [
    "# get top ten most expensive days\n",
    "price_topten = airbnb_price_day.sort_values(\"mean_price\", ascending=False).head(10)"
   ]
  },
  {
   "cell_type": "code",
   "execution_count": 121,
   "id": "344748bf",
   "metadata": {},
   "outputs": [
    {
     "data": {
      "text/html": [
       "<div>\n",
       "<style scoped>\n",
       "    .dataframe tbody tr th:only-of-type {\n",
       "        vertical-align: middle;\n",
       "    }\n",
       "\n",
       "    .dataframe tbody tr th {\n",
       "        vertical-align: top;\n",
       "    }\n",
       "\n",
       "    .dataframe thead th {\n",
       "        text-align: right;\n",
       "    }\n",
       "</style>\n",
       "<table border=\"1\" class=\"dataframe\">\n",
       "  <thead>\n",
       "    <tr style=\"text-align: right;\">\n",
       "      <th></th>\n",
       "      <th>date</th>\n",
       "      <th>mean_price</th>\n",
       "    </tr>\n",
       "  </thead>\n",
       "  <tbody>\n",
       "    <tr>\n",
       "      <th>639</th>\n",
       "      <td>2023-06-02</td>\n",
       "      <td>206.48</td>\n",
       "    </tr>\n",
       "    <tr>\n",
       "      <th>633</th>\n",
       "      <td>2023-05-27</td>\n",
       "      <td>205.42</td>\n",
       "    </tr>\n",
       "    <tr>\n",
       "      <th>632</th>\n",
       "      <td>2023-05-26</td>\n",
       "      <td>205.20</td>\n",
       "    </tr>\n",
       "    <tr>\n",
       "      <th>626</th>\n",
       "      <td>2023-05-20</td>\n",
       "      <td>204.90</td>\n",
       "    </tr>\n",
       "    <tr>\n",
       "      <th>625</th>\n",
       "      <td>2023-05-19</td>\n",
       "      <td>204.69</td>\n",
       "    </tr>\n",
       "    <tr>\n",
       "      <th>618</th>\n",
       "      <td>2023-05-12</td>\n",
       "      <td>203.46</td>\n",
       "    </tr>\n",
       "    <tr>\n",
       "      <th>619</th>\n",
       "      <td>2023-05-13</td>\n",
       "      <td>203.28</td>\n",
       "    </tr>\n",
       "    <tr>\n",
       "      <th>612</th>\n",
       "      <td>2023-05-06</td>\n",
       "      <td>203.14</td>\n",
       "    </tr>\n",
       "    <tr>\n",
       "      <th>611</th>\n",
       "      <td>2023-05-05</td>\n",
       "      <td>202.91</td>\n",
       "    </tr>\n",
       "    <tr>\n",
       "      <th>638</th>\n",
       "      <td>2023-06-01</td>\n",
       "      <td>202.00</td>\n",
       "    </tr>\n",
       "  </tbody>\n",
       "</table>\n",
       "</div>"
      ],
      "text/plain": [
       "          date  mean_price\n",
       "639 2023-06-02      206.48\n",
       "633 2023-05-27      205.42\n",
       "632 2023-05-26      205.20\n",
       "626 2023-05-20      204.90\n",
       "625 2023-05-19      204.69\n",
       "618 2023-05-12      203.46\n",
       "619 2023-05-13      203.28\n",
       "612 2023-05-06      203.14\n",
       "611 2023-05-05      202.91\n",
       "638 2023-06-01      202.00"
      ]
     },
     "execution_count": 121,
     "metadata": {},
     "output_type": "execute_result"
    }
   ],
   "source": [
    "price_topten"
   ]
  },
  {
   "cell_type": "markdown",
   "id": "fbd887b1",
   "metadata": {},
   "source": [
    "#### Visualize mean price by day"
   ]
  },
  {
   "cell_type": "code",
   "execution_count": 136,
   "id": "95b145d1",
   "metadata": {},
   "outputs": [],
   "source": [
    "# set size of visualization\n",
    "plt.figure(figsize=(15,6))\n",
    "\n",
    "# plot data\n",
    "plt.plot(airbnb_price_day.date, airbnb_price_day.mean_price, label=\"mean_price\")\n",
    "\n",
    "# display legend\n",
    "plt.legend(loc=\"upper left\")\n",
    "\n",
    "# create y label\n",
    "plt.ylabel(\"Price ($)\", size=12)\n",
    "\n",
    "# displaying the title\n",
    "plt.title(\"Daily mean price for NYC Airbnb listings Q3 2021-Q2 2022\", size=15)\n",
    "\n",
    "plt.show()"
   ]
  },
  {
   "cell_type": "markdown",
   "id": "5d5e70a5",
   "metadata": {},
   "source": [
    "#### Calculate rolling average"
   ]
  },
  {
   "cell_type": "code",
   "execution_count": 123,
   "id": "bed00226",
   "metadata": {},
   "outputs": [],
   "source": [
    "# function to create rolling average given a window size\n",
    "def calc_rolling_stats(ser, wd_size=7) : return ser.rolling(wd_size, min_periods=1).mean().to_numpy()"
   ]
  },
  {
   "cell_type": "code",
   "execution_count": 124,
   "id": "bc689708",
   "metadata": {},
   "outputs": [],
   "source": [
    "# calculate rolling average on 7 day window\n",
    "rolling_mean = calc_rolling_stats(airbnb_price_day, wd_size=7)"
   ]
  },
  {
   "cell_type": "code",
   "execution_count": 125,
   "id": "ecdb51df",
   "metadata": {},
   "outputs": [
    {
     "data": {
      "text/plain": [
       "(641, 1)"
      ]
     },
     "execution_count": 125,
     "metadata": {},
     "output_type": "execute_result"
    }
   ],
   "source": [
    "# see shape of rolling means\n",
    "rolling_mean.shape"
   ]
  },
  {
   "cell_type": "markdown",
   "id": "8bf91738",
   "metadata": {},
   "source": [
    "#### Plot daily mean + rolling average prices"
   ]
  },
  {
   "cell_type": "code",
   "execution_count": 134,
   "id": "120a29ec",
   "metadata": {},
   "outputs": [],
   "source": [
    "# set size of visualization\n",
    "fig, ax = plt.subplots(figsize=(20, 10))\n",
    "\n",
    "# plot daily mean price\n",
    "ax.plot(airbnb_price_day.date, airbnb_price_day.mean_price, color='red', label=\"mean_price\")\n",
    "\n",
    "# plot rolling mean\n",
    "ax.plot(airbnb_price_day.date, pd.Series(rolling_mean.reshape(641,)), color='blue', label=\"rolling_mean\")\n",
    "\n",
    "# create y label\n",
    "ax.set_ylabel(\"Price ($)\", size=12)\n",
    "\n",
    "# display legend\n",
    "plt.legend(loc=\"upper left\")\n",
    "\n",
    "# displaying the title\n",
    "plt.title(\"Daily mean price & rolling mean for NYC Airbnb listings Q3 2021-Q2 2022\", size=15)\n",
    "\n",
    "# plt.show()"
   ]
  },
  {
   "cell_type": "code",
   "execution_count": 127,
   "id": "a37eaeaa",
   "metadata": {},
   "outputs": [
    {
     "data": {
      "text/html": [
       "<div>\n",
       "<style scoped>\n",
       "    .dataframe tbody tr th:only-of-type {\n",
       "        vertical-align: middle;\n",
       "    }\n",
       "\n",
       "    .dataframe tbody tr th {\n",
       "        vertical-align: top;\n",
       "    }\n",
       "\n",
       "    .dataframe thead th {\n",
       "        text-align: right;\n",
       "    }\n",
       "</style>\n",
       "<table border=\"1\" class=\"dataframe\">\n",
       "  <thead>\n",
       "    <tr style=\"text-align: right;\">\n",
       "      <th></th>\n",
       "      <th>date</th>\n",
       "      <th>mean_price</th>\n",
       "    </tr>\n",
       "  </thead>\n",
       "  <tbody>\n",
       "    <tr>\n",
       "      <th>0</th>\n",
       "      <td>2021-09-01</td>\n",
       "      <td>138.77</td>\n",
       "    </tr>\n",
       "    <tr>\n",
       "      <th>1</th>\n",
       "      <td>2021-09-02</td>\n",
       "      <td>177.37</td>\n",
       "    </tr>\n",
       "    <tr>\n",
       "      <th>2</th>\n",
       "      <td>2021-09-03</td>\n",
       "      <td>178.99</td>\n",
       "    </tr>\n",
       "    <tr>\n",
       "      <th>3</th>\n",
       "      <td>2021-09-04</td>\n",
       "      <td>180.16</td>\n",
       "    </tr>\n",
       "    <tr>\n",
       "      <th>4</th>\n",
       "      <td>2021-09-05</td>\n",
       "      <td>175.62</td>\n",
       "    </tr>\n",
       "    <tr>\n",
       "      <th>...</th>\n",
       "      <td>...</td>\n",
       "      <td>...</td>\n",
       "    </tr>\n",
       "    <tr>\n",
       "      <th>636</th>\n",
       "      <td>2023-05-30</td>\n",
       "      <td>199.74</td>\n",
       "    </tr>\n",
       "    <tr>\n",
       "      <th>637</th>\n",
       "      <td>2023-05-31</td>\n",
       "      <td>199.82</td>\n",
       "    </tr>\n",
       "    <tr>\n",
       "      <th>638</th>\n",
       "      <td>2023-06-01</td>\n",
       "      <td>202.00</td>\n",
       "    </tr>\n",
       "    <tr>\n",
       "      <th>639</th>\n",
       "      <td>2023-06-02</td>\n",
       "      <td>206.48</td>\n",
       "    </tr>\n",
       "    <tr>\n",
       "      <th>640</th>\n",
       "      <td>2023-06-03</td>\n",
       "      <td>194.80</td>\n",
       "    </tr>\n",
       "  </tbody>\n",
       "</table>\n",
       "<p>641 rows × 2 columns</p>\n",
       "</div>"
      ],
      "text/plain": [
       "          date  mean_price\n",
       "0   2021-09-01      138.77\n",
       "1   2021-09-02      177.37\n",
       "2   2021-09-03      178.99\n",
       "3   2021-09-04      180.16\n",
       "4   2021-09-05      175.62\n",
       "..         ...         ...\n",
       "636 2023-05-30      199.74\n",
       "637 2023-05-31      199.82\n",
       "638 2023-06-01      202.00\n",
       "639 2023-06-02      206.48\n",
       "640 2023-06-03      194.80\n",
       "\n",
       "[641 rows x 2 columns]"
      ]
     },
     "execution_count": 127,
     "metadata": {},
     "output_type": "execute_result"
    }
   ],
   "source": [
    "airbnb_price_day"
   ]
  },
  {
   "cell_type": "markdown",
   "id": "05720462",
   "metadata": {},
   "source": [
    "#### Combine listing & calendar data for Manhattan neighborhood groups"
   ]
  },
  {
   "cell_type": "code",
   "execution_count": 128,
   "id": "20916cd3",
   "metadata": {},
   "outputs": [
    {
     "data": {
      "text/html": [
       "<div>\n",
       "<style scoped>\n",
       "    .dataframe tbody tr th:only-of-type {\n",
       "        vertical-align: middle;\n",
       "    }\n",
       "\n",
       "    .dataframe tbody tr th {\n",
       "        vertical-align: top;\n",
       "    }\n",
       "\n",
       "    .dataframe thead th {\n",
       "        text-align: right;\n",
       "    }\n",
       "</style>\n",
       "<table border=\"1\" class=\"dataframe\">\n",
       "  <thead>\n",
       "    <tr style=\"text-align: right;\">\n",
       "      <th></th>\n",
       "      <th>listing_id</th>\n",
       "      <th>date</th>\n",
       "      <th>available</th>\n",
       "      <th>price</th>\n",
       "      <th>adjusted_price</th>\n",
       "      <th>minimum_nights</th>\n",
       "      <th>maximum_nights</th>\n",
       "    </tr>\n",
       "  </thead>\n",
       "  <tbody>\n",
       "    <tr>\n",
       "      <th>0</th>\n",
       "      <td>57754</td>\n",
       "      <td>2021-09-02</td>\n",
       "      <td>f</td>\n",
       "      <td>285.0</td>\n",
       "      <td>$285.00</td>\n",
       "      <td>2.0</td>\n",
       "      <td>7.0</td>\n",
       "    </tr>\n",
       "    <tr>\n",
       "      <th>1</th>\n",
       "      <td>2595</td>\n",
       "      <td>2021-09-02</td>\n",
       "      <td>f</td>\n",
       "      <td>150.0</td>\n",
       "      <td>$150.00</td>\n",
       "      <td>30.0</td>\n",
       "      <td>1125.0</td>\n",
       "    </tr>\n",
       "    <tr>\n",
       "      <th>2</th>\n",
       "      <td>2595</td>\n",
       "      <td>2021-09-03</td>\n",
       "      <td>f</td>\n",
       "      <td>150.0</td>\n",
       "      <td>$150.00</td>\n",
       "      <td>30.0</td>\n",
       "      <td>1125.0</td>\n",
       "    </tr>\n",
       "    <tr>\n",
       "      <th>3</th>\n",
       "      <td>2595</td>\n",
       "      <td>2021-09-04</td>\n",
       "      <td>f</td>\n",
       "      <td>150.0</td>\n",
       "      <td>$150.00</td>\n",
       "      <td>30.0</td>\n",
       "      <td>1125.0</td>\n",
       "    </tr>\n",
       "    <tr>\n",
       "      <th>4</th>\n",
       "      <td>2595</td>\n",
       "      <td>2021-09-05</td>\n",
       "      <td>f</td>\n",
       "      <td>150.0</td>\n",
       "      <td>$150.00</td>\n",
       "      <td>30.0</td>\n",
       "      <td>1125.0</td>\n",
       "    </tr>\n",
       "  </tbody>\n",
       "</table>\n",
       "</div>"
      ],
      "text/plain": [
       "   listing_id       date available  price adjusted_price  minimum_nights  \\\n",
       "0       57754 2021-09-02         f  285.0        $285.00             2.0   \n",
       "1        2595 2021-09-02         f  150.0        $150.00            30.0   \n",
       "2        2595 2021-09-03         f  150.0        $150.00            30.0   \n",
       "3        2595 2021-09-04         f  150.0        $150.00            30.0   \n",
       "4        2595 2021-09-05         f  150.0        $150.00            30.0   \n",
       "\n",
       "   maximum_nights  \n",
       "0             7.0  \n",
       "1          1125.0  \n",
       "2          1125.0  \n",
       "3          1125.0  \n",
       "4          1125.0  "
      ]
     },
     "execution_count": 128,
     "metadata": {},
     "output_type": "execute_result"
    }
   ],
   "source": [
    "airbnb_cal.head()"
   ]
  },
  {
   "cell_type": "code",
   "execution_count": 129,
   "id": "3ac537ea",
   "metadata": {},
   "outputs": [],
   "source": [
    "# filter for relevant columns in airbnb_cal\n",
    "airbnb_cal = airbnb_cal[[\"listing_id\", \"date\", \"price\"]]"
   ]
  },
  {
   "cell_type": "code",
   "execution_count": 130,
   "id": "15e4ab4c",
   "metadata": {},
   "outputs": [],
   "source": [
    "# filter for Manhattan listings\n",
    "manhattan_listings = airbnb_listings[airbnb_listings.neighbourhood_group == \"Manhattan\"]\n",
    "\n",
    "# filter for relevant columns in airbnb_listings\n",
    "manhattan_listings_cut = airbnb_listings[[\"id\", \"neighbourhood_group\", \"neighbourhood\"]]\n",
    "\n",
    "# join calendar data onto Manhattan listings\n",
    "manhattan_cal = airbnb_cal.merge(manhattan_listings_cut, how=\"inner\", left_on=\"listing_id\", right_on=\"id\")"
   ]
  },
  {
   "cell_type": "code",
   "execution_count": 131,
   "id": "1405f8e8",
   "metadata": {},
   "outputs": [
    {
     "data": {
      "text/html": [
       "<div>\n",
       "<style scoped>\n",
       "    .dataframe tbody tr th:only-of-type {\n",
       "        vertical-align: middle;\n",
       "    }\n",
       "\n",
       "    .dataframe tbody tr th {\n",
       "        vertical-align: top;\n",
       "    }\n",
       "\n",
       "    .dataframe thead th {\n",
       "        text-align: right;\n",
       "    }\n",
       "</style>\n",
       "<table border=\"1\" class=\"dataframe\">\n",
       "  <thead>\n",
       "    <tr style=\"text-align: right;\">\n",
       "      <th></th>\n",
       "      <th>listing_id</th>\n",
       "      <th>date</th>\n",
       "      <th>price</th>\n",
       "      <th>id</th>\n",
       "      <th>neighbourhood_group</th>\n",
       "      <th>neighbourhood</th>\n",
       "    </tr>\n",
       "  </thead>\n",
       "  <tbody>\n",
       "    <tr>\n",
       "      <th>0</th>\n",
       "      <td>57754</td>\n",
       "      <td>2021-09-02</td>\n",
       "      <td>285.0</td>\n",
       "      <td>57754</td>\n",
       "      <td>Manhattan</td>\n",
       "      <td>Flatiron District</td>\n",
       "    </tr>\n",
       "    <tr>\n",
       "      <th>1</th>\n",
       "      <td>57754</td>\n",
       "      <td>2021-09-02</td>\n",
       "      <td>285.0</td>\n",
       "      <td>57754</td>\n",
       "      <td>Manhattan</td>\n",
       "      <td>Flatiron District</td>\n",
       "    </tr>\n",
       "    <tr>\n",
       "      <th>2</th>\n",
       "      <td>57754</td>\n",
       "      <td>2021-09-02</td>\n",
       "      <td>285.0</td>\n",
       "      <td>57754</td>\n",
       "      <td>Manhattan</td>\n",
       "      <td>Flatiron District</td>\n",
       "    </tr>\n",
       "    <tr>\n",
       "      <th>3</th>\n",
       "      <td>57754</td>\n",
       "      <td>2021-09-02</td>\n",
       "      <td>285.0</td>\n",
       "      <td>57754</td>\n",
       "      <td>Manhattan</td>\n",
       "      <td>Flatiron District</td>\n",
       "    </tr>\n",
       "    <tr>\n",
       "      <th>4</th>\n",
       "      <td>57754</td>\n",
       "      <td>2021-09-03</td>\n",
       "      <td>285.0</td>\n",
       "      <td>57754</td>\n",
       "      <td>Manhattan</td>\n",
       "      <td>Flatiron District</td>\n",
       "    </tr>\n",
       "  </tbody>\n",
       "</table>\n",
       "</div>"
      ],
      "text/plain": [
       "   listing_id       date  price     id neighbourhood_group      neighbourhood\n",
       "0       57754 2021-09-02  285.0  57754           Manhattan  Flatiron District\n",
       "1       57754 2021-09-02  285.0  57754           Manhattan  Flatiron District\n",
       "2       57754 2021-09-02  285.0  57754           Manhattan  Flatiron District\n",
       "3       57754 2021-09-02  285.0  57754           Manhattan  Flatiron District\n",
       "4       57754 2021-09-03  285.0  57754           Manhattan  Flatiron District"
      ]
     },
     "execution_count": 131,
     "metadata": {},
     "output_type": "execute_result"
    }
   ],
   "source": [
    "manhattan_cal.head()"
   ]
  },
  {
   "cell_type": "code",
   "execution_count": 132,
   "id": "2b1d3fbc",
   "metadata": {},
   "outputs": [
    {
     "name": "stdout",
     "output_type": "stream",
     "text": [
      "Average daily price in Manhattan: 176.55595263968075\n"
     ]
    }
   ],
   "source": [
    "print(\"Average daily price in Manhattan:\", manhattan_cal.price.mean())"
   ]
  },
  {
   "cell_type": "code",
   "execution_count": 133,
   "id": "5a493aa8",
   "metadata": {},
   "outputs": [
    {
     "data": {
      "text/html": [
       "<div>\n",
       "<style scoped>\n",
       "    .dataframe tbody tr th:only-of-type {\n",
       "        vertical-align: middle;\n",
       "    }\n",
       "\n",
       "    .dataframe tbody tr th {\n",
       "        vertical-align: top;\n",
       "    }\n",
       "\n",
       "    .dataframe thead th {\n",
       "        text-align: right;\n",
       "    }\n",
       "</style>\n",
       "<table border=\"1\" class=\"dataframe\">\n",
       "  <thead>\n",
       "    <tr style=\"text-align: right;\">\n",
       "      <th></th>\n",
       "      <th>neighbourhood</th>\n",
       "      <th>mean_price</th>\n",
       "    </tr>\n",
       "  </thead>\n",
       "  <tbody>\n",
       "    <tr>\n",
       "      <th>93</th>\n",
       "      <td>Fort Wadsworth</td>\n",
       "      <td>738.219178</td>\n",
       "    </tr>\n",
       "    <tr>\n",
       "      <th>121</th>\n",
       "      <td>Jamaica Estates</td>\n",
       "      <td>566.692022</td>\n",
       "    </tr>\n",
       "    <tr>\n",
       "      <th>180</th>\n",
       "      <td>Prospect Park</td>\n",
       "      <td>531.045010</td>\n",
       "    </tr>\n",
       "    <tr>\n",
       "      <th>220</th>\n",
       "      <td>Tribeca</td>\n",
       "      <td>502.722058</td>\n",
       "    </tr>\n",
       "    <tr>\n",
       "      <th>22</th>\n",
       "      <td>Briarwood</td>\n",
       "      <td>423.990124</td>\n",
       "    </tr>\n",
       "    <tr>\n",
       "      <th>...</th>\n",
       "      <td>...</td>\n",
       "      <td>...</td>\n",
       "    </tr>\n",
       "    <tr>\n",
       "      <th>26</th>\n",
       "      <td>Bronxdale</td>\n",
       "      <td>62.396147</td>\n",
       "    </tr>\n",
       "    <tr>\n",
       "      <th>202</th>\n",
       "      <td>Soundview</td>\n",
       "      <td>62.381840</td>\n",
       "    </tr>\n",
       "    <tr>\n",
       "      <th>101</th>\n",
       "      <td>Graniteville</td>\n",
       "      <td>62.255804</td>\n",
       "    </tr>\n",
       "    <tr>\n",
       "      <th>29</th>\n",
       "      <td>Bull's Head</td>\n",
       "      <td>60.900274</td>\n",
       "    </tr>\n",
       "    <tr>\n",
       "      <th>102</th>\n",
       "      <td>Grant City</td>\n",
       "      <td>57.643277</td>\n",
       "    </tr>\n",
       "  </tbody>\n",
       "</table>\n",
       "<p>245 rows × 2 columns</p>\n",
       "</div>"
      ],
      "text/plain": [
       "       neighbourhood  mean_price\n",
       "93    Fort Wadsworth  738.219178\n",
       "121  Jamaica Estates  566.692022\n",
       "180    Prospect Park  531.045010\n",
       "220          Tribeca  502.722058\n",
       "22         Briarwood  423.990124\n",
       "..               ...         ...\n",
       "26         Bronxdale   62.396147\n",
       "202        Soundview   62.381840\n",
       "101     Graniteville   62.255804\n",
       "29       Bull's Head   60.900274\n",
       "102       Grant City   57.643277\n",
       "\n",
       "[245 rows x 2 columns]"
      ]
     },
     "execution_count": 133,
     "metadata": {},
     "output_type": "execute_result"
    }
   ],
   "source": [
    "manhattan_cal.groupby(\"neighbourhood\")[\"price\"].mean().reset_index(name=\"mean_price\").sort_values(\"mean_price\", ascending=False)"
   ]
  },
  {
   "cell_type": "code",
   "execution_count": null,
   "id": "12502552",
   "metadata": {},
   "outputs": [],
   "source": []
  }
 ],
 "metadata": {
  "kernelspec": {
   "display_name": "Python 3.9.1 64-bit",
   "language": "python",
   "name": "python3"
  },
  "language_info": {
   "codemirror_mode": {
    "name": "ipython",
    "version": 3
   },
   "file_extension": ".py",
   "mimetype": "text/x-python",
   "name": "python",
   "nbconvert_exporter": "python",
   "pygments_lexer": "ipython3",
   "version": "3.9.1"
  },
  "vscode": {
   "interpreter": {
    "hash": "397704579725e15f5c7cb49fe5f0341eb7531c82d19f2c29d197e8b64ab5776b"
   }
  }
 },
 "nbformat": 4,
 "nbformat_minor": 5
}
