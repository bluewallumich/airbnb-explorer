{
 "cells": [
  {
   "cell_type": "code",
   "execution_count": 1,
   "metadata": {},
   "outputs": [],
   "source": [
    "import pandas as pd\n",
    "import numpy as np\n",
    "import matplotlib.pyplot as plt\n",
    "# import seaborn as sns"
   ]
  },
  {
   "cell_type": "markdown",
   "id": "85aa1df5",
   "metadata": {},
   "source": [
    "##### Load Airbnb listing data"
   ]
  },
  {
   "cell_type": "code",
   "execution_count": 3,
   "id": "5dbd33e1",
   "metadata": {},
   "outputs": [],
   "source": [
    "q3_21 = pd.read_csv(\"../Data_Files/listings _202109.csv\")\n",
    "q4_21 = pd.read_csv(\"../Data_Files/listings_202112.csv\")\n",
    "q1_22 = pd.read_csv(\"../Data_Files/listings_202203.csv\")\n",
    "q2_22 = pd.read_csv(\"../Data_Files/listings _202206.csv\")"
   ]
  },
  {
   "cell_type": "code",
   "execution_count": 49,
   "id": "025c6bca",
   "metadata": {},
   "outputs": [],
   "source": [
    "# combine dataframes\n",
    "airbnb_listings = pd.concat([q3_21, q4_21, q1_22, q2_22])"
   ]
  },
  {
   "cell_type": "code",
   "execution_count": 83,
   "id": "d8632d1a",
   "metadata": {},
   "outputs": [
    {
     "name": "stdout",
     "output_type": "stream",
     "text": [
      "Total number of rows in airbnb listings: 150241\n"
     ]
    }
   ],
   "source": [
    "print(\"Total number of rows in airbnb listings:\", len(airbnb_listings))"
   ]
  },
  {
   "cell_type": "code",
   "execution_count": 85,
   "id": "d15a1572",
   "metadata": {},
   "outputs": [
    {
     "data": {
      "text/html": [
       "<div>\n",
       "<style scoped>\n",
       "    .dataframe tbody tr th:only-of-type {\n",
       "        vertical-align: middle;\n",
       "    }\n",
       "\n",
       "    .dataframe tbody tr th {\n",
       "        vertical-align: top;\n",
       "    }\n",
       "\n",
       "    .dataframe thead th {\n",
       "        text-align: right;\n",
       "    }\n",
       "</style>\n",
       "<table border=\"1\" class=\"dataframe\">\n",
       "  <thead>\n",
       "    <tr style=\"text-align: right;\">\n",
       "      <th></th>\n",
       "      <th>id</th>\n",
       "      <th>name</th>\n",
       "      <th>host_id</th>\n",
       "      <th>host_name</th>\n",
       "      <th>neighbourhood_group</th>\n",
       "      <th>neighbourhood</th>\n",
       "      <th>latitude</th>\n",
       "      <th>longitude</th>\n",
       "      <th>room_type</th>\n",
       "      <th>price</th>\n",
       "      <th>minimum_nights</th>\n",
       "      <th>number_of_reviews</th>\n",
       "      <th>last_review</th>\n",
       "      <th>reviews_per_month</th>\n",
       "      <th>calculated_host_listings_count</th>\n",
       "      <th>availability_365</th>\n",
       "      <th>number_of_reviews_ltm</th>\n",
       "      <th>license</th>\n",
       "    </tr>\n",
       "  </thead>\n",
       "  <tbody>\n",
       "    <tr>\n",
       "      <th>0</th>\n",
       "      <td>2595</td>\n",
       "      <td>Skylit Midtown Castle</td>\n",
       "      <td>2845</td>\n",
       "      <td>Jennifer</td>\n",
       "      <td>Manhattan</td>\n",
       "      <td>Midtown</td>\n",
       "      <td>40.75356</td>\n",
       "      <td>-73.98559</td>\n",
       "      <td>Entire home/apt</td>\n",
       "      <td>150</td>\n",
       "      <td>30</td>\n",
       "      <td>48</td>\n",
       "      <td>2019-11-04</td>\n",
       "      <td>0.33</td>\n",
       "      <td>3</td>\n",
       "      <td>340</td>\n",
       "      <td>0</td>\n",
       "      <td>NaN</td>\n",
       "    </tr>\n",
       "    <tr>\n",
       "      <th>1</th>\n",
       "      <td>3831</td>\n",
       "      <td>Whole flr w/private bdrm, bath &amp; kitchen(pls r...</td>\n",
       "      <td>4869</td>\n",
       "      <td>LisaRoxanne</td>\n",
       "      <td>Brooklyn</td>\n",
       "      <td>Bedford-Stuyvesant</td>\n",
       "      <td>40.68494</td>\n",
       "      <td>-73.95765</td>\n",
       "      <td>Entire home/apt</td>\n",
       "      <td>76</td>\n",
       "      <td>1</td>\n",
       "      <td>408</td>\n",
       "      <td>2021-06-29</td>\n",
       "      <td>5.03</td>\n",
       "      <td>1</td>\n",
       "      <td>208</td>\n",
       "      <td>58</td>\n",
       "      <td>NaN</td>\n",
       "    </tr>\n",
       "    <tr>\n",
       "      <th>2</th>\n",
       "      <td>5121</td>\n",
       "      <td>BlissArtsSpace!</td>\n",
       "      <td>7356</td>\n",
       "      <td>Garon</td>\n",
       "      <td>Brooklyn</td>\n",
       "      <td>Bedford-Stuyvesant</td>\n",
       "      <td>40.68535</td>\n",
       "      <td>-73.95512</td>\n",
       "      <td>Private room</td>\n",
       "      <td>60</td>\n",
       "      <td>30</td>\n",
       "      <td>50</td>\n",
       "      <td>2016-06-05</td>\n",
       "      <td>0.54</td>\n",
       "      <td>1</td>\n",
       "      <td>365</td>\n",
       "      <td>0</td>\n",
       "      <td>NaN</td>\n",
       "    </tr>\n",
       "    <tr>\n",
       "      <th>3</th>\n",
       "      <td>5136</td>\n",
       "      <td>Spacious Brooklyn Duplex, Patio + Garden</td>\n",
       "      <td>7378</td>\n",
       "      <td>Rebecca</td>\n",
       "      <td>Brooklyn</td>\n",
       "      <td>Sunset Park</td>\n",
       "      <td>40.66265</td>\n",
       "      <td>-73.99454</td>\n",
       "      <td>Entire home/apt</td>\n",
       "      <td>275</td>\n",
       "      <td>5</td>\n",
       "      <td>2</td>\n",
       "      <td>2021-08-08</td>\n",
       "      <td>0.02</td>\n",
       "      <td>1</td>\n",
       "      <td>204</td>\n",
       "      <td>1</td>\n",
       "      <td>NaN</td>\n",
       "    </tr>\n",
       "    <tr>\n",
       "      <th>4</th>\n",
       "      <td>5178</td>\n",
       "      <td>Large Furnished Room Near B'way</td>\n",
       "      <td>8967</td>\n",
       "      <td>Shunichi</td>\n",
       "      <td>Manhattan</td>\n",
       "      <td>Midtown</td>\n",
       "      <td>40.76457</td>\n",
       "      <td>-73.98317</td>\n",
       "      <td>Private room</td>\n",
       "      <td>68</td>\n",
       "      <td>2</td>\n",
       "      <td>490</td>\n",
       "      <td>2021-08-14</td>\n",
       "      <td>3.64</td>\n",
       "      <td>1</td>\n",
       "      <td>243</td>\n",
       "      <td>17</td>\n",
       "      <td>NaN</td>\n",
       "    </tr>\n",
       "  </tbody>\n",
       "</table>\n",
       "</div>"
      ],
      "text/plain": [
       "     id                                               name  host_id  \\\n",
       "0  2595                              Skylit Midtown Castle     2845   \n",
       "1  3831  Whole flr w/private bdrm, bath & kitchen(pls r...     4869   \n",
       "2  5121                                    BlissArtsSpace!     7356   \n",
       "3  5136           Spacious Brooklyn Duplex, Patio + Garden     7378   \n",
       "4  5178                   Large Furnished Room Near B'way　     8967   \n",
       "\n",
       "     host_name neighbourhood_group       neighbourhood  latitude  longitude  \\\n",
       "0     Jennifer           Manhattan             Midtown  40.75356  -73.98559   \n",
       "1  LisaRoxanne            Brooklyn  Bedford-Stuyvesant  40.68494  -73.95765   \n",
       "2        Garon            Brooklyn  Bedford-Stuyvesant  40.68535  -73.95512   \n",
       "3      Rebecca            Brooklyn         Sunset Park  40.66265  -73.99454   \n",
       "4     Shunichi           Manhattan             Midtown  40.76457  -73.98317   \n",
       "\n",
       "         room_type  price  minimum_nights  number_of_reviews last_review  \\\n",
       "0  Entire home/apt    150              30                 48  2019-11-04   \n",
       "1  Entire home/apt     76               1                408  2021-06-29   \n",
       "2     Private room     60              30                 50  2016-06-05   \n",
       "3  Entire home/apt    275               5                  2  2021-08-08   \n",
       "4     Private room     68               2                490  2021-08-14   \n",
       "\n",
       "   reviews_per_month  calculated_host_listings_count  availability_365  \\\n",
       "0               0.33                               3               340   \n",
       "1               5.03                               1               208   \n",
       "2               0.54                               1               365   \n",
       "3               0.02                               1               204   \n",
       "4               3.64                               1               243   \n",
       "\n",
       "   number_of_reviews_ltm license  \n",
       "0                      0     NaN  \n",
       "1                     58     NaN  \n",
       "2                      0     NaN  \n",
       "3                      1     NaN  \n",
       "4                     17     NaN  "
      ]
     },
     "execution_count": 85,
     "metadata": {},
     "output_type": "execute_result"
    }
   ],
   "source": [
    "airbnb_listings.head()"
   ]
  },
  {
   "cell_type": "markdown",
   "id": "e1d11a46",
   "metadata": {},
   "source": [
    "##### Load Airbnb Calendar data"
   ]
  },
  {
   "cell_type": "code",
   "execution_count": 10,
   "id": "b7956946",
   "metadata": {},
   "outputs": [],
   "source": [
    "q2_22_cal = pd.read_csv(\"../Data_Files/calendar_nyc_q2_2022.csv.gz\", compression=\"gzip\", header=0, sep=\",\")\n",
    "q1_22_cal = pd.read_csv(\"../Data_Files/calendar_nyc_q1_2022.csv.gz\", compression=\"gzip\", header=0, sep=\",\")\n",
    "q4_21_cal = pd.read_csv(\"../Data_Files/calendar_nyc_q4_2021.csv.gz\", compression=\"gzip\", header=0, sep=\",\")\n",
    "q3_21_cal = pd.read_csv(\"../Data_Files/calendar_nyc_q3_2021.csv.gz\", compression=\"gzip\", header=0, sep=\",\")"
   ]
  },
  {
   "cell_type": "code",
   "execution_count": 51,
   "id": "7dbcf9d6",
   "metadata": {},
   "outputs": [],
   "source": [
    "# combine dataframes\n",
    "airbnb_cal = pd.concat([q3_21_cal, q4_21_cal, q1_22_cal, q2_22_cal])"
   ]
  },
  {
   "cell_type": "code",
   "execution_count": 86,
   "id": "0b6ce620",
   "metadata": {},
   "outputs": [
    {
     "name": "stdout",
     "output_type": "stream",
     "text": [
      "Total number of rows in airbnb calendar listings: 54784802\n"
     ]
    }
   ],
   "source": [
    "print(\"Total number of rows in airbnb calendar listings:\", len(airbnb_cal))"
   ]
  },
  {
   "cell_type": "code",
   "execution_count": 46,
   "id": "fbd2396e",
   "metadata": {},
   "outputs": [
    {
     "name": "stdout",
     "output_type": "stream",
     "text": [
      "Start date is: 2021-09-01 00:00:00\n",
      "End date is: 2023-06-03 00:00:00\n"
     ]
    }
   ],
   "source": [
    "print(\"Start date is:\", airbnb_cal.date.min())\n",
    "print(\"End date is:\", airbnb_cal.date.max())"
   ]
  },
  {
   "cell_type": "markdown",
   "id": "2ec385d5",
   "metadata": {},
   "source": [
    "#### Clean price column and summarize mean"
   ]
  },
  {
   "cell_type": "code",
   "execution_count": 52,
   "id": "ea5ff767",
   "metadata": {},
   "outputs": [
    {
     "data": {
      "text/html": [
       "<div>\n",
       "<style scoped>\n",
       "    .dataframe tbody tr th:only-of-type {\n",
       "        vertical-align: middle;\n",
       "    }\n",
       "\n",
       "    .dataframe tbody tr th {\n",
       "        vertical-align: top;\n",
       "    }\n",
       "\n",
       "    .dataframe thead th {\n",
       "        text-align: right;\n",
       "    }\n",
       "</style>\n",
       "<table border=\"1\" class=\"dataframe\">\n",
       "  <thead>\n",
       "    <tr style=\"text-align: right;\">\n",
       "      <th></th>\n",
       "      <th>listing_id</th>\n",
       "      <th>date</th>\n",
       "      <th>available</th>\n",
       "      <th>price</th>\n",
       "      <th>adjusted_price</th>\n",
       "      <th>minimum_nights</th>\n",
       "      <th>maximum_nights</th>\n",
       "    </tr>\n",
       "  </thead>\n",
       "  <tbody>\n",
       "    <tr>\n",
       "      <th>0</th>\n",
       "      <td>57754</td>\n",
       "      <td>2021-09-02</td>\n",
       "      <td>f</td>\n",
       "      <td>285.0</td>\n",
       "      <td>$285.00</td>\n",
       "      <td>2.0</td>\n",
       "      <td>7.0</td>\n",
       "    </tr>\n",
       "    <tr>\n",
       "      <th>1</th>\n",
       "      <td>2595</td>\n",
       "      <td>2021-09-02</td>\n",
       "      <td>f</td>\n",
       "      <td>150.0</td>\n",
       "      <td>$150.00</td>\n",
       "      <td>30.0</td>\n",
       "      <td>1125.0</td>\n",
       "    </tr>\n",
       "    <tr>\n",
       "      <th>2</th>\n",
       "      <td>2595</td>\n",
       "      <td>2021-09-03</td>\n",
       "      <td>f</td>\n",
       "      <td>150.0</td>\n",
       "      <td>$150.00</td>\n",
       "      <td>30.0</td>\n",
       "      <td>1125.0</td>\n",
       "    </tr>\n",
       "    <tr>\n",
       "      <th>3</th>\n",
       "      <td>2595</td>\n",
       "      <td>2021-09-04</td>\n",
       "      <td>f</td>\n",
       "      <td>150.0</td>\n",
       "      <td>$150.00</td>\n",
       "      <td>30.0</td>\n",
       "      <td>1125.0</td>\n",
       "    </tr>\n",
       "    <tr>\n",
       "      <th>4</th>\n",
       "      <td>2595</td>\n",
       "      <td>2021-09-05</td>\n",
       "      <td>f</td>\n",
       "      <td>150.0</td>\n",
       "      <td>$150.00</td>\n",
       "      <td>30.0</td>\n",
       "      <td>1125.0</td>\n",
       "    </tr>\n",
       "  </tbody>\n",
       "</table>\n",
       "</div>"
      ],
      "text/plain": [
       "   listing_id       date available  price adjusted_price  minimum_nights  \\\n",
       "0       57754 2021-09-02         f  285.0        $285.00             2.0   \n",
       "1        2595 2021-09-02         f  150.0        $150.00            30.0   \n",
       "2        2595 2021-09-03         f  150.0        $150.00            30.0   \n",
       "3        2595 2021-09-04         f  150.0        $150.00            30.0   \n",
       "4        2595 2021-09-05         f  150.0        $150.00            30.0   \n",
       "\n",
       "   maximum_nights  \n",
       "0             7.0  \n",
       "1          1125.0  \n",
       "2          1125.0  \n",
       "3          1125.0  \n",
       "4          1125.0  "
      ]
     },
     "execution_count": 52,
     "metadata": {},
     "output_type": "execute_result"
    }
   ],
   "source": [
    "# remove na in price column\n",
    "airbnb_cal = airbnb_cal[airbnb_cal.price.notna()]\n",
    "\n",
    "# clean price column\n",
    "new_price = [ p.replace(\"$\", \"\").replace(\",\", \"\") for p in airbnb_cal.price ]\n",
    "\n",
    "# apply clean prices\n",
    "airbnb_cal.price = new_price\n",
    "\n",
    "# round price to 2 decimals\n",
    "airbnb_cal.price = round(airbnb_cal.price.astype(\"float\"), 2)\n",
    "\n",
    "# remove records where price = 0\n",
    "airbnb_cal = airbnb_cal[airbnb_cal.price > 0]\n",
    "\n",
    "# cast to date\n",
    "airbnb_cal['date'] = pd.to_datetime(airbnb_cal['date'])\n",
    "\n",
    "airbnb_cal.head()"
   ]
  },
  {
   "cell_type": "code",
   "execution_count": 56,
   "id": "b50c4493",
   "metadata": {},
   "outputs": [
    {
     "data": {
      "text/plain": [
       "count    54784802.0000\n",
       "mean          177.5426\n",
       "std           336.5264\n",
       "min             4.0000\n",
       "25%            70.0000\n",
       "50%           120.0000\n",
       "75%           195.0000\n",
       "max         48800.0000\n",
       "Name: price, dtype: object"
      ]
     },
     "execution_count": 56,
     "metadata": {},
     "output_type": "execute_result"
    }
   ],
   "source": [
    "# show price statistics\n",
    "airbnb_cal.price.describe().apply(\"{0:.4f}\".format)"
   ]
  },
  {
   "cell_type": "code",
   "execution_count": 58,
   "id": "9c8e86e0",
   "metadata": {},
   "outputs": [],
   "source": [
    "# summarize mean price\n",
    "airbnb_price_day = airbnb_cal.groupby(\"date\")[\"price\"].mean().reset_index(name=\"mean_price\")\n",
    "\n",
    "# round mean price to 2 decimals\n",
    "airbnb_price_day.mean_price = round(airbnb_price_day.mean_price, 2)"
   ]
  },
  {
   "cell_type": "code",
   "execution_count": 59,
   "id": "434e7b68",
   "metadata": {},
   "outputs": [
    {
     "data": {
      "text/html": [
       "<div>\n",
       "<style scoped>\n",
       "    .dataframe tbody tr th:only-of-type {\n",
       "        vertical-align: middle;\n",
       "    }\n",
       "\n",
       "    .dataframe tbody tr th {\n",
       "        vertical-align: top;\n",
       "    }\n",
       "\n",
       "    .dataframe thead th {\n",
       "        text-align: right;\n",
       "    }\n",
       "</style>\n",
       "<table border=\"1\" class=\"dataframe\">\n",
       "  <thead>\n",
       "    <tr style=\"text-align: right;\">\n",
       "      <th></th>\n",
       "      <th>date</th>\n",
       "      <th>mean_price</th>\n",
       "    </tr>\n",
       "  </thead>\n",
       "  <tbody>\n",
       "    <tr>\n",
       "      <th>0</th>\n",
       "      <td>2021-09-01</td>\n",
       "      <td>138.77</td>\n",
       "    </tr>\n",
       "    <tr>\n",
       "      <th>1</th>\n",
       "      <td>2021-09-02</td>\n",
       "      <td>177.37</td>\n",
       "    </tr>\n",
       "    <tr>\n",
       "      <th>2</th>\n",
       "      <td>2021-09-03</td>\n",
       "      <td>178.99</td>\n",
       "    </tr>\n",
       "    <tr>\n",
       "      <th>3</th>\n",
       "      <td>2021-09-04</td>\n",
       "      <td>180.16</td>\n",
       "    </tr>\n",
       "    <tr>\n",
       "      <th>4</th>\n",
       "      <td>2021-09-05</td>\n",
       "      <td>175.62</td>\n",
       "    </tr>\n",
       "  </tbody>\n",
       "</table>\n",
       "</div>"
      ],
      "text/plain": [
       "        date  mean_price\n",
       "0 2021-09-01      138.77\n",
       "1 2021-09-02      177.37\n",
       "2 2021-09-03      178.99\n",
       "3 2021-09-04      180.16\n",
       "4 2021-09-05      175.62"
      ]
     },
     "execution_count": 59,
     "metadata": {},
     "output_type": "execute_result"
    }
   ],
   "source": [
    "airbnb_price_day.head()"
   ]
  },
  {
   "cell_type": "code",
   "execution_count": 60,
   "id": "b4b3d499",
   "metadata": {},
   "outputs": [
    {
     "data": {
      "text/html": [
       "<div>\n",
       "<style scoped>\n",
       "    .dataframe tbody tr th:only-of-type {\n",
       "        vertical-align: middle;\n",
       "    }\n",
       "\n",
       "    .dataframe tbody tr th {\n",
       "        vertical-align: top;\n",
       "    }\n",
       "\n",
       "    .dataframe thead th {\n",
       "        text-align: right;\n",
       "    }\n",
       "</style>\n",
       "<table border=\"1\" class=\"dataframe\">\n",
       "  <thead>\n",
       "    <tr style=\"text-align: right;\">\n",
       "      <th></th>\n",
       "      <th>date</th>\n",
       "      <th>mean_price</th>\n",
       "    </tr>\n",
       "  </thead>\n",
       "  <tbody>\n",
       "    <tr>\n",
       "      <th>636</th>\n",
       "      <td>2023-05-30</td>\n",
       "      <td>199.74</td>\n",
       "    </tr>\n",
       "    <tr>\n",
       "      <th>637</th>\n",
       "      <td>2023-05-31</td>\n",
       "      <td>199.82</td>\n",
       "    </tr>\n",
       "    <tr>\n",
       "      <th>638</th>\n",
       "      <td>2023-06-01</td>\n",
       "      <td>202.00</td>\n",
       "    </tr>\n",
       "    <tr>\n",
       "      <th>639</th>\n",
       "      <td>2023-06-02</td>\n",
       "      <td>206.48</td>\n",
       "    </tr>\n",
       "    <tr>\n",
       "      <th>640</th>\n",
       "      <td>2023-06-03</td>\n",
       "      <td>194.80</td>\n",
       "    </tr>\n",
       "  </tbody>\n",
       "</table>\n",
       "</div>"
      ],
      "text/plain": [
       "          date  mean_price\n",
       "636 2023-05-30      199.74\n",
       "637 2023-05-31      199.82\n",
       "638 2023-06-01      202.00\n",
       "639 2023-06-02      206.48\n",
       "640 2023-06-03      194.80"
      ]
     },
     "execution_count": 60,
     "metadata": {},
     "output_type": "execute_result"
    }
   ],
   "source": [
    "airbnb_price_day.tail()"
   ]
  },
  {
   "cell_type": "markdown",
   "id": "fbd887b1",
   "metadata": {},
   "source": [
    "#### Visualize mean price by day"
   ]
  },
  {
   "cell_type": "code",
   "execution_count": 66,
   "id": "95b145d1",
   "metadata": {},
   "outputs": [
    {
     "data": {
      "image/png": "[encoded data removed]",
      "text/plain": [
       "<Figure size 1080x432 with 1 Axes>"
      ]
     },
     "metadata": {
      "needs_background": "light"
     },
     "output_type": "display_data"
    }
   ],
   "source": [
    "# set size of visualization\n",
    "plt.figure(figsize=(15,6))\n",
    "\n",
    "# plot data\n",
    "plt.plot(airbnb_price_day.date, airbnb_price_day.mean_price, label=\"mean_price\")\n",
    "\n",
    "# display legend\n",
    "plt.legend(loc=\"upper left\")\n",
    "\n",
    "# displaying the title\n",
    "plt.title(\"Daily mean price for NYC Airbnb listings Q3 2021-Q2 2022\")\n",
    "\n",
    "plt.show()"
   ]
  },
  {
   "cell_type": "markdown",
   "id": "5d5e70a5",
   "metadata": {},
   "source": [
    "#### Calculate rolling average"
   ]
  },
  {
   "cell_type": "code",
   "execution_count": 68,
   "id": "bed00226",
   "metadata": {},
   "outputs": [],
   "source": [
    "# function to create rolling average given a window size\n",
    "def calc_rolling_stats(ser, wd_size=7) : return ser.rolling(wd_size, min_periods=1).mean().to_numpy()"
   ]
  },
  {
   "cell_type": "code",
   "execution_count": 72,
   "id": "bc689708",
   "metadata": {},
   "outputs": [],
   "source": [
    "# calculate rolling average on 7 day window\n",
    "rolling_mean = calc_rolling_stats(airbnb_price_day, wd_size=7)"
   ]
  },
  {
   "cell_type": "code",
   "execution_count": 73,
   "id": "ecdb51df",
   "metadata": {},
   "outputs": [
    {
     "data": {
      "text/plain": [
       "(641, 1)"
      ]
     },
     "execution_count": 73,
     "metadata": {},
     "output_type": "execute_result"
    }
   ],
   "source": [
    "# see shape of rolling means\n",
    "rolling_mean.shape"
   ]
  },
  {
   "cell_type": "markdown",
   "id": "8bf91738",
   "metadata": {},
   "source": [
    "#### Plot daily mean + rolling average prices"
   ]
  },
  {
   "cell_type": "code",
   "execution_count": 76,
   "id": "120a29ec",
   "metadata": {},
   "outputs": [
    {
     "data": {
      "image/png": "[encoded data removed]",
      "text/plain": [
       "<Figure size 1440x720 with 1 Axes>"
      ]
     },
     "metadata": {
      "needs_background": "light"
     },
     "output_type": "display_data"
    }
   ],
   "source": [
    "# set size of visualization\n",
    "fig, ax = plt.subplots(figsize=(20, 10))\n",
    "\n",
    "# plot daily mean price\n",
    "ax.plot(airbnb_price_day.date, airbnb_price_day.mean_price, color='blue', label=\"mean_price\")\n",
    "\n",
    "# plot rolling mean\n",
    "ax.plot(airbnb_price_day.date, pd.Series(rolling_mean.reshape(641,)), color='red', label=\"rolling_mean\")\n",
    "\n",
    "# display legend\n",
    "plt.legend(loc=\"upper left\")\n",
    "\n",
    "# displaying the title\n",
    "plt.title(\"Daily mean price & rolling mean for NYC Airbnb listings Q3 2021-Q2 2022\")\n",
    "\n",
    "plt.show()"
   ]
  },
  {
   "cell_type": "code",
   "execution_count": null,
   "id": "8881001d",
   "metadata": {},
   "outputs": [],
   "source": [
    "@"
   ]
  }
 ],
 "metadata": {
  "kernelspec": {
   "display_name": "Python 3.9.1 64-bit",
   "language": "python",
   "name": "python3"
  },
  "language_info": {
   "codemirror_mode": {
    "name": "ipython",
    "version": 3
   },
   "file_extension": ".py",
   "mimetype": "text/x-python",
   "name": "python",
   "nbconvert_exporter": "python",
   "pygments_lexer": "ipython3",
   "version": "3.9.1"
  },
  "vscode": {
   "interpreter": {
    "hash": "397704579725e15f5c7cb49fe5f0341eb7531c82d19f2c29d197e8b64ab5776b"
   }
  }
 },
 "nbformat": 4,
 "nbformat_minor": 5
}
