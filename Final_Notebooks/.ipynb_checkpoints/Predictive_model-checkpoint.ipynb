{
 "cells": [
  {
   "cell_type": "code",
   "execution_count": 1,
   "metadata": {},
   "outputs": [],
   "source": [
    "import pandas as pd\n",
    "import numpy as np\n",
    "import matplotlib.pyplot as plt\n",
    "import seaborn as sns\n",
    "\n",
    "from sklearn.pipeline import make_pipeline"
   ]
  },
  {
   "cell_type": "markdown",
   "metadata": {},
   "source": [
    "# Part I Basic features from listings"
   ]
  },
  {
   "cell_type": "code",
   "execution_count": 2,
   "metadata": {},
   "outputs": [],
   "source": [
    "#import data\n",
    "df1 = pd.read_csv('../Data_Files/NYC_Listings_202203.csv', low_memory=False)\n",
    "df1['Quarter']=1\n",
    "df2 = pd.read_csv('../Data_Files/NYC_Listings_202206.csv')\n",
    "df2['Quarter']=2\n",
    "df3 = pd.read_csv('../Data_Files/NYC_Listings_202109.csv')\n",
    "df3['Quarter']=3\n",
    "df4 = pd.read_csv('../Data_Files/NYC_Listings_202112.csv', low_memory=False)\n",
    "df4['Quarter']=4\n",
    "nyc_data=pd.concat([df1, df2, df3, df4])"
   ]
  },
  {
   "cell_type": "code",
   "execution_count": 3,
   "metadata": {},
   "outputs": [
    {
     "data": {
      "text/plain": [
       "150241"
      ]
     },
     "execution_count": 3,
     "metadata": {},
     "output_type": "execute_result"
    }
   ],
   "source": [
    "len(nyc_data)"
   ]
  },
  {
   "cell_type": "code",
   "execution_count": 4,
   "metadata": {},
   "outputs": [
    {
     "data": {
      "text/html": [
       "<div>\n",
       "<style scoped>\n",
       "    .dataframe tbody tr th:only-of-type {\n",
       "        vertical-align: middle;\n",
       "    }\n",
       "\n",
       "    .dataframe tbody tr th {\n",
       "        vertical-align: top;\n",
       "    }\n",
       "\n",
       "    .dataframe thead th {\n",
       "        text-align: right;\n",
       "    }\n",
       "</style>\n",
       "<table border=\"1\" class=\"dataframe\">\n",
       "  <thead>\n",
       "    <tr style=\"text-align: right;\">\n",
       "      <th></th>\n",
       "      <th>id</th>\n",
       "      <th>name</th>\n",
       "      <th>host_id</th>\n",
       "      <th>host_name</th>\n",
       "      <th>neighbourhood_group</th>\n",
       "      <th>neighbourhood</th>\n",
       "      <th>latitude</th>\n",
       "      <th>longitude</th>\n",
       "      <th>room_type</th>\n",
       "      <th>price</th>\n",
       "      <th>minimum_nights</th>\n",
       "      <th>number_of_reviews</th>\n",
       "      <th>last_review</th>\n",
       "      <th>reviews_per_month</th>\n",
       "      <th>calculated_host_listings_count</th>\n",
       "      <th>availability_365</th>\n",
       "      <th>number_of_reviews_ltm</th>\n",
       "      <th>license</th>\n",
       "      <th>Quarter</th>\n",
       "    </tr>\n",
       "  </thead>\n",
       "  <tbody>\n",
       "    <tr>\n",
       "      <th>0</th>\n",
       "      <td>2595</td>\n",
       "      <td>Skylit Midtown Castle</td>\n",
       "      <td>2845</td>\n",
       "      <td>Jennifer</td>\n",
       "      <td>Manhattan</td>\n",
       "      <td>Midtown</td>\n",
       "      <td>40.75356</td>\n",
       "      <td>-73.98559</td>\n",
       "      <td>Entire home/apt</td>\n",
       "      <td>150</td>\n",
       "      <td>30</td>\n",
       "      <td>48</td>\n",
       "      <td>2019-11-04</td>\n",
       "      <td>0.32</td>\n",
       "      <td>3</td>\n",
       "      <td>334</td>\n",
       "      <td>0</td>\n",
       "      <td>NaN</td>\n",
       "      <td>1</td>\n",
       "    </tr>\n",
       "    <tr>\n",
       "      <th>1</th>\n",
       "      <td>5121</td>\n",
       "      <td>BlissArtsSpace!</td>\n",
       "      <td>7356</td>\n",
       "      <td>Garon</td>\n",
       "      <td>Brooklyn</td>\n",
       "      <td>Bedford-Stuyvesant</td>\n",
       "      <td>40.68535</td>\n",
       "      <td>-73.95512</td>\n",
       "      <td>Private room</td>\n",
       "      <td>60</td>\n",
       "      <td>30</td>\n",
       "      <td>50</td>\n",
       "      <td>2019-12-02</td>\n",
       "      <td>0.32</td>\n",
       "      <td>2</td>\n",
       "      <td>365</td>\n",
       "      <td>0</td>\n",
       "      <td>NaN</td>\n",
       "      <td>1</td>\n",
       "    </tr>\n",
       "    <tr>\n",
       "      <th>2</th>\n",
       "      <td>5136</td>\n",
       "      <td>Spacious Brooklyn Duplex, Patio + Garden</td>\n",
       "      <td>7378</td>\n",
       "      <td>Rebecca</td>\n",
       "      <td>Brooklyn</td>\n",
       "      <td>Sunset Park</td>\n",
       "      <td>40.66265</td>\n",
       "      <td>-73.99454</td>\n",
       "      <td>Entire home/apt</td>\n",
       "      <td>275</td>\n",
       "      <td>5</td>\n",
       "      <td>2</td>\n",
       "      <td>2021-08-08</td>\n",
       "      <td>0.02</td>\n",
       "      <td>1</td>\n",
       "      <td>201</td>\n",
       "      <td>1</td>\n",
       "      <td>NaN</td>\n",
       "      <td>1</td>\n",
       "    </tr>\n",
       "    <tr>\n",
       "      <th>3</th>\n",
       "      <td>5178</td>\n",
       "      <td>Large Furnished Room Near B'way</td>\n",
       "      <td>8967</td>\n",
       "      <td>Shunichi</td>\n",
       "      <td>Manhattan</td>\n",
       "      <td>Midtown</td>\n",
       "      <td>40.76457</td>\n",
       "      <td>-73.98317</td>\n",
       "      <td>Private room</td>\n",
       "      <td>68</td>\n",
       "      <td>2</td>\n",
       "      <td>520</td>\n",
       "      <td>2022-02-18</td>\n",
       "      <td>3.33</td>\n",
       "      <td>1</td>\n",
       "      <td>154</td>\n",
       "      <td>46</td>\n",
       "      <td>NaN</td>\n",
       "      <td>1</td>\n",
       "    </tr>\n",
       "    <tr>\n",
       "      <th>4</th>\n",
       "      <td>5203</td>\n",
       "      <td>Cozy Clean Guest Room - Family Apt</td>\n",
       "      <td>7490</td>\n",
       "      <td>MaryEllen</td>\n",
       "      <td>Manhattan</td>\n",
       "      <td>Upper West Side</td>\n",
       "      <td>40.80380</td>\n",
       "      <td>-73.96751</td>\n",
       "      <td>Private room</td>\n",
       "      <td>75</td>\n",
       "      <td>2</td>\n",
       "      <td>118</td>\n",
       "      <td>2017-07-21</td>\n",
       "      <td>0.77</td>\n",
       "      <td>1</td>\n",
       "      <td>0</td>\n",
       "      <td>0</td>\n",
       "      <td>NaN</td>\n",
       "      <td>1</td>\n",
       "    </tr>\n",
       "  </tbody>\n",
       "</table>\n",
       "</div>"
      ],
      "text/plain": [
       "     id                                      name  host_id  host_name  \\\n",
       "0  2595                     Skylit Midtown Castle     2845   Jennifer   \n",
       "1  5121                           BlissArtsSpace!     7356      Garon   \n",
       "2  5136  Spacious Brooklyn Duplex, Patio + Garden     7378    Rebecca   \n",
       "3  5178          Large Furnished Room Near B'way　     8967   Shunichi   \n",
       "4  5203        Cozy Clean Guest Room - Family Apt     7490  MaryEllen   \n",
       "\n",
       "  neighbourhood_group       neighbourhood  latitude  longitude  \\\n",
       "0           Manhattan             Midtown  40.75356  -73.98559   \n",
       "1            Brooklyn  Bedford-Stuyvesant  40.68535  -73.95512   \n",
       "2            Brooklyn         Sunset Park  40.66265  -73.99454   \n",
       "3           Manhattan             Midtown  40.76457  -73.98317   \n",
       "4           Manhattan     Upper West Side  40.80380  -73.96751   \n",
       "\n",
       "         room_type  price  minimum_nights  number_of_reviews last_review  \\\n",
       "0  Entire home/apt    150              30                 48  2019-11-04   \n",
       "1     Private room     60              30                 50  2019-12-02   \n",
       "2  Entire home/apt    275               5                  2  2021-08-08   \n",
       "3     Private room     68               2                520  2022-02-18   \n",
       "4     Private room     75               2                118  2017-07-21   \n",
       "\n",
       "   reviews_per_month  calculated_host_listings_count  availability_365  \\\n",
       "0               0.32                               3               334   \n",
       "1               0.32                               2               365   \n",
       "2               0.02                               1               201   \n",
       "3               3.33                               1               154   \n",
       "4               0.77                               1                 0   \n",
       "\n",
       "   number_of_reviews_ltm license  Quarter  \n",
       "0                      0     NaN        1  \n",
       "1                      0     NaN        1  \n",
       "2                      1     NaN        1  \n",
       "3                     46     NaN        1  \n",
       "4                      0     NaN        1  "
      ]
     },
     "execution_count": 4,
     "metadata": {},
     "output_type": "execute_result"
    }
   ],
   "source": [
    "nyc_data.head()"
   ]
  },
  {
   "cell_type": "code",
   "execution_count": 5,
   "metadata": {},
   "outputs": [
    {
     "data": {
      "image/png": "[encoded data removed]",
      "text/plain": [
       "<Figure size 432x288 with 1 Axes>"
      ]
     },
     "metadata": {
      "needs_background": "light"
     },
     "output_type": "display_data"
    }
   ],
   "source": [
    "ax = sns.countplot(x=\"room_type\", data=nyc_data)  "
   ]
  },
  {
   "cell_type": "code",
   "execution_count": 6,
   "metadata": {},
   "outputs": [
    {
     "data": {
      "text/plain": [
       "id                                     0\n",
       "name                                  54\n",
       "host_id                                0\n",
       "host_name                            298\n",
       "neighbourhood_group                    0\n",
       "neighbourhood                          0\n",
       "latitude                               0\n",
       "longitude                              0\n",
       "room_type                              0\n",
       "price                                  0\n",
       "minimum_nights                         0\n",
       "number_of_reviews                      0\n",
       "last_review                        35723\n",
       "reviews_per_month                  35723\n",
       "calculated_host_listings_count         0\n",
       "availability_365                       0\n",
       "number_of_reviews_ltm                  0\n",
       "license                           150235\n",
       "Quarter                                0\n",
       "dtype: int64"
      ]
     },
     "execution_count": 6,
     "metadata": {},
     "output_type": "execute_result"
    }
   ],
   "source": [
    "nyc_data.isnull().sum()"
   ]
  },
  {
   "cell_type": "code",
   "execution_count": 7,
   "metadata": {},
   "outputs": [
    {
     "name": "stderr",
     "output_type": "stream",
     "text": [
      "C:\\ProgramData\\Anaconda3\\lib\\site-packages\\seaborn\\distributions.py:2619: FutureWarning: `distplot` is a deprecated function and will be removed in a future version. Please adapt your code to use either `displot` (a figure-level function with similar flexibility) or `histplot` (an axes-level function for histograms).\n",
      "  warnings.warn(msg, FutureWarning)\n"
     ]
    },
    {
     "data": {
      "text/plain": [
       "Text(0.5, 1.0, 'Price Distribution')"
      ]
     },
     "execution_count": 7,
     "metadata": {},
     "output_type": "execute_result"
    },
    {
     "data": {
      "image/png": "[encoded data removed]",
      "text/plain": [
       "<Figure size 432x288 with 1 Axes>"
      ]
     },
     "metadata": {
      "needs_background": "light"
     },
     "output_type": "display_data"
    }
   ],
   "source": [
    "from scipy.stats import norm\n",
    "import plotly.figure_factory as ff\n",
    "sns.distplot(nyc_data['price'], fit=norm)\n",
    "plt.title(\"Price Distribution\")\n",
    "# very skewed \n",
    "# hist_data = [nyc_data['price'].to_numpy()]\n",
    "# ff.create_distplot(hist_data,['distplot'])"
   ]
  },
  {
   "cell_type": "code",
   "execution_count": 8,
   "metadata": {},
   "outputs": [],
   "source": [
    "#log transformation\n",
    "nyc_data['price_log'] = np.log(nyc_data.price+1)\n",
    "log_data=[nyc_data['price_log'].to_numpy()]\n"
   ]
  },
  {
   "cell_type": "code",
   "execution_count": 9,
   "metadata": {},
   "outputs": [
    {
     "name": "stderr",
     "output_type": "stream",
     "text": [
      "C:\\ProgramData\\Anaconda3\\lib\\site-packages\\seaborn\\distributions.py:2619: FutureWarning: `distplot` is a deprecated function and will be removed in a future version. Please adapt your code to use either `displot` (a figure-level function with similar flexibility) or `histplot` (an axes-level function for histograms).\n",
      "  warnings.warn(msg, FutureWarning)\n"
     ]
    },
    {
     "data": {
      "text/plain": [
       "Text(0.5, 1.0, 'Price Distribution(Log)')"
      ]
     },
     "execution_count": 9,
     "metadata": {},
     "output_type": "execute_result"
    },
    {
     "data": {
      "image/png": "[encoded data removed]",
      "text/plain": [
       "<Figure size 432x288 with 1 Axes>"
      ]
     },
     "metadata": {
      "needs_background": "light"
     },
     "output_type": "display_data"
    }
   ],
   "source": [
    "sns.distplot(nyc_data['price_log'], fit=norm)\n",
    "plt.title(\"Price Distribution(Log)\",size=15, weight='bold')\n",
    "# price_log=ff.create_distplot(log_data,['Log'])"
   ]
  },
  {
   "cell_type": "code",
   "execution_count": 10,
   "metadata": {},
   "outputs": [
    {
     "data": {
      "text/plain": [
       "neighbourhood_group                   0\n",
       "neighbourhood                         0\n",
       "latitude                              0\n",
       "longitude                             0\n",
       "room_type                             0\n",
       "minimum_nights                        0\n",
       "number_of_reviews                     0\n",
       "reviews_per_month                 35723\n",
       "calculated_host_listings_count        0\n",
       "availability_365                      0\n",
       "number_of_reviews_ltm                 0\n",
       "Quarter                               0\n",
       "price_log                             0\n",
       "dtype: int64"
      ]
     },
     "execution_count": 10,
     "metadata": {},
     "output_type": "execute_result"
    }
   ],
   "source": [
    "nyc_df = nyc_data.drop(columns=['name','id' ,'host_id','host_name','last_review','price','license'])\n",
    "nyc_df.isnull().sum()"
   ]
  },
  {
   "cell_type": "code",
   "execution_count": 11,
   "metadata": {},
   "outputs": [
    {
     "data": {
      "text/plain": [
       "neighbourhood_group               0\n",
       "neighbourhood                     0\n",
       "latitude                          0\n",
       "longitude                         0\n",
       "room_type                         0\n",
       "minimum_nights                    0\n",
       "number_of_reviews                 0\n",
       "reviews_per_month                 0\n",
       "calculated_host_listings_count    0\n",
       "availability_365                  0\n",
       "number_of_reviews_ltm             0\n",
       "Quarter                           0\n",
       "price_log                         0\n",
       "dtype: int64"
      ]
     },
     "execution_count": 11,
     "metadata": {},
     "output_type": "execute_result"
    }
   ],
   "source": [
    "#fill nan with mean for reviews_per_month\n",
    "nyc_df['reviews_per_month'].fillna(nyc_df['reviews_per_month'].mean(), inplace=True)\n",
    "nyc_df.isnull().sum()"
   ]
  },
  {
   "cell_type": "code",
   "execution_count": 12,
   "metadata": {},
   "outputs": [
    {
     "data": {
      "text/html": [
       "<div>\n",
       "<style scoped>\n",
       "    .dataframe tbody tr th:only-of-type {\n",
       "        vertical-align: middle;\n",
       "    }\n",
       "\n",
       "    .dataframe tbody tr th {\n",
       "        vertical-align: top;\n",
       "    }\n",
       "\n",
       "    .dataframe thead th {\n",
       "        text-align: right;\n",
       "    }\n",
       "</style>\n",
       "<table border=\"1\" class=\"dataframe\">\n",
       "  <thead>\n",
       "    <tr style=\"text-align: right;\">\n",
       "      <th></th>\n",
       "      <th>latitude</th>\n",
       "      <th>longitude</th>\n",
       "      <th>minimum_nights</th>\n",
       "      <th>number_of_reviews</th>\n",
       "      <th>reviews_per_month</th>\n",
       "      <th>calculated_host_listings_count</th>\n",
       "      <th>availability_365</th>\n",
       "      <th>number_of_reviews_ltm</th>\n",
       "      <th>Quarter</th>\n",
       "      <th>price_log</th>\n",
       "    </tr>\n",
       "  </thead>\n",
       "  <tbody>\n",
       "    <tr>\n",
       "      <th>latitude</th>\n",
       "      <td>1.000000</td>\n",
       "      <td>0.054106</td>\n",
       "      <td>0.034251</td>\n",
       "      <td>-0.044112</td>\n",
       "      <td>-0.029360</td>\n",
       "      <td>0.071173</td>\n",
       "      <td>0.003078</td>\n",
       "      <td>-0.044873</td>\n",
       "      <td>0.003103</td>\n",
       "      <td>0.037522</td>\n",
       "    </tr>\n",
       "    <tr>\n",
       "      <th>longitude</th>\n",
       "      <td>0.054106</td>\n",
       "      <td>1.000000</td>\n",
       "      <td>-0.090627</td>\n",
       "      <td>0.057883</td>\n",
       "      <td>0.060161</td>\n",
       "      <td>-0.064983</td>\n",
       "      <td>0.101372</td>\n",
       "      <td>0.058232</td>\n",
       "      <td>-0.020473</td>\n",
       "      <td>-0.262788</td>\n",
       "    </tr>\n",
       "    <tr>\n",
       "      <th>minimum_nights</th>\n",
       "      <td>0.034251</td>\n",
       "      <td>-0.090627</td>\n",
       "      <td>1.000000</td>\n",
       "      <td>-0.142382</td>\n",
       "      <td>-0.135987</td>\n",
       "      <td>0.087464</td>\n",
       "      <td>-0.034833</td>\n",
       "      <td>-0.196726</td>\n",
       "      <td>0.022710</td>\n",
       "      <td>-0.070126</td>\n",
       "    </tr>\n",
       "    <tr>\n",
       "      <th>number_of_reviews</th>\n",
       "      <td>-0.044112</td>\n",
       "      <td>0.057883</td>\n",
       "      <td>-0.142382</td>\n",
       "      <td>1.000000</td>\n",
       "      <td>0.329583</td>\n",
       "      <td>-0.103943</td>\n",
       "      <td>0.098389</td>\n",
       "      <td>0.583250</td>\n",
       "      <td>-0.015998</td>\n",
       "      <td>-0.017080</td>\n",
       "    </tr>\n",
       "    <tr>\n",
       "      <th>reviews_per_month</th>\n",
       "      <td>-0.029360</td>\n",
       "      <td>0.060161</td>\n",
       "      <td>-0.135987</td>\n",
       "      <td>0.329583</td>\n",
       "      <td>1.000000</td>\n",
       "      <td>-0.001567</td>\n",
       "      <td>0.126116</td>\n",
       "      <td>0.587209</td>\n",
       "      <td>0.069040</td>\n",
       "      <td>0.028777</td>\n",
       "    </tr>\n",
       "    <tr>\n",
       "      <th>calculated_host_listings_count</th>\n",
       "      <td>0.071173</td>\n",
       "      <td>-0.064983</td>\n",
       "      <td>0.087464</td>\n",
       "      <td>-0.103943</td>\n",
       "      <td>-0.001567</td>\n",
       "      <td>1.000000</td>\n",
       "      <td>0.186644</td>\n",
       "      <td>-0.044776</td>\n",
       "      <td>0.013158</td>\n",
       "      <td>0.016196</td>\n",
       "    </tr>\n",
       "    <tr>\n",
       "      <th>availability_365</th>\n",
       "      <td>0.003078</td>\n",
       "      <td>0.101372</td>\n",
       "      <td>-0.034833</td>\n",
       "      <td>0.098389</td>\n",
       "      <td>0.126116</td>\n",
       "      <td>0.186644</td>\n",
       "      <td>1.000000</td>\n",
       "      <td>0.131279</td>\n",
       "      <td>0.016346</td>\n",
       "      <td>0.135438</td>\n",
       "    </tr>\n",
       "    <tr>\n",
       "      <th>number_of_reviews_ltm</th>\n",
       "      <td>-0.044873</td>\n",
       "      <td>0.058232</td>\n",
       "      <td>-0.196726</td>\n",
       "      <td>0.583250</td>\n",
       "      <td>0.587209</td>\n",
       "      <td>-0.044776</td>\n",
       "      <td>0.131279</td>\n",
       "      <td>1.000000</td>\n",
       "      <td>-0.043189</td>\n",
       "      <td>0.040305</td>\n",
       "    </tr>\n",
       "    <tr>\n",
       "      <th>Quarter</th>\n",
       "      <td>0.003103</td>\n",
       "      <td>-0.020473</td>\n",
       "      <td>0.022710</td>\n",
       "      <td>-0.015998</td>\n",
       "      <td>0.069040</td>\n",
       "      <td>0.013158</td>\n",
       "      <td>0.016346</td>\n",
       "      <td>-0.043189</td>\n",
       "      <td>1.000000</td>\n",
       "      <td>-0.005956</td>\n",
       "    </tr>\n",
       "    <tr>\n",
       "      <th>price_log</th>\n",
       "      <td>0.037522</td>\n",
       "      <td>-0.262788</td>\n",
       "      <td>-0.070126</td>\n",
       "      <td>-0.017080</td>\n",
       "      <td>0.028777</td>\n",
       "      <td>0.016196</td>\n",
       "      <td>0.135438</td>\n",
       "      <td>0.040305</td>\n",
       "      <td>-0.005956</td>\n",
       "      <td>1.000000</td>\n",
       "    </tr>\n",
       "  </tbody>\n",
       "</table>\n",
       "</div>"
      ],
      "text/plain": [
       "                                latitude  longitude  minimum_nights  \\\n",
       "latitude                        1.000000   0.054106        0.034251   \n",
       "longitude                       0.054106   1.000000       -0.090627   \n",
       "minimum_nights                  0.034251  -0.090627        1.000000   \n",
       "number_of_reviews              -0.044112   0.057883       -0.142382   \n",
       "reviews_per_month              -0.029360   0.060161       -0.135987   \n",
       "calculated_host_listings_count  0.071173  -0.064983        0.087464   \n",
       "availability_365                0.003078   0.101372       -0.034833   \n",
       "number_of_reviews_ltm          -0.044873   0.058232       -0.196726   \n",
       "Quarter                         0.003103  -0.020473        0.022710   \n",
       "price_log                       0.037522  -0.262788       -0.070126   \n",
       "\n",
       "                                number_of_reviews  reviews_per_month  \\\n",
       "latitude                                -0.044112          -0.029360   \n",
       "longitude                                0.057883           0.060161   \n",
       "minimum_nights                          -0.142382          -0.135987   \n",
       "number_of_reviews                        1.000000           0.329583   \n",
       "reviews_per_month                        0.329583           1.000000   \n",
       "calculated_host_listings_count          -0.103943          -0.001567   \n",
       "availability_365                         0.098389           0.126116   \n",
       "number_of_reviews_ltm                    0.583250           0.587209   \n",
       "Quarter                                 -0.015998           0.069040   \n",
       "price_log                               -0.017080           0.028777   \n",
       "\n",
       "                                calculated_host_listings_count  \\\n",
       "latitude                                              0.071173   \n",
       "longitude                                            -0.064983   \n",
       "minimum_nights                                        0.087464   \n",
       "number_of_reviews                                    -0.103943   \n",
       "reviews_per_month                                    -0.001567   \n",
       "calculated_host_listings_count                        1.000000   \n",
       "availability_365                                      0.186644   \n",
       "number_of_reviews_ltm                                -0.044776   \n",
       "Quarter                                               0.013158   \n",
       "price_log                                             0.016196   \n",
       "\n",
       "                                availability_365  number_of_reviews_ltm  \\\n",
       "latitude                                0.003078              -0.044873   \n",
       "longitude                               0.101372               0.058232   \n",
       "minimum_nights                         -0.034833              -0.196726   \n",
       "number_of_reviews                       0.098389               0.583250   \n",
       "reviews_per_month                       0.126116               0.587209   \n",
       "calculated_host_listings_count          0.186644              -0.044776   \n",
       "availability_365                        1.000000               0.131279   \n",
       "number_of_reviews_ltm                   0.131279               1.000000   \n",
       "Quarter                                 0.016346              -0.043189   \n",
       "price_log                               0.135438               0.040305   \n",
       "\n",
       "                                 Quarter  price_log  \n",
       "latitude                        0.003103   0.037522  \n",
       "longitude                      -0.020473  -0.262788  \n",
       "minimum_nights                  0.022710  -0.070126  \n",
       "number_of_reviews              -0.015998  -0.017080  \n",
       "reviews_per_month               0.069040   0.028777  \n",
       "calculated_host_listings_count  0.013158   0.016196  \n",
       "availability_365                0.016346   0.135438  \n",
       "number_of_reviews_ltm          -0.043189   0.040305  \n",
       "Quarter                         1.000000  -0.005956  \n",
       "price_log                      -0.005956   1.000000  "
      ]
     },
     "execution_count": 12,
     "metadata": {},
     "output_type": "execute_result"
    }
   ],
   "source": [
    "corr=nyc_df.corr(method='pearson')\n",
    "corr"
   ]
  },
  {
   "cell_type": "code",
   "execution_count": 13,
   "metadata": {},
   "outputs": [
    {
     "data": {
      "image/png": "[encoded data removed]",
      "text/plain": [
       "<Figure size 432x288 with 2 Axes>"
      ]
     },
     "metadata": {
      "needs_background": "light"
     },
     "output_type": "display_data"
    }
   ],
   "source": [
    "ax = sns.heatmap(corr,annot=True)\n"
   ]
  },
  {
   "cell_type": "code",
   "execution_count": 14,
   "metadata": {},
   "outputs": [
    {
     "data": {
      "text/html": [
       "<div>\n",
       "<style scoped>\n",
       "    .dataframe tbody tr th:only-of-type {\n",
       "        vertical-align: middle;\n",
       "    }\n",
       "\n",
       "    .dataframe tbody tr th {\n",
       "        vertical-align: top;\n",
       "    }\n",
       "\n",
       "    .dataframe thead th {\n",
       "        text-align: right;\n",
       "    }\n",
       "</style>\n",
       "<table border=\"1\" class=\"dataframe\">\n",
       "  <thead>\n",
       "    <tr style=\"text-align: right;\">\n",
       "      <th></th>\n",
       "      <th>neighbourhood_group</th>\n",
       "      <th>neighbourhood</th>\n",
       "      <th>latitude</th>\n",
       "      <th>longitude</th>\n",
       "      <th>room_type</th>\n",
       "      <th>minimum_nights</th>\n",
       "      <th>number_of_reviews</th>\n",
       "      <th>reviews_per_month</th>\n",
       "      <th>calculated_host_listings_count</th>\n",
       "      <th>availability_365</th>\n",
       "      <th>number_of_reviews_ltm</th>\n",
       "      <th>Quarter</th>\n",
       "      <th>price_log</th>\n",
       "    </tr>\n",
       "  </thead>\n",
       "  <tbody>\n",
       "    <tr>\n",
       "      <th>0</th>\n",
       "      <td>2</td>\n",
       "      <td>144</td>\n",
       "      <td>40.753560</td>\n",
       "      <td>-73.985590</td>\n",
       "      <td>0</td>\n",
       "      <td>30</td>\n",
       "      <td>48</td>\n",
       "      <td>0.320000</td>\n",
       "      <td>3</td>\n",
       "      <td>334</td>\n",
       "      <td>0</td>\n",
       "      <td>1</td>\n",
       "      <td>5.017280</td>\n",
       "    </tr>\n",
       "    <tr>\n",
       "      <th>1</th>\n",
       "      <td>1</td>\n",
       "      <td>12</td>\n",
       "      <td>40.685350</td>\n",
       "      <td>-73.955120</td>\n",
       "      <td>2</td>\n",
       "      <td>30</td>\n",
       "      <td>50</td>\n",
       "      <td>0.320000</td>\n",
       "      <td>2</td>\n",
       "      <td>365</td>\n",
       "      <td>0</td>\n",
       "      <td>1</td>\n",
       "      <td>4.110874</td>\n",
       "    </tr>\n",
       "    <tr>\n",
       "      <th>2</th>\n",
       "      <td>1</td>\n",
       "      <td>213</td>\n",
       "      <td>40.662650</td>\n",
       "      <td>-73.994540</td>\n",
       "      <td>0</td>\n",
       "      <td>5</td>\n",
       "      <td>2</td>\n",
       "      <td>0.020000</td>\n",
       "      <td>1</td>\n",
       "      <td>201</td>\n",
       "      <td>1</td>\n",
       "      <td>1</td>\n",
       "      <td>5.620401</td>\n",
       "    </tr>\n",
       "    <tr>\n",
       "      <th>3</th>\n",
       "      <td>2</td>\n",
       "      <td>144</td>\n",
       "      <td>40.764570</td>\n",
       "      <td>-73.983170</td>\n",
       "      <td>2</td>\n",
       "      <td>2</td>\n",
       "      <td>520</td>\n",
       "      <td>3.330000</td>\n",
       "      <td>1</td>\n",
       "      <td>154</td>\n",
       "      <td>46</td>\n",
       "      <td>1</td>\n",
       "      <td>4.234107</td>\n",
       "    </tr>\n",
       "    <tr>\n",
       "      <th>4</th>\n",
       "      <td>2</td>\n",
       "      <td>225</td>\n",
       "      <td>40.803800</td>\n",
       "      <td>-73.967510</td>\n",
       "      <td>2</td>\n",
       "      <td>2</td>\n",
       "      <td>118</td>\n",
       "      <td>0.770000</td>\n",
       "      <td>1</td>\n",
       "      <td>0</td>\n",
       "      <td>0</td>\n",
       "      <td>1</td>\n",
       "      <td>4.330733</td>\n",
       "    </tr>\n",
       "    <tr>\n",
       "      <th>...</th>\n",
       "      <td>...</td>\n",
       "      <td>...</td>\n",
       "      <td>...</td>\n",
       "      <td>...</td>\n",
       "      <td>...</td>\n",
       "      <td>...</td>\n",
       "      <td>...</td>\n",
       "      <td>...</td>\n",
       "      <td>...</td>\n",
       "      <td>...</td>\n",
       "      <td>...</td>\n",
       "      <td>...</td>\n",
       "      <td>...</td>\n",
       "    </tr>\n",
       "    <tr>\n",
       "      <th>38272</th>\n",
       "      <td>4</td>\n",
       "      <td>177</td>\n",
       "      <td>40.632222</td>\n",
       "      <td>-74.136715</td>\n",
       "      <td>2</td>\n",
       "      <td>1</td>\n",
       "      <td>0</td>\n",
       "      <td>1.345447</td>\n",
       "      <td>6</td>\n",
       "      <td>359</td>\n",
       "      <td>0</td>\n",
       "      <td>4</td>\n",
       "      <td>4.382027</td>\n",
       "    </tr>\n",
       "    <tr>\n",
       "      <th>38273</th>\n",
       "      <td>4</td>\n",
       "      <td>177</td>\n",
       "      <td>40.630502</td>\n",
       "      <td>-74.136142</td>\n",
       "      <td>2</td>\n",
       "      <td>1</td>\n",
       "      <td>0</td>\n",
       "      <td>1.345447</td>\n",
       "      <td>6</td>\n",
       "      <td>359</td>\n",
       "      <td>0</td>\n",
       "      <td>4</td>\n",
       "      <td>4.343805</td>\n",
       "    </tr>\n",
       "    <tr>\n",
       "      <th>38274</th>\n",
       "      <td>2</td>\n",
       "      <td>144</td>\n",
       "      <td>40.753887</td>\n",
       "      <td>-73.980536</td>\n",
       "      <td>2</td>\n",
       "      <td>1</td>\n",
       "      <td>0</td>\n",
       "      <td>1.345447</td>\n",
       "      <td>13</td>\n",
       "      <td>11</td>\n",
       "      <td>0</td>\n",
       "      <td>4</td>\n",
       "      <td>4.762174</td>\n",
       "    </tr>\n",
       "    <tr>\n",
       "      <th>38275</th>\n",
       "      <td>2</td>\n",
       "      <td>144</td>\n",
       "      <td>40.755569</td>\n",
       "      <td>-73.981976</td>\n",
       "      <td>2</td>\n",
       "      <td>1</td>\n",
       "      <td>0</td>\n",
       "      <td>1.345447</td>\n",
       "      <td>13</td>\n",
       "      <td>3</td>\n",
       "      <td>0</td>\n",
       "      <td>4</td>\n",
       "      <td>4.672829</td>\n",
       "    </tr>\n",
       "    <tr>\n",
       "      <th>38276</th>\n",
       "      <td>1</td>\n",
       "      <td>58</td>\n",
       "      <td>40.677560</td>\n",
       "      <td>-73.894990</td>\n",
       "      <td>0</td>\n",
       "      <td>1</td>\n",
       "      <td>0</td>\n",
       "      <td>1.345447</td>\n",
       "      <td>1</td>\n",
       "      <td>312</td>\n",
       "      <td>0</td>\n",
       "      <td>4</td>\n",
       "      <td>6.536692</td>\n",
       "    </tr>\n",
       "  </tbody>\n",
       "</table>\n",
       "<p>150241 rows × 13 columns</p>\n",
       "</div>"
      ],
      "text/plain": [
       "       neighbourhood_group  neighbourhood   latitude  longitude  room_type  \\\n",
       "0                        2            144  40.753560 -73.985590          0   \n",
       "1                        1             12  40.685350 -73.955120          2   \n",
       "2                        1            213  40.662650 -73.994540          0   \n",
       "3                        2            144  40.764570 -73.983170          2   \n",
       "4                        2            225  40.803800 -73.967510          2   \n",
       "...                    ...            ...        ...        ...        ...   \n",
       "38272                    4            177  40.632222 -74.136715          2   \n",
       "38273                    4            177  40.630502 -74.136142          2   \n",
       "38274                    2            144  40.753887 -73.980536          2   \n",
       "38275                    2            144  40.755569 -73.981976          2   \n",
       "38276                    1             58  40.677560 -73.894990          0   \n",
       "\n",
       "       minimum_nights  number_of_reviews  reviews_per_month  \\\n",
       "0                  30                 48           0.320000   \n",
       "1                  30                 50           0.320000   \n",
       "2                   5                  2           0.020000   \n",
       "3                   2                520           3.330000   \n",
       "4                   2                118           0.770000   \n",
       "...               ...                ...                ...   \n",
       "38272               1                  0           1.345447   \n",
       "38273               1                  0           1.345447   \n",
       "38274               1                  0           1.345447   \n",
       "38275               1                  0           1.345447   \n",
       "38276               1                  0           1.345447   \n",
       "\n",
       "       calculated_host_listings_count  availability_365  \\\n",
       "0                                   3               334   \n",
       "1                                   2               365   \n",
       "2                                   1               201   \n",
       "3                                   1               154   \n",
       "4                                   1                 0   \n",
       "...                               ...               ...   \n",
       "38272                               6               359   \n",
       "38273                               6               359   \n",
       "38274                              13                11   \n",
       "38275                              13                 3   \n",
       "38276                               1               312   \n",
       "\n",
       "       number_of_reviews_ltm  Quarter  price_log  \n",
       "0                          0        1   5.017280  \n",
       "1                          0        1   4.110874  \n",
       "2                          1        1   5.620401  \n",
       "3                         46        1   4.234107  \n",
       "4                          0        1   4.330733  \n",
       "...                      ...      ...        ...  \n",
       "38272                      0        4   4.382027  \n",
       "38273                      0        4   4.343805  \n",
       "38274                      0        4   4.762174  \n",
       "38275                      0        4   4.672829  \n",
       "38276                      0        4   6.536692  \n",
       "\n",
       "[150241 rows x 13 columns]"
      ]
     },
     "execution_count": 14,
     "metadata": {},
     "output_type": "execute_result"
    }
   ],
   "source": [
    "#convert category data into series\n",
    "nyc_df['neighbourhood_group']= nyc_df['neighbourhood_group'].astype(\"category\").cat.codes\n",
    "nyc_df['neighbourhood'] = nyc_df['neighbourhood'].astype(\"category\").cat.codes\n",
    "nyc_df['room_type'] = nyc_df['room_type'].astype(\"category\").cat.codes\n",
    "nyc_df"
   ]
  },
  {
   "cell_type": "code",
   "execution_count": 15,
   "metadata": {},
   "outputs": [],
   "source": [
    "X= nyc_df.iloc[:,:-1]\n",
    "y=nyc_df.iloc[:,-1]"
   ]
  },
  {
   "cell_type": "code",
   "execution_count": 16,
   "metadata": {},
   "outputs": [
    {
     "data": {
      "text/html": [
       "<div>\n",
       "<style scoped>\n",
       "    .dataframe tbody tr th:only-of-type {\n",
       "        vertical-align: middle;\n",
       "    }\n",
       "\n",
       "    .dataframe tbody tr th {\n",
       "        vertical-align: top;\n",
       "    }\n",
       "\n",
       "    .dataframe thead th {\n",
       "        text-align: right;\n",
       "    }\n",
       "</style>\n",
       "<table border=\"1\" class=\"dataframe\">\n",
       "  <thead>\n",
       "    <tr style=\"text-align: right;\">\n",
       "      <th></th>\n",
       "      <th>neighbourhood_group</th>\n",
       "      <th>neighbourhood</th>\n",
       "      <th>latitude</th>\n",
       "      <th>longitude</th>\n",
       "      <th>room_type</th>\n",
       "      <th>minimum_nights</th>\n",
       "      <th>number_of_reviews</th>\n",
       "      <th>reviews_per_month</th>\n",
       "      <th>calculated_host_listings_count</th>\n",
       "      <th>availability_365</th>\n",
       "      <th>number_of_reviews_ltm</th>\n",
       "      <th>Quarter</th>\n",
       "    </tr>\n",
       "  </thead>\n",
       "  <tbody>\n",
       "    <tr>\n",
       "      <th>0</th>\n",
       "      <td>2</td>\n",
       "      <td>144</td>\n",
       "      <td>40.753560</td>\n",
       "      <td>-73.985590</td>\n",
       "      <td>0</td>\n",
       "      <td>30</td>\n",
       "      <td>48</td>\n",
       "      <td>0.320000</td>\n",
       "      <td>3</td>\n",
       "      <td>334</td>\n",
       "      <td>0</td>\n",
       "      <td>1</td>\n",
       "    </tr>\n",
       "    <tr>\n",
       "      <th>1</th>\n",
       "      <td>1</td>\n",
       "      <td>12</td>\n",
       "      <td>40.685350</td>\n",
       "      <td>-73.955120</td>\n",
       "      <td>2</td>\n",
       "      <td>30</td>\n",
       "      <td>50</td>\n",
       "      <td>0.320000</td>\n",
       "      <td>2</td>\n",
       "      <td>365</td>\n",
       "      <td>0</td>\n",
       "      <td>1</td>\n",
       "    </tr>\n",
       "    <tr>\n",
       "      <th>2</th>\n",
       "      <td>1</td>\n",
       "      <td>213</td>\n",
       "      <td>40.662650</td>\n",
       "      <td>-73.994540</td>\n",
       "      <td>0</td>\n",
       "      <td>5</td>\n",
       "      <td>2</td>\n",
       "      <td>0.020000</td>\n",
       "      <td>1</td>\n",
       "      <td>201</td>\n",
       "      <td>1</td>\n",
       "      <td>1</td>\n",
       "    </tr>\n",
       "    <tr>\n",
       "      <th>3</th>\n",
       "      <td>2</td>\n",
       "      <td>144</td>\n",
       "      <td>40.764570</td>\n",
       "      <td>-73.983170</td>\n",
       "      <td>2</td>\n",
       "      <td>2</td>\n",
       "      <td>520</td>\n",
       "      <td>3.330000</td>\n",
       "      <td>1</td>\n",
       "      <td>154</td>\n",
       "      <td>46</td>\n",
       "      <td>1</td>\n",
       "    </tr>\n",
       "    <tr>\n",
       "      <th>4</th>\n",
       "      <td>2</td>\n",
       "      <td>225</td>\n",
       "      <td>40.803800</td>\n",
       "      <td>-73.967510</td>\n",
       "      <td>2</td>\n",
       "      <td>2</td>\n",
       "      <td>118</td>\n",
       "      <td>0.770000</td>\n",
       "      <td>1</td>\n",
       "      <td>0</td>\n",
       "      <td>0</td>\n",
       "      <td>1</td>\n",
       "    </tr>\n",
       "    <tr>\n",
       "      <th>...</th>\n",
       "      <td>...</td>\n",
       "      <td>...</td>\n",
       "      <td>...</td>\n",
       "      <td>...</td>\n",
       "      <td>...</td>\n",
       "      <td>...</td>\n",
       "      <td>...</td>\n",
       "      <td>...</td>\n",
       "      <td>...</td>\n",
       "      <td>...</td>\n",
       "      <td>...</td>\n",
       "      <td>...</td>\n",
       "    </tr>\n",
       "    <tr>\n",
       "      <th>38272</th>\n",
       "      <td>4</td>\n",
       "      <td>177</td>\n",
       "      <td>40.632222</td>\n",
       "      <td>-74.136715</td>\n",
       "      <td>2</td>\n",
       "      <td>1</td>\n",
       "      <td>0</td>\n",
       "      <td>1.345447</td>\n",
       "      <td>6</td>\n",
       "      <td>359</td>\n",
       "      <td>0</td>\n",
       "      <td>4</td>\n",
       "    </tr>\n",
       "    <tr>\n",
       "      <th>38273</th>\n",
       "      <td>4</td>\n",
       "      <td>177</td>\n",
       "      <td>40.630502</td>\n",
       "      <td>-74.136142</td>\n",
       "      <td>2</td>\n",
       "      <td>1</td>\n",
       "      <td>0</td>\n",
       "      <td>1.345447</td>\n",
       "      <td>6</td>\n",
       "      <td>359</td>\n",
       "      <td>0</td>\n",
       "      <td>4</td>\n",
       "    </tr>\n",
       "    <tr>\n",
       "      <th>38274</th>\n",
       "      <td>2</td>\n",
       "      <td>144</td>\n",
       "      <td>40.753887</td>\n",
       "      <td>-73.980536</td>\n",
       "      <td>2</td>\n",
       "      <td>1</td>\n",
       "      <td>0</td>\n",
       "      <td>1.345447</td>\n",
       "      <td>13</td>\n",
       "      <td>11</td>\n",
       "      <td>0</td>\n",
       "      <td>4</td>\n",
       "    </tr>\n",
       "    <tr>\n",
       "      <th>38275</th>\n",
       "      <td>2</td>\n",
       "      <td>144</td>\n",
       "      <td>40.755569</td>\n",
       "      <td>-73.981976</td>\n",
       "      <td>2</td>\n",
       "      <td>1</td>\n",
       "      <td>0</td>\n",
       "      <td>1.345447</td>\n",
       "      <td>13</td>\n",
       "      <td>3</td>\n",
       "      <td>0</td>\n",
       "      <td>4</td>\n",
       "    </tr>\n",
       "    <tr>\n",
       "      <th>38276</th>\n",
       "      <td>1</td>\n",
       "      <td>58</td>\n",
       "      <td>40.677560</td>\n",
       "      <td>-73.894990</td>\n",
       "      <td>0</td>\n",
       "      <td>1</td>\n",
       "      <td>0</td>\n",
       "      <td>1.345447</td>\n",
       "      <td>1</td>\n",
       "      <td>312</td>\n",
       "      <td>0</td>\n",
       "      <td>4</td>\n",
       "    </tr>\n",
       "  </tbody>\n",
       "</table>\n",
       "<p>150241 rows × 12 columns</p>\n",
       "</div>"
      ],
      "text/plain": [
       "       neighbourhood_group  neighbourhood   latitude  longitude  room_type  \\\n",
       "0                        2            144  40.753560 -73.985590          0   \n",
       "1                        1             12  40.685350 -73.955120          2   \n",
       "2                        1            213  40.662650 -73.994540          0   \n",
       "3                        2            144  40.764570 -73.983170          2   \n",
       "4                        2            225  40.803800 -73.967510          2   \n",
       "...                    ...            ...        ...        ...        ...   \n",
       "38272                    4            177  40.632222 -74.136715          2   \n",
       "38273                    4            177  40.630502 -74.136142          2   \n",
       "38274                    2            144  40.753887 -73.980536          2   \n",
       "38275                    2            144  40.755569 -73.981976          2   \n",
       "38276                    1             58  40.677560 -73.894990          0   \n",
       "\n",
       "       minimum_nights  number_of_reviews  reviews_per_month  \\\n",
       "0                  30                 48           0.320000   \n",
       "1                  30                 50           0.320000   \n",
       "2                   5                  2           0.020000   \n",
       "3                   2                520           3.330000   \n",
       "4                   2                118           0.770000   \n",
       "...               ...                ...                ...   \n",
       "38272               1                  0           1.345447   \n",
       "38273               1                  0           1.345447   \n",
       "38274               1                  0           1.345447   \n",
       "38275               1                  0           1.345447   \n",
       "38276               1                  0           1.345447   \n",
       "\n",
       "       calculated_host_listings_count  availability_365  \\\n",
       "0                                   3               334   \n",
       "1                                   2               365   \n",
       "2                                   1               201   \n",
       "3                                   1               154   \n",
       "4                                   1                 0   \n",
       "...                               ...               ...   \n",
       "38272                               6               359   \n",
       "38273                               6               359   \n",
       "38274                              13                11   \n",
       "38275                              13                 3   \n",
       "38276                               1               312   \n",
       "\n",
       "       number_of_reviews_ltm  Quarter  \n",
       "0                          0        1  \n",
       "1                          0        1  \n",
       "2                          1        1  \n",
       "3                         46        1  \n",
       "4                          0        1  \n",
       "...                      ...      ...  \n",
       "38272                      0        4  \n",
       "38273                      0        4  \n",
       "38274                      0        4  \n",
       "38275                      0        4  \n",
       "38276                      0        4  \n",
       "\n",
       "[150241 rows x 12 columns]"
      ]
     },
     "execution_count": 16,
     "metadata": {},
     "output_type": "execute_result"
    }
   ],
   "source": [
    "X"
   ]
  },
  {
   "cell_type": "code",
   "execution_count": 17,
   "metadata": {},
   "outputs": [
    {
     "data": {
      "text/plain": [
       "0        5.017280\n",
       "1        4.110874\n",
       "2        5.620401\n",
       "3        4.234107\n",
       "4        4.330733\n",
       "           ...   \n",
       "38272    4.382027\n",
       "38273    4.343805\n",
       "38274    4.762174\n",
       "38275    4.672829\n",
       "38276    6.536692\n",
       "Name: price_log, Length: 150241, dtype: float64"
      ]
     },
     "execution_count": 17,
     "metadata": {},
     "output_type": "execute_result"
    }
   ],
   "source": [
    "y"
   ]
  },
  {
   "cell_type": "code",
   "execution_count": 18,
   "metadata": {},
   "outputs": [],
   "source": [
    "from sklearn.model_selection import train_test_split\n",
    "from sklearn.model_selection import KFold\n",
    "from sklearn.model_selection import GridSearchCV\n",
    "\n",
    "from sklearn.ensemble import RandomForestRegressor, GradientBoostingRegressor\n",
    "from sklearn.linear_model import LinearRegression,Ridge,Lasso\n",
    "from sklearn.preprocessing import StandardScaler\n",
    "from sklearn.pipeline import Pipeline\n",
    "from sklearn import metrics\n",
    "scaler = StandardScaler()\n",
    "X_t = scaler.fit_transform(X)"
   ]
  },
  {
   "cell_type": "code",
   "execution_count": 19,
   "metadata": {},
   "outputs": [],
   "source": [
    "X_train,X_test,y_train,y_test = train_test_split(X_t,y,test_size=0.2, random_state=42)"
   ]
  },
  {
   "cell_type": "code",
   "execution_count": 20,
   "metadata": {},
   "outputs": [
    {
     "name": "stderr",
     "output_type": "stream",
     "text": [
      "C:\\ProgramData\\Anaconda3\\lib\\site-packages\\sklearn\\linear_model\\_base.py:141: FutureWarning: 'normalize' was deprecated in version 1.0 and will be removed in 1.2.\n",
      "If you wish to scale the data, use Pipeline with a StandardScaler in a preprocessing stage. To reproduce the previous behavior:\n",
      "\n",
      "from sklearn.pipeline import make_pipeline\n",
      "\n",
      "model = make_pipeline(StandardScaler(with_mean=False), LinearRegression())\n",
      "\n",
      "If you wish to pass a sample_weight parameter, you need to pass it as a fit parameter to each step of the pipeline as follows:\n",
      "\n",
      "kwargs = {s[0] + '__sample_weight': sample_weight for s in model.steps}\n",
      "model.fit(X, y, **kwargs)\n",
      "\n",
      "\n",
      "  warnings.warn(\n"
     ]
    },
    {
     "data": {
      "text/plain": [
       "LinearRegression(normalize=True)"
      ]
     },
     "execution_count": 20,
     "metadata": {},
     "output_type": "execute_result"
    }
   ],
   "source": [
    "## liner regression\n",
    "lin_reg = LinearRegression(normalize=True)\n",
    "lin_reg.fit(X_train,y_train)"
   ]
  },
  {
   "cell_type": "code",
   "execution_count": 22,
   "metadata": {},
   "outputs": [
    {
     "data": {
      "text/html": [
       "<div>\n",
       "<style scoped>\n",
       "    .dataframe tbody tr th:only-of-type {\n",
       "        vertical-align: middle;\n",
       "    }\n",
       "\n",
       "    .dataframe tbody tr th {\n",
       "        vertical-align: top;\n",
       "    }\n",
       "\n",
       "    .dataframe thead th {\n",
       "        text-align: right;\n",
       "    }\n",
       "</style>\n",
       "<table border=\"1\" class=\"dataframe\">\n",
       "  <thead>\n",
       "    <tr style=\"text-align: right;\">\n",
       "      <th></th>\n",
       "      <th>Coefficient</th>\n",
       "    </tr>\n",
       "  </thead>\n",
       "  <tbody>\n",
       "    <tr>\n",
       "      <th>availability_365</th>\n",
       "      <td>0.120359</td>\n",
       "    </tr>\n",
       "    <tr>\n",
       "      <th>neighbourhood_group</th>\n",
       "      <td>0.037078</td>\n",
       "    </tr>\n",
       "    <tr>\n",
       "      <th>latitude</th>\n",
       "      <td>0.037076</td>\n",
       "    </tr>\n",
       "    <tr>\n",
       "      <th>neighbourhood</th>\n",
       "      <td>0.036036</td>\n",
       "    </tr>\n",
       "    <tr>\n",
       "      <th>number_of_reviews_ltm</th>\n",
       "      <td>0.020419</td>\n",
       "    </tr>\n",
       "    <tr>\n",
       "      <th>reviews_per_month</th>\n",
       "      <td>0.013605</td>\n",
       "    </tr>\n",
       "    <tr>\n",
       "      <th>Quarter</th>\n",
       "      <td>-0.003676</td>\n",
       "    </tr>\n",
       "    <tr>\n",
       "      <th>calculated_host_listings_count</th>\n",
       "      <td>-0.024690</td>\n",
       "    </tr>\n",
       "    <tr>\n",
       "      <th>number_of_reviews</th>\n",
       "      <td>-0.048912</td>\n",
       "    </tr>\n",
       "    <tr>\n",
       "      <th>minimum_nights</th>\n",
       "      <td>-0.068919</td>\n",
       "    </tr>\n",
       "    <tr>\n",
       "      <th>longitude</th>\n",
       "      <td>-0.167501</td>\n",
       "    </tr>\n",
       "    <tr>\n",
       "      <th>room_type</th>\n",
       "      <td>-0.384352</td>\n",
       "    </tr>\n",
       "  </tbody>\n",
       "</table>\n",
       "</div>"
      ],
      "text/plain": [
       "                                Coefficient\n",
       "availability_365                   0.120359\n",
       "neighbourhood_group                0.037078\n",
       "latitude                           0.037076\n",
       "neighbourhood                      0.036036\n",
       "number_of_reviews_ltm              0.020419\n",
       "reviews_per_month                  0.013605\n",
       "Quarter                           -0.003676\n",
       "calculated_host_listings_count    -0.024690\n",
       "number_of_reviews                 -0.048912\n",
       "minimum_nights                    -0.068919\n",
       "longitude                         -0.167501\n",
       "room_type                         -0.384352"
      ]
     },
     "execution_count": 22,
     "metadata": {},
     "output_type": "execute_result"
    }
   ],
   "source": [
    "pipes = Pipeline([('scl',StandardScaler(with_mean=False)),\n",
    "                 ('clf',LinearRegression())])\n",
    "fitted = pipes.fit(X_train,y_train)\n",
    "\n",
    "lin_reg = fitted.named_steps['clf']\n",
    "coeff_df_lr = pd.DataFrame(lin_reg.coef_, X.columns, columns=['Coefficient']).sort_values(by=['Coefficient'],ascending=False)\n",
    "coeff_df_lr"
   ]
  },
  {
   "cell_type": "code",
   "execution_count": 23,
   "metadata": {},
   "outputs": [
    {
     "data": {
      "text/html": [
       "<div>\n",
       "<style scoped>\n",
       "    .dataframe tbody tr th:only-of-type {\n",
       "        vertical-align: middle;\n",
       "    }\n",
       "\n",
       "    .dataframe tbody tr th {\n",
       "        vertical-align: top;\n",
       "    }\n",
       "\n",
       "    .dataframe thead th {\n",
       "        text-align: right;\n",
       "    }\n",
       "</style>\n",
       "<table border=\"1\" class=\"dataframe\">\n",
       "  <thead>\n",
       "    <tr style=\"text-align: right;\">\n",
       "      <th></th>\n",
       "      <th>Coefficient</th>\n",
       "    </tr>\n",
       "  </thead>\n",
       "  <tbody>\n",
       "    <tr>\n",
       "      <th>availability_365</th>\n",
       "      <td>0.120359</td>\n",
       "    </tr>\n",
       "    <tr>\n",
       "      <th>neighbourhood_group</th>\n",
       "      <td>0.037078</td>\n",
       "    </tr>\n",
       "    <tr>\n",
       "      <th>latitude</th>\n",
       "      <td>0.037076</td>\n",
       "    </tr>\n",
       "    <tr>\n",
       "      <th>neighbourhood</th>\n",
       "      <td>0.036036</td>\n",
       "    </tr>\n",
       "    <tr>\n",
       "      <th>number_of_reviews_ltm</th>\n",
       "      <td>0.020419</td>\n",
       "    </tr>\n",
       "    <tr>\n",
       "      <th>reviews_per_month</th>\n",
       "      <td>0.013605</td>\n",
       "    </tr>\n",
       "    <tr>\n",
       "      <th>Quarter</th>\n",
       "      <td>-0.003676</td>\n",
       "    </tr>\n",
       "    <tr>\n",
       "      <th>calculated_host_listings_count</th>\n",
       "      <td>-0.024690</td>\n",
       "    </tr>\n",
       "    <tr>\n",
       "      <th>number_of_reviews</th>\n",
       "      <td>-0.048912</td>\n",
       "    </tr>\n",
       "    <tr>\n",
       "      <th>minimum_nights</th>\n",
       "      <td>-0.068919</td>\n",
       "    </tr>\n",
       "    <tr>\n",
       "      <th>longitude</th>\n",
       "      <td>-0.167501</td>\n",
       "    </tr>\n",
       "    <tr>\n",
       "      <th>room_type</th>\n",
       "      <td>-0.384352</td>\n",
       "    </tr>\n",
       "  </tbody>\n",
       "</table>\n",
       "</div>"
      ],
      "text/plain": [
       "                                Coefficient\n",
       "availability_365                   0.120359\n",
       "neighbourhood_group                0.037078\n",
       "latitude                           0.037076\n",
       "neighbourhood                      0.036036\n",
       "number_of_reviews_ltm              0.020419\n",
       "reviews_per_month                  0.013605\n",
       "Quarter                           -0.003676\n",
       "calculated_host_listings_count    -0.024690\n",
       "number_of_reviews                 -0.048912\n",
       "minimum_nights                    -0.068919\n",
       "longitude                         -0.167501\n",
       "room_type                         -0.384352"
      ]
     },
     "execution_count": 23,
     "metadata": {},
     "output_type": "execute_result"
    }
   ],
   "source": [
    "coeff_df_lr = pd.DataFrame(lin_reg.coef_, X.columns, columns=['Coefficient']).sort_values(by=['Coefficient'],ascending=False)\n",
    "coeff_df_lr"
   ]
  },
  {
   "cell_type": "code",
   "execution_count": 24,
   "metadata": {},
   "outputs": [],
   "source": [
    "pred_lr = lin_reg.predict(X_test)"
   ]
  },
  {
   "cell_type": "code",
   "execution_count": 25,
   "metadata": {},
   "outputs": [
    {
     "data": {
      "text/plain": [
       "<AxesSubplot:xlabel='Price', ylabel='PredictedPrice'>"
      ]
     },
     "execution_count": 25,
     "metadata": {},
     "output_type": "execute_result"
    },
    {
     "data": {
      "image/png": "[encoded data removed]",
      "text/plain": [
       "<Figure size 432x288 with 1 Axes>"
      ]
     },
     "metadata": {
      "needs_background": "light"
     },
     "output_type": "display_data"
    }
   ],
   "source": [
    "pd.DataFrame({'Price': y_test, 'PredictedPrice': pred_lr}).plot.scatter(x='Price', y='PredictedPrice')"
   ]
  },
  {
   "cell_type": "code",
   "execution_count": 26,
   "metadata": {},
   "outputs": [
    {
     "data": {
      "text/plain": [
       "{'alpha': 1e-05}"
      ]
     },
     "execution_count": 26,
     "metadata": {},
     "output_type": "execute_result"
    }
   ],
   "source": [
    "#Lasso Regression \n",
    "##Adrian removed Alpah 0 due to warning\n",
    "lasso = Lasso()\n",
    "grid = { \n",
    "    'alpha': np.array([1,0.1,0.01,0.001,0.0001,0.00001])\n",
    "}\n",
    "CV_lasso = GridSearchCV(estimator=lasso, scoring='neg_mean_squared_error', param_grid=grid, cv= 5)\n",
    "CV_lasso.fit(X_train, y_train)\n",
    "CV_lasso.best_params_"
   ]
  },
  {
   "cell_type": "code",
   "execution_count": 27,
   "metadata": {},
   "outputs": [
    {
     "data": {
      "text/plain": [
       "{'alpha': 1.0}"
      ]
     },
     "execution_count": 27,
     "metadata": {},
     "output_type": "execute_result"
    }
   ],
   "source": [
    "# Ridge Regression\n",
    "ridge = Ridge()\n",
    "grid = { \n",
    "    'alpha': np.array([1,0.1,0.01,0.001,0.0001,0])\n",
    "}\n",
    "CV_ridge = GridSearchCV(estimator=ridge, scoring='neg_mean_squared_error',param_grid=grid, cv= 5)\n",
    "CV_ridge.fit(X_train, y_train)\n",
    "CV_ridge.best_params_"
   ]
  },
  {
   "cell_type": "code",
   "execution_count": 28,
   "metadata": {},
   "outputs": [
    {
     "data": {
      "text/plain": [
       "{'max_depth': 7}"
      ]
     },
     "execution_count": 28,
     "metadata": {},
     "output_type": "execute_result"
    }
   ],
   "source": [
    "#random forest\n",
    "grid = { \n",
    "    'max_depth' : [3,4,5,6,7]\n",
    "}\n",
    "## show start time\n",
    "\n",
    "## Grid Search function\n",
    "CV_rfr = GridSearchCV(estimator=RandomForestRegressor(), param_grid=grid, cv= 5)\n",
    "CV_rfr.fit(X_train, y_train)\n",
    "CV_rfr.best_params_"
   ]
  },
  {
   "cell_type": "code",
   "execution_count": 31,
   "metadata": {},
   "outputs": [],
   "source": [
    "#prediction\n",
    "\n",
    "##Linear Regression\n",
    "lin_reg = make_pipeline(StandardScaler(with_mean=False), LinearRegression())#LinearRegression(normalize = True)\n",
    "lin_reg.fit(X_train, y_train)\n",
    "lr_pred_train= lin_reg.predict(X_train)\n",
    "lr_pred_test= lin_reg.predict(X_test)\n",
    "\n",
    "#Lasso \n",
    "lasso = Lasso(alpha = .1)\n",
    "lasso.fit(X_train, y_train)\n",
    "lasso_pred_train= lasso.predict(X_train)\n",
    "lasso_pred_test = lasso.predict(X_test) \n",
    "\n",
    "#Ridge \n",
    "ridge = Ridge(alpha = 1)\n",
    "ridge.fit(X_train, y_train)  \n",
    "ridge_pred_train= ridge.predict(X_train)\n",
    "ridge_pred_test = ridge.predict(X_test) \n",
    "\n",
    "#Random Forest\n",
    "rdf = RandomForestRegressor(max_depth=7)\n",
    "rdf.fit(X_train, y_train) \n",
    "rdf_pred_train= rdf.predict(X_train)\n",
    "rdf_pred_test = rdf.predict(X_test) "
   ]
  },
  {
   "cell_type": "code",
   "execution_count": 32,
   "metadata": {},
   "outputs": [
    {
     "name": "stdout",
     "output_type": "stream",
     "text": [
      "4 room_type 0.5806385610542405\n",
      "3 longitude 0.1523567742419897\n",
      "8 calculated_host_listings_count 0.06915289755809943\n",
      "2 latitude 0.06476758105885543\n",
      "9 availability_365 0.052355630126134325\n",
      "5 minimum_nights 0.047458341708721166\n",
      "7 reviews_per_month 0.012101628934968071\n",
      "6 number_of_reviews 0.007250974055375221\n",
      "1 neighbourhood 0.0071929071206287085\n",
      "10 number_of_reviews_ltm 0.005198267397255152\n",
      "11 Quarter 0.0009914725731039167\n",
      "0 neighbourhood_group 0.0005349641706284443\n"
     ]
    }
   ],
   "source": [
    "important_features_dict = {}\n",
    "for idx, val in enumerate(rdf.feature_importances_):\n",
    "    important_features_dict[idx] = val\n",
    "\n",
    "important_features_list = sorted(important_features_dict,\n",
    "                                 key=important_features_dict.get,\n",
    "                                 reverse=True)\n",
    "for i in important_features_list:\n",
    "    print(i,X.columns[i],important_features_dict[i])"
   ]
  },
  {
   "cell_type": "code",
   "execution_count": 33,
   "metadata": {},
   "outputs": [],
   "source": [
    "def print_evaluate(Model, tt, Price, PredictedPrice):  \n",
    "    mae = metrics.mean_absolute_error(Price, PredictedPrice)\n",
    "    mse = metrics.mean_squared_error(Price, PredictedPrice)\n",
    "    rmse = np.sqrt(metrics.mean_squared_error(Price, PredictedPrice))\n",
    "    r2_square = metrics.r2_score(Price, PredictedPrice)\n",
    "    print(Model+' '+tt)\n",
    "    print('MAE:', mae)\n",
    "    print('MSE:', mse)\n",
    "    print('RMSE:', rmse)\n",
    "    print('R2 Square', r2_square)\n",
    "    print('__________________________________')"
   ]
  },
  {
   "cell_type": "code",
   "execution_count": 34,
   "metadata": {
    "scrolled": true
   },
   "outputs": [
    {
     "name": "stdout",
     "output_type": "stream",
     "text": [
      "Linear_Regression test\n",
      "MAE: 0.4382272899973677\n",
      "MSE: 0.3799429645726341\n",
      "RMSE: 0.6163951367204596\n",
      "R2 Square 0.3572984052586906\n",
      "__________________________________\n",
      "Linear_Regression train\n",
      "MAE: 0.4373029037649965\n",
      "MSE: 0.37168329451050436\n",
      "RMSE: 0.6096583424431297\n",
      "R2 Square 0.3655181672852581\n",
      "__________________________________\n",
      "Lasso test\n",
      "MAE: 0.466985834378394\n",
      "MSE: 0.4198598767875391\n",
      "RMSE: 0.6479659534169516\n",
      "R2 Square 0.28977599918775554\n",
      "__________________________________\n",
      "Lasso train\n",
      "MAE: 0.46710964565561414\n",
      "MSE: 0.41296149853267267\n",
      "RMSE: 0.6426208046217246\n",
      "R2 Square 0.2950542241218985\n",
      "__________________________________\n",
      "Ridge test\n",
      "MAE: 0.4382273069364358\n",
      "MSE: 0.37994294708244636\n",
      "RMSE: 0.6163951225329791\n",
      "R2 Square 0.3572984348446353\n",
      "__________________________________\n",
      "Ridge train\n",
      "MAE: 0.43730296793141593\n",
      "MSE: 0.37168329452432236\n",
      "RMSE: 0.6096583424544623\n",
      "R2 Square 0.36551816726166997\n",
      "__________________________________\n",
      "Radnom Forest test\n",
      "MAE: 0.37169530183617294\n",
      "MSE: 0.2720440887477013\n",
      "RMSE: 0.5215784588608902\n",
      "R2 Square 0.5398173252799658\n",
      "__________________________________\n",
      "Radnom Forest train\n",
      "MAE: 0.3684043255896345\n",
      "MSE: 0.2632448886023024\n",
      "RMSE: 0.5130739601678324\n",
      "R2 Square 0.5506279086523311\n",
      "__________________________________\n"
     ]
    }
   ],
   "source": [
    "print_evaluate('Linear_Regression', 'test', y_test,lr_pred_test)\n",
    "print_evaluate('Linear_Regression', 'train', y_train,lr_pred_train)\n",
    "\n",
    "print_evaluate('Lasso', 'test',y_test, lasso_pred_test)\n",
    "print_evaluate('Lasso', 'train',y_train, lasso_pred_train)\n",
    "\n",
    "print_evaluate('Ridge', 'test',y_test, ridge_pred_test)\n",
    "print_evaluate('Ridge', 'train',y_train, ridge_pred_train)\n",
    "\n",
    "print_evaluate('Radnom Forest', 'test',y_test, rdf_pred_test)\n",
    "print_evaluate('Radnom Forest', 'train',y_train, rdf_pred_train)"
   ]
  },
  {
   "cell_type": "code",
   "execution_count": 35,
   "metadata": {},
   "outputs": [],
   "source": [
    "#polynomial transformation\n",
    "from sklearn.preprocessing import PolynomialFeatures\n",
    "poly = PolynomialFeatures(degree=2, interaction_only=True, include_bias=False)\n",
    "X_train_p = poly.fit_transform(X_train)\n",
    "X_test_p = poly.fit_transform(X_test)"
   ]
  },
  {
   "cell_type": "code",
   "execution_count": 36,
   "metadata": {},
   "outputs": [],
   "source": [
    "from sklearn.pipeline import make_pipeline\n",
    "#prediction\n",
    "\n",
    "##Linear Regression\n",
    "lin_reg = make_pipeline(StandardScaler(with_mean=False), LinearRegression())\n",
    "# lin_reg = LinearRegression(normalize = True)\n",
    "lin_reg.fit(X_train_p, y_train)\n",
    "lr_pred= lin_reg.predict(X_test_p)"
   ]
  },
  {
   "cell_type": "code",
   "execution_count": 37,
   "metadata": {},
   "outputs": [],
   "source": [
    "#Lasso \n",
    "lasso = Lasso(alpha = 0.1)\n",
    "lasso.fit(X_train_p, y_train)\n",
    "lasso_pred = lasso.predict(X_test_p) "
   ]
  },
  {
   "cell_type": "code",
   "execution_count": 38,
   "metadata": {},
   "outputs": [],
   "source": [
    "#Ridge \n",
    "ridge = Ridge(alpha = 1)\n",
    "ridge.fit(X_train_p, y_train)             \n",
    "ridge_pred = ridge.predict(X_test_p) "
   ]
  },
  {
   "cell_type": "code",
   "execution_count": 39,
   "metadata": {},
   "outputs": [],
   "source": [
    "#Random Forest\n",
    "rdf = RandomForestRegressor(max_depth=7)\n",
    "rdf.fit(X_train_p, y_train) \n",
    "rdf_pred= rdf.predict(X_test_p)"
   ]
  },
  {
   "cell_type": "code",
   "execution_count": 40,
   "metadata": {},
   "outputs": [
    {
     "name": "stdout",
     "output_type": "stream",
     "text": [
      "Linear_Regression test\n",
      "MAE: 0.41743458288965446\n",
      "MSE: 0.35217238188057787\n",
      "RMSE: 0.5934411359861885\n",
      "R2 Square 0.40427439757152595\n",
      "__________________________________\n",
      "Lasso test\n",
      "MAE: 0.4668926772922435\n",
      "MSE: 0.4197607876664102\n",
      "RMSE: 0.6478894872325142\n",
      "R2 Square 0.28994361575684435\n",
      "__________________________________\n",
      "Ridge test\n",
      "MAE: 0.4174344478880225\n",
      "MSE: 0.35217211861198583\n",
      "RMSE: 0.5934409141708935\n",
      "R2 Square 0.40427484290979965\n",
      "__________________________________\n",
      "Radnom Forest test\n",
      "MAE: 0.3680029194785591\n",
      "MSE: 0.2654982914849019\n",
      "RMSE: 0.5152652632236157\n",
      "R2 Square 0.5508900249531565\n",
      "__________________________________\n"
     ]
    }
   ],
   "source": [
    "print_evaluate('Linear_Regression', 'test', y_test,lr_pred)\n",
    "print_evaluate('Lasso', 'test',y_test, lasso_pred)\n",
    "print_evaluate('Ridge', 'test',y_test, ridge_pred)\n",
    "print_evaluate('Radnom Forest', 'test',y_test, rdf_pred)"
   ]
  },
  {
   "cell_type": "code",
   "execution_count": 41,
   "metadata": {},
   "outputs": [
    {
     "data": {
      "text/plain": [
       "<AxesSubplot:xlabel='Price', ylabel='PredictedPrice'>"
      ]
     },
     "execution_count": 41,
     "metadata": {},
     "output_type": "execute_result"
    },
    {
     "data": {
      "image/png": "[encoded data removed]",
      "text/plain": [
       "<Figure size 432x288 with 1 Axes>"
      ]
     },
     "metadata": {
      "needs_background": "light"
     },
     "output_type": "display_data"
    }
   ],
   "source": [
    "pd.DataFrame({'Price': y_test, 'PredictedPrice': rdf_pred}).plot.scatter(x='Price', y='PredictedPrice')"
   ]
  },
  {
   "cell_type": "code",
   "execution_count": 42,
   "metadata": {},
   "outputs": [
    {
     "data": {
      "text/plain": [
       "array(['Midtown', 'Bedford-Stuyvesant', 'Sunset Park', 'Upper West Side',\n",
       "       'South Slope', 'Williamsburg', 'East Harlem', 'Fort Greene',\n",
       "       \"Hell's Kitchen\", 'Harlem', 'Flatbush', 'East Village',\n",
       "       'Long Island City', 'Jamaica', 'Greenpoint', 'Lower East Side',\n",
       "       'Chelsea', 'Upper East Side', 'Prospect Heights', 'Clinton Hill',\n",
       "       'Washington Heights', 'Kips Bay', 'Carroll Gardens',\n",
       "       'West Village', 'Park Slope', 'Prospect-Lefferts Gardens',\n",
       "       'East Flatbush', 'Boerum Hill', 'Sunnyside', 'St. George',\n",
       "       'Tribeca', 'Ridgewood', 'Mott Haven', 'Morningside Heights',\n",
       "       'Gowanus', 'Ditmars Steinway', 'Middle Village',\n",
       "       'Brooklyn Heights', 'Flatiron District', 'Windsor Terrace',\n",
       "       'Chinatown', 'Greenwich Village', 'Clason Point', 'Eastchester',\n",
       "       'Crown Heights', 'Nolita', 'Astoria', 'Kingsbridge', 'Bushwick',\n",
       "       'Forest Hills', 'Murray Hill', 'University Heights', 'Gravesend',\n",
       "       'Allerton', 'East New York', 'Stuyvesant Town', 'Sheepshead Bay',\n",
       "       'Emerson Hill', 'Bensonhurst', 'Shore Acres', 'Gramercy',\n",
       "       'Arrochar', 'Theater District', 'Rego Park', 'Kensington',\n",
       "       'Woodside', 'Cypress Hills', 'SoHo', 'Little Italy', 'Elmhurst',\n",
       "       'Clifton', 'Maspeth', 'Spuyten Duyvil', 'Briarwood',\n",
       "       'Battery Park City', 'Brighton Beach', 'Jackson Heights',\n",
       "       'Longwood', 'Inwood', 'Two Bridges', 'Fort Hamilton', 'Bayside',\n",
       "       'Cobble Hill', 'New Springville', 'Flushing', 'Red Hook',\n",
       "       'Civic Center', 'Tompkinsville', 'Tottenville', 'NoHo', 'DUMBO',\n",
       "       'Columbia St', 'East Elmhurst', 'Concord', 'Downtown Brooklyn',\n",
       "       'Melrose', 'Kew Gardens', 'College Point', 'Vinegar Hill',\n",
       "       'City Island', 'Bay Ridge', 'Glendale', 'Canarsie', 'Port Morris',\n",
       "       'Arverne', 'Richmond Hill', 'Flatlands', 'Financial District',\n",
       "       'Queens Village', 'Williamsbridge', 'Soundview', 'Woodhaven',\n",
       "       'Parkchester', 'Bronxdale', 'Sea Gate', 'Ozone Park',\n",
       "       'Bay Terrace', 'Rockaway Beach', 'Hollis', 'Claremont Village',\n",
       "       'Whitestone', 'Fordham', 'Norwood', 'Concourse Village',\n",
       "       'Borough Park', 'Fieldston', 'Springfield Gardens', 'Far Rockaway',\n",
       "       'Huguenot', 'Mount Hope', 'Wakefield', 'Navy Yard', 'Brownsville',\n",
       "       'Roosevelt Island', 'Lighthouse Hill', 'Unionport', 'Midwood',\n",
       "       'Randall Manor', 'South Ozone Park', 'Kew Gardens Hills',\n",
       "       'Jamaica Estates', 'Concourse', 'Bellerose', 'Fresh Meadows',\n",
       "       'Morris Park', 'Mariners Harbor', 'East Morrisania', 'Corona',\n",
       "       'Tremont', 'St. Albans', 'West Brighton', 'Manhattan Beach',\n",
       "       'Marble Hill', 'Dongan Hills', 'Holliswood', 'Morris Heights',\n",
       "       'Belmont', 'Castleton Corners', 'Laurelton', 'Hunts Point',\n",
       "       'Howard Beach', 'Great Kills', 'Pelham Bay', 'Silver Lake',\n",
       "       'Riverdale', 'Morrisania', 'Rosedale', 'Grymes Hill', 'Edgemere',\n",
       "       'New Brighton', 'Pelham Gardens', 'Baychester', 'Belle Harbor',\n",
       "       'Bergen Beach', 'Stapleton', 'Cambria Heights', 'Richmondtown',\n",
       "       'Olinville', 'Dyker Heights', 'Throgs Neck', 'Coney Island',\n",
       "       'Howland Hook', 'North Riverdale', 'South Beach', 'Bath Beach',\n",
       "       'Midland Beach', 'Eltingville', 'Oakwood', 'Schuylerville',\n",
       "       'Edenwald', 'Mount Eden', 'Fort Wadsworth', 'Westchester Square',\n",
       "       'Van Nest', 'Arden Heights', 'Woodlawn', 'Grant City', 'New Dorp',\n",
       "       'Port Richmond', 'Neponsit', 'Bayswater', 'Willowbrook',\n",
       "       'Douglaston', 'New Dorp Beach', 'Todt Hill', 'Mill Basin',\n",
       "       'West Farms', 'Little Neck', 'Rosebank', 'Co-op City',\n",
       "       'Jamaica Hills', 'Rossville', \"Prince's Bay\", 'Gerritsen Beach',\n",
       "       'Highbridge', \"Bull's Head\", 'Castle Hill', 'Westerleigh',\n",
       "       'Chelsea, Staten Island', 'Glen Oaks', 'Breezy Point',\n",
       "       'Graniteville', 'Woodrow'], dtype=object)"
      ]
     },
     "execution_count": 42,
     "metadata": {},
     "output_type": "execute_result"
    }
   ],
   "source": [
    "df1.neighbourhood.unique()"
   ]
  },
  {
   "cell_type": "markdown",
   "metadata": {},
   "source": [
    "# Part II add more detailed features"
   ]
  },
  {
   "cell_type": "code",
   "execution_count": 43,
   "metadata": {},
   "outputs": [],
   "source": [
    "selected_fields = [\n",
    "    'id', \n",
    "    'host_is_superhost','host_has_profile_pic', 'host_identity_verified', \n",
    "    'property_type', 'accommodates', 'maximum_nights', \n",
    "    'availability_30', 'availability_60', 'availability_90',\n",
    "    'instant_bookable']"
   ]
  },
  {
   "cell_type": "code",
   "execution_count": 44,
   "metadata": {},
   "outputs": [
    {
     "ename": "FileNotFoundError",
     "evalue": "[Errno 2] No such file or directory: 'listings_202203_detailed.csv'",
     "output_type": "error",
     "traceback": [
      "\u001b[1;31m---------------------------------------------------------------------------\u001b[0m",
      "\u001b[1;31mFileNotFoundError\u001b[0m                         Traceback (most recent call last)",
      "Input \u001b[1;32mIn [44]\u001b[0m, in \u001b[0;36m<cell line: 1>\u001b[1;34m()\u001b[0m\n\u001b[1;32m----> 1\u001b[0m df1_d \u001b[38;5;241m=\u001b[39m \u001b[43mpd\u001b[49m\u001b[38;5;241;43m.\u001b[39;49m\u001b[43mread_csv\u001b[49m\u001b[43m(\u001b[49m\u001b[38;5;124;43m'\u001b[39;49m\u001b[38;5;124;43mlistings_202203_detailed.csv\u001b[39;49m\u001b[38;5;124;43m'\u001b[39;49m\u001b[43m)\u001b[49m\n\u001b[0;32m      2\u001b[0m df1_d\u001b[38;5;241m=\u001b[39mdf1_d[selected_fields]\n\u001b[0;32m      4\u001b[0m df2_d \u001b[38;5;241m=\u001b[39m pd\u001b[38;5;241m.\u001b[39mread_csv(\u001b[38;5;124m'\u001b[39m\u001b[38;5;124mlistings_202206_detailed.csv\u001b[39m\u001b[38;5;124m'\u001b[39m)\n",
      "File \u001b[1;32mC:\\ProgramData\\Anaconda3\\lib\\site-packages\\pandas\\util\\_decorators.py:311\u001b[0m, in \u001b[0;36mdeprecate_nonkeyword_arguments.<locals>.decorate.<locals>.wrapper\u001b[1;34m(*args, **kwargs)\u001b[0m\n\u001b[0;32m    305\u001b[0m \u001b[38;5;28;01mif\u001b[39;00m \u001b[38;5;28mlen\u001b[39m(args) \u001b[38;5;241m>\u001b[39m num_allow_args:\n\u001b[0;32m    306\u001b[0m     warnings\u001b[38;5;241m.\u001b[39mwarn(\n\u001b[0;32m    307\u001b[0m         msg\u001b[38;5;241m.\u001b[39mformat(arguments\u001b[38;5;241m=\u001b[39marguments),\n\u001b[0;32m    308\u001b[0m         \u001b[38;5;167;01mFutureWarning\u001b[39;00m,\n\u001b[0;32m    309\u001b[0m         stacklevel\u001b[38;5;241m=\u001b[39mstacklevel,\n\u001b[0;32m    310\u001b[0m     )\n\u001b[1;32m--> 311\u001b[0m \u001b[38;5;28;01mreturn\u001b[39;00m func(\u001b[38;5;241m*\u001b[39margs, \u001b[38;5;241m*\u001b[39m\u001b[38;5;241m*\u001b[39mkwargs)\n",
      "File \u001b[1;32mC:\\ProgramData\\Anaconda3\\lib\\site-packages\\pandas\\io\\parsers\\readers.py:680\u001b[0m, in \u001b[0;36mread_csv\u001b[1;34m(filepath_or_buffer, sep, delimiter, header, names, index_col, usecols, squeeze, prefix, mangle_dupe_cols, dtype, engine, converters, true_values, false_values, skipinitialspace, skiprows, skipfooter, nrows, na_values, keep_default_na, na_filter, verbose, skip_blank_lines, parse_dates, infer_datetime_format, keep_date_col, date_parser, dayfirst, cache_dates, iterator, chunksize, compression, thousands, decimal, lineterminator, quotechar, quoting, doublequote, escapechar, comment, encoding, encoding_errors, dialect, error_bad_lines, warn_bad_lines, on_bad_lines, delim_whitespace, low_memory, memory_map, float_precision, storage_options)\u001b[0m\n\u001b[0;32m    665\u001b[0m kwds_defaults \u001b[38;5;241m=\u001b[39m _refine_defaults_read(\n\u001b[0;32m    666\u001b[0m     dialect,\n\u001b[0;32m    667\u001b[0m     delimiter,\n\u001b[1;32m   (...)\u001b[0m\n\u001b[0;32m    676\u001b[0m     defaults\u001b[38;5;241m=\u001b[39m{\u001b[38;5;124m\"\u001b[39m\u001b[38;5;124mdelimiter\u001b[39m\u001b[38;5;124m\"\u001b[39m: \u001b[38;5;124m\"\u001b[39m\u001b[38;5;124m,\u001b[39m\u001b[38;5;124m\"\u001b[39m},\n\u001b[0;32m    677\u001b[0m )\n\u001b[0;32m    678\u001b[0m kwds\u001b[38;5;241m.\u001b[39mupdate(kwds_defaults)\n\u001b[1;32m--> 680\u001b[0m \u001b[38;5;28;01mreturn\u001b[39;00m \u001b[43m_read\u001b[49m\u001b[43m(\u001b[49m\u001b[43mfilepath_or_buffer\u001b[49m\u001b[43m,\u001b[49m\u001b[43m \u001b[49m\u001b[43mkwds\u001b[49m\u001b[43m)\u001b[49m\n",
      "File \u001b[1;32mC:\\ProgramData\\Anaconda3\\lib\\site-packages\\pandas\\io\\parsers\\readers.py:575\u001b[0m, in \u001b[0;36m_read\u001b[1;34m(filepath_or_buffer, kwds)\u001b[0m\n\u001b[0;32m    572\u001b[0m _validate_names(kwds\u001b[38;5;241m.\u001b[39mget(\u001b[38;5;124m\"\u001b[39m\u001b[38;5;124mnames\u001b[39m\u001b[38;5;124m\"\u001b[39m, \u001b[38;5;28;01mNone\u001b[39;00m))\n\u001b[0;32m    574\u001b[0m \u001b[38;5;66;03m# Create the parser.\u001b[39;00m\n\u001b[1;32m--> 575\u001b[0m parser \u001b[38;5;241m=\u001b[39m TextFileReader(filepath_or_buffer, \u001b[38;5;241m*\u001b[39m\u001b[38;5;241m*\u001b[39mkwds)\n\u001b[0;32m    577\u001b[0m \u001b[38;5;28;01mif\u001b[39;00m chunksize \u001b[38;5;129;01mor\u001b[39;00m iterator:\n\u001b[0;32m    578\u001b[0m     \u001b[38;5;28;01mreturn\u001b[39;00m parser\n",
      "File \u001b[1;32mC:\\ProgramData\\Anaconda3\\lib\\site-packages\\pandas\\io\\parsers\\readers.py:933\u001b[0m, in \u001b[0;36mTextFileReader.__init__\u001b[1;34m(self, f, engine, **kwds)\u001b[0m\n\u001b[0;32m    930\u001b[0m     \u001b[38;5;28mself\u001b[39m\u001b[38;5;241m.\u001b[39moptions[\u001b[38;5;124m\"\u001b[39m\u001b[38;5;124mhas_index_names\u001b[39m\u001b[38;5;124m\"\u001b[39m] \u001b[38;5;241m=\u001b[39m kwds[\u001b[38;5;124m\"\u001b[39m\u001b[38;5;124mhas_index_names\u001b[39m\u001b[38;5;124m\"\u001b[39m]\n\u001b[0;32m    932\u001b[0m \u001b[38;5;28mself\u001b[39m\u001b[38;5;241m.\u001b[39mhandles: IOHandles \u001b[38;5;241m|\u001b[39m \u001b[38;5;28;01mNone\u001b[39;00m \u001b[38;5;241m=\u001b[39m \u001b[38;5;28;01mNone\u001b[39;00m\n\u001b[1;32m--> 933\u001b[0m \u001b[38;5;28mself\u001b[39m\u001b[38;5;241m.\u001b[39m_engine \u001b[38;5;241m=\u001b[39m \u001b[38;5;28;43mself\u001b[39;49m\u001b[38;5;241;43m.\u001b[39;49m\u001b[43m_make_engine\u001b[49m\u001b[43m(\u001b[49m\u001b[43mf\u001b[49m\u001b[43m,\u001b[49m\u001b[43m \u001b[49m\u001b[38;5;28;43mself\u001b[39;49m\u001b[38;5;241;43m.\u001b[39;49m\u001b[43mengine\u001b[49m\u001b[43m)\u001b[49m\n",
      "File \u001b[1;32mC:\\ProgramData\\Anaconda3\\lib\\site-packages\\pandas\\io\\parsers\\readers.py:1217\u001b[0m, in \u001b[0;36mTextFileReader._make_engine\u001b[1;34m(self, f, engine)\u001b[0m\n\u001b[0;32m   1213\u001b[0m     mode \u001b[38;5;241m=\u001b[39m \u001b[38;5;124m\"\u001b[39m\u001b[38;5;124mrb\u001b[39m\u001b[38;5;124m\"\u001b[39m\n\u001b[0;32m   1214\u001b[0m \u001b[38;5;66;03m# error: No overload variant of \"get_handle\" matches argument types\u001b[39;00m\n\u001b[0;32m   1215\u001b[0m \u001b[38;5;66;03m# \"Union[str, PathLike[str], ReadCsvBuffer[bytes], ReadCsvBuffer[str]]\"\u001b[39;00m\n\u001b[0;32m   1216\u001b[0m \u001b[38;5;66;03m# , \"str\", \"bool\", \"Any\", \"Any\", \"Any\", \"Any\", \"Any\"\u001b[39;00m\n\u001b[1;32m-> 1217\u001b[0m \u001b[38;5;28mself\u001b[39m\u001b[38;5;241m.\u001b[39mhandles \u001b[38;5;241m=\u001b[39m \u001b[43mget_handle\u001b[49m\u001b[43m(\u001b[49m\u001b[43m  \u001b[49m\u001b[38;5;66;43;03m# type: ignore[call-overload]\u001b[39;49;00m\n\u001b[0;32m   1218\u001b[0m \u001b[43m    \u001b[49m\u001b[43mf\u001b[49m\u001b[43m,\u001b[49m\n\u001b[0;32m   1219\u001b[0m \u001b[43m    \u001b[49m\u001b[43mmode\u001b[49m\u001b[43m,\u001b[49m\n\u001b[0;32m   1220\u001b[0m \u001b[43m    \u001b[49m\u001b[43mencoding\u001b[49m\u001b[38;5;241;43m=\u001b[39;49m\u001b[38;5;28;43mself\u001b[39;49m\u001b[38;5;241;43m.\u001b[39;49m\u001b[43moptions\u001b[49m\u001b[38;5;241;43m.\u001b[39;49m\u001b[43mget\u001b[49m\u001b[43m(\u001b[49m\u001b[38;5;124;43m\"\u001b[39;49m\u001b[38;5;124;43mencoding\u001b[39;49m\u001b[38;5;124;43m\"\u001b[39;49m\u001b[43m,\u001b[49m\u001b[43m \u001b[49m\u001b[38;5;28;43;01mNone\u001b[39;49;00m\u001b[43m)\u001b[49m\u001b[43m,\u001b[49m\n\u001b[0;32m   1221\u001b[0m \u001b[43m    \u001b[49m\u001b[43mcompression\u001b[49m\u001b[38;5;241;43m=\u001b[39;49m\u001b[38;5;28;43mself\u001b[39;49m\u001b[38;5;241;43m.\u001b[39;49m\u001b[43moptions\u001b[49m\u001b[38;5;241;43m.\u001b[39;49m\u001b[43mget\u001b[49m\u001b[43m(\u001b[49m\u001b[38;5;124;43m\"\u001b[39;49m\u001b[38;5;124;43mcompression\u001b[39;49m\u001b[38;5;124;43m\"\u001b[39;49m\u001b[43m,\u001b[49m\u001b[43m \u001b[49m\u001b[38;5;28;43;01mNone\u001b[39;49;00m\u001b[43m)\u001b[49m\u001b[43m,\u001b[49m\n\u001b[0;32m   1222\u001b[0m \u001b[43m    \u001b[49m\u001b[43mmemory_map\u001b[49m\u001b[38;5;241;43m=\u001b[39;49m\u001b[38;5;28;43mself\u001b[39;49m\u001b[38;5;241;43m.\u001b[39;49m\u001b[43moptions\u001b[49m\u001b[38;5;241;43m.\u001b[39;49m\u001b[43mget\u001b[49m\u001b[43m(\u001b[49m\u001b[38;5;124;43m\"\u001b[39;49m\u001b[38;5;124;43mmemory_map\u001b[39;49m\u001b[38;5;124;43m\"\u001b[39;49m\u001b[43m,\u001b[49m\u001b[43m \u001b[49m\u001b[38;5;28;43;01mFalse\u001b[39;49;00m\u001b[43m)\u001b[49m\u001b[43m,\u001b[49m\n\u001b[0;32m   1223\u001b[0m \u001b[43m    \u001b[49m\u001b[43mis_text\u001b[49m\u001b[38;5;241;43m=\u001b[39;49m\u001b[43mis_text\u001b[49m\u001b[43m,\u001b[49m\n\u001b[0;32m   1224\u001b[0m \u001b[43m    \u001b[49m\u001b[43merrors\u001b[49m\u001b[38;5;241;43m=\u001b[39;49m\u001b[38;5;28;43mself\u001b[39;49m\u001b[38;5;241;43m.\u001b[39;49m\u001b[43moptions\u001b[49m\u001b[38;5;241;43m.\u001b[39;49m\u001b[43mget\u001b[49m\u001b[43m(\u001b[49m\u001b[38;5;124;43m\"\u001b[39;49m\u001b[38;5;124;43mencoding_errors\u001b[39;49m\u001b[38;5;124;43m\"\u001b[39;49m\u001b[43m,\u001b[49m\u001b[43m \u001b[49m\u001b[38;5;124;43m\"\u001b[39;49m\u001b[38;5;124;43mstrict\u001b[39;49m\u001b[38;5;124;43m\"\u001b[39;49m\u001b[43m)\u001b[49m\u001b[43m,\u001b[49m\n\u001b[0;32m   1225\u001b[0m \u001b[43m    \u001b[49m\u001b[43mstorage_options\u001b[49m\u001b[38;5;241;43m=\u001b[39;49m\u001b[38;5;28;43mself\u001b[39;49m\u001b[38;5;241;43m.\u001b[39;49m\u001b[43moptions\u001b[49m\u001b[38;5;241;43m.\u001b[39;49m\u001b[43mget\u001b[49m\u001b[43m(\u001b[49m\u001b[38;5;124;43m\"\u001b[39;49m\u001b[38;5;124;43mstorage_options\u001b[39;49m\u001b[38;5;124;43m\"\u001b[39;49m\u001b[43m,\u001b[49m\u001b[43m \u001b[49m\u001b[38;5;28;43;01mNone\u001b[39;49;00m\u001b[43m)\u001b[49m\u001b[43m,\u001b[49m\n\u001b[0;32m   1226\u001b[0m \u001b[43m\u001b[49m\u001b[43m)\u001b[49m\n\u001b[0;32m   1227\u001b[0m \u001b[38;5;28;01massert\u001b[39;00m \u001b[38;5;28mself\u001b[39m\u001b[38;5;241m.\u001b[39mhandles \u001b[38;5;129;01mis\u001b[39;00m \u001b[38;5;129;01mnot\u001b[39;00m \u001b[38;5;28;01mNone\u001b[39;00m\n\u001b[0;32m   1228\u001b[0m f \u001b[38;5;241m=\u001b[39m \u001b[38;5;28mself\u001b[39m\u001b[38;5;241m.\u001b[39mhandles\u001b[38;5;241m.\u001b[39mhandle\n",
      "File \u001b[1;32mC:\\ProgramData\\Anaconda3\\lib\\site-packages\\pandas\\io\\common.py:789\u001b[0m, in \u001b[0;36mget_handle\u001b[1;34m(path_or_buf, mode, encoding, compression, memory_map, is_text, errors, storage_options)\u001b[0m\n\u001b[0;32m    784\u001b[0m \u001b[38;5;28;01melif\u001b[39;00m \u001b[38;5;28misinstance\u001b[39m(handle, \u001b[38;5;28mstr\u001b[39m):\n\u001b[0;32m    785\u001b[0m     \u001b[38;5;66;03m# Check whether the filename is to be opened in binary mode.\u001b[39;00m\n\u001b[0;32m    786\u001b[0m     \u001b[38;5;66;03m# Binary mode does not support 'encoding' and 'newline'.\u001b[39;00m\n\u001b[0;32m    787\u001b[0m     \u001b[38;5;28;01mif\u001b[39;00m ioargs\u001b[38;5;241m.\u001b[39mencoding \u001b[38;5;129;01mand\u001b[39;00m \u001b[38;5;124m\"\u001b[39m\u001b[38;5;124mb\u001b[39m\u001b[38;5;124m\"\u001b[39m \u001b[38;5;129;01mnot\u001b[39;00m \u001b[38;5;129;01min\u001b[39;00m ioargs\u001b[38;5;241m.\u001b[39mmode:\n\u001b[0;32m    788\u001b[0m         \u001b[38;5;66;03m# Encoding\u001b[39;00m\n\u001b[1;32m--> 789\u001b[0m         handle \u001b[38;5;241m=\u001b[39m \u001b[38;5;28;43mopen\u001b[39;49m\u001b[43m(\u001b[49m\n\u001b[0;32m    790\u001b[0m \u001b[43m            \u001b[49m\u001b[43mhandle\u001b[49m\u001b[43m,\u001b[49m\n\u001b[0;32m    791\u001b[0m \u001b[43m            \u001b[49m\u001b[43mioargs\u001b[49m\u001b[38;5;241;43m.\u001b[39;49m\u001b[43mmode\u001b[49m\u001b[43m,\u001b[49m\n\u001b[0;32m    792\u001b[0m \u001b[43m            \u001b[49m\u001b[43mencoding\u001b[49m\u001b[38;5;241;43m=\u001b[39;49m\u001b[43mioargs\u001b[49m\u001b[38;5;241;43m.\u001b[39;49m\u001b[43mencoding\u001b[49m\u001b[43m,\u001b[49m\n\u001b[0;32m    793\u001b[0m \u001b[43m            \u001b[49m\u001b[43merrors\u001b[49m\u001b[38;5;241;43m=\u001b[39;49m\u001b[43merrors\u001b[49m\u001b[43m,\u001b[49m\n\u001b[0;32m    794\u001b[0m \u001b[43m            \u001b[49m\u001b[43mnewline\u001b[49m\u001b[38;5;241;43m=\u001b[39;49m\u001b[38;5;124;43m\"\u001b[39;49m\u001b[38;5;124;43m\"\u001b[39;49m\u001b[43m,\u001b[49m\n\u001b[0;32m    795\u001b[0m \u001b[43m        \u001b[49m\u001b[43m)\u001b[49m\n\u001b[0;32m    796\u001b[0m     \u001b[38;5;28;01melse\u001b[39;00m:\n\u001b[0;32m    797\u001b[0m         \u001b[38;5;66;03m# Binary mode\u001b[39;00m\n\u001b[0;32m    798\u001b[0m         handle \u001b[38;5;241m=\u001b[39m \u001b[38;5;28mopen\u001b[39m(handle, ioargs\u001b[38;5;241m.\u001b[39mmode)\n",
      "\u001b[1;31mFileNotFoundError\u001b[0m: [Errno 2] No such file or directory: 'listings_202203_detailed.csv'"
     ]
    }
   ],
   "source": [
    "df1_d = pd.read_csv('listings_202203_detailed.csv')\n",
    "df1_d=df1_d[selected_fields]\n",
    "\n",
    "df2_d = pd.read_csv('listings_202206_detailed.csv')\n",
    "df2_d=df2_d[selected_fields]\n",
    "\n",
    "df3_d = pd.read_csv('listings_202109_detailed.csv')\n",
    "df3_d=df3_d[selected_fields]\n",
    "\n",
    "df4_d = pd.read_csv('listings_202112_detailed.csv')\n",
    "df4_d=df4_d[selected_fields]\n"
   ]
  },
  {
   "cell_type": "code",
   "execution_count": null,
   "metadata": {},
   "outputs": [],
   "source": [
    "def merge_d(d1, d2):\n",
    "    \n",
    "    return d1.merge(d2,how='left', left_on='id', right_on='id')\n"
   ]
  },
  {
   "cell_type": "code",
   "execution_count": null,
   "metadata": {},
   "outputs": [],
   "source": [
    "df1_m=merge_d(df1, df1_d)\n",
    "df2_m=merge_d(df2, df2_d)\n",
    "df3_m=merge_d(df3, df3_d)\n",
    "df4_m=merge_d(df4, df4_d)"
   ]
  },
  {
   "cell_type": "code",
   "execution_count": null,
   "metadata": {},
   "outputs": [],
   "source": [
    "df1_m.head()"
   ]
  },
  {
   "cell_type": "code",
   "execution_count": null,
   "metadata": {},
   "outputs": [],
   "source": [
    "nyc_data_c=pd.concat([df1_m, df2_m, df3_m, df4_m])"
   ]
  },
  {
   "cell_type": "code",
   "execution_count": null,
   "metadata": {},
   "outputs": [],
   "source": [
    "nyc_data_c['price_log'] = np.log(nyc_data_c.price+1)"
   ]
  },
  {
   "cell_type": "code",
   "execution_count": null,
   "metadata": {},
   "outputs": [],
   "source": [
    "nyc_data_c = nyc_data_c.drop(columns=['name','id' ,'host_id','host_name','last_review','price','license'])\n"
   ]
  },
  {
   "cell_type": "code",
   "execution_count": null,
   "metadata": {},
   "outputs": [],
   "source": [
    "nyc_data_c['reviews_per_month'].fillna(nyc_data_c['reviews_per_month'].mean(), inplace=True)\n",
    "nyc_data_c.fillna({'host_is_superhost':'f', 'host_has_profile_pic': 'f', 'host_identity_verified': 'f'}, inplace=True)\n"
   ]
  },
  {
   "cell_type": "code",
   "execution_count": null,
   "metadata": {},
   "outputs": [],
   "source": [
    "nyc_data_c.isnull().sum()"
   ]
  },
  {
   "cell_type": "code",
   "execution_count": null,
   "metadata": {},
   "outputs": [],
   "source": [
    "nyc_data_c.head()"
   ]
  },
  {
   "cell_type": "code",
   "execution_count": null,
   "metadata": {},
   "outputs": [],
   "source": [
    "plt.figure(figsize=(15,15))\n",
    "corr=nyc_data_c.corr(method='pearson')\n",
    "ax = sns.heatmap(corr,annot=True)"
   ]
  },
  {
   "cell_type": "code",
   "execution_count": null,
   "metadata": {},
   "outputs": [],
   "source": [
    "#drop highly correlated columns\n",
    "nyc_data_c = nyc_data_c.drop(columns=['availability_60','availability_90' ,'availability_365','property_type'])"
   ]
  },
  {
   "cell_type": "code",
   "execution_count": null,
   "metadata": {},
   "outputs": [],
   "source": [
    "#convert category data into series\n",
    "nyc_data_c['neighbourhood_group']= nyc_data_c['neighbourhood_group'].astype(\"category\").cat.codes\n",
    "nyc_data_c['neighbourhood'] = nyc_data_c['neighbourhood'].astype(\"category\").cat.codes\n",
    "nyc_data_c['room_type'] = nyc_data_c['room_type'].astype(\"category\").cat.codes\n",
    "#nyc_data_c['property_type'] = nyc_data_c['property_type'].astype(\"category\").cat.codes\n",
    "nyc_data_c['host_is_superhost'] = nyc_data_c['host_is_superhost'].astype(\"category\").cat.codes\n",
    "nyc_data_c['host_has_profile_pic'] = nyc_data_c['host_has_profile_pic'].astype(\"category\").cat.codes\n",
    "nyc_data_c['host_identity_verified'] = nyc_data_c['host_identity_verified'].astype(\"category\").cat.codes\n",
    "nyc_data_c['instant_bookable'] = nyc_data_c['instant_bookable'].astype(\"category\").cat.codes\n",
    "nyc_data_c.head()"
   ]
  },
  {
   "cell_type": "code",
   "execution_count": null,
   "metadata": {},
   "outputs": [],
   "source": [
    "X= nyc_data_c.iloc[:,:-1]\n",
    "y=nyc_data_c.iloc[:,-1]"
   ]
  },
  {
   "cell_type": "code",
   "execution_count": null,
   "metadata": {},
   "outputs": [],
   "source": [
    "X"
   ]
  },
  {
   "cell_type": "code",
   "execution_count": null,
   "metadata": {},
   "outputs": [],
   "source": [
    "y"
   ]
  },
  {
   "cell_type": "code",
   "execution_count": null,
   "metadata": {},
   "outputs": [],
   "source": [
    "scaler = StandardScaler()\n",
    "X_t = scaler.fit_transform(X)"
   ]
  },
  {
   "cell_type": "code",
   "execution_count": null,
   "metadata": {},
   "outputs": [],
   "source": [
    "X_train,X_test,y_train,y_test = train_test_split(X_t,y,test_size=0.2, random_state=42)"
   ]
  },
  {
   "cell_type": "code",
   "execution_count": null,
   "metadata": {},
   "outputs": [],
   "source": [
    "## liner regression\n",
    "lin_reg = LinearRegression(normalize=True)\n",
    "lin_reg.fit(X_train,y_train)"
   ]
  },
  {
   "cell_type": "markdown",
   "metadata": {},
   "source": [
    "coeff_df_lr = pd.DataFrame(lin_reg.coef_, X.columns, columns=['Coefficient']).sort_values(by=['Coefficient'],ascending=False)\n",
    "coeff_df_lr"
   ]
  },
  {
   "cell_type": "code",
   "execution_count": null,
   "metadata": {},
   "outputs": [],
   "source": [
    "pred_lr = lin_reg.predict(X_test)"
   ]
  },
  {
   "cell_type": "code",
   "execution_count": null,
   "metadata": {},
   "outputs": [],
   "source": [
    "coeff_df_lr = pd.DataFrame(lin_reg.coef_, X.columns, columns=['Coefficient']).sort_values(by=['Coefficient'],ascending=False)\n",
    "coeff_df_lr"
   ]
  },
  {
   "cell_type": "code",
   "execution_count": null,
   "metadata": {},
   "outputs": [],
   "source": [
    "pd.DataFrame({'Price': y_test, 'PredictedPrice': pred_lr}).plot.scatter(x='Price', y='PredictedPrice')"
   ]
  },
  {
   "cell_type": "code",
   "execution_count": null,
   "metadata": {},
   "outputs": [],
   "source": []
  },
  {
   "cell_type": "code",
   "execution_count": null,
   "metadata": {},
   "outputs": [],
   "source": [
    "#Lasso Regression \n",
    "lasso = Lasso()\n",
    "grid = { \n",
    "    'alpha': np.array([1,0.1,0.01,0.001,0.0001,0])\n",
    "}\n",
    "CV_lasso = GridSearchCV(estimator=lasso, scoring='neg_mean_squared_error', param_grid=grid, cv= 5)\n",
    "CV_lasso.fit(X_train, y_train)\n",
    "CV_lasso.best_params_"
   ]
  },
  {
   "cell_type": "code",
   "execution_count": null,
   "metadata": {},
   "outputs": [],
   "source": [
    "# Ridge Regression\n",
    "ridge = Ridge()\n",
    "grid = { \n",
    "    'alpha': np.array([1,0.1,0.01,0.001,0.0001,0])\n",
    "}\n",
    "CV_ridge = GridSearchCV(estimator=ridge, scoring='neg_mean_squared_error',param_grid=grid, cv= 5)\n",
    "CV_ridge.fit(X_train, y_train)\n",
    "CV_ridge.best_params_"
   ]
  },
  {
   "cell_type": "code",
   "execution_count": null,
   "metadata": {},
   "outputs": [],
   "source": [
    "#random forest\n",
    "grid = { \n",
    "    'max_depth' : [3,4,5,6,7]\n",
    "}\n",
    "## show start time\n",
    "\n",
    "## Grid Search function\n",
    "CV_rfr = GridSearchCV(estimator=RandomForestRegressor(), param_grid=grid, cv= 5)\n",
    "CV_rfr.fit(X_train, y_train)\n",
    "CV_rfr.best_params_"
   ]
  },
  {
   "cell_type": "code",
   "execution_count": null,
   "metadata": {},
   "outputs": [],
   "source": [
    "#prediction\n",
    "\n",
    "##Linear Regression\n",
    "lin_reg = LinearRegression(normalize = True)\n",
    "lin_reg.fit(X_train, y_train)\n",
    "lr_pred_train= lin_reg.predict(X_train)\n",
    "lr_pred_test= lin_reg.predict(X_test)\n",
    "\n",
    "#Lasso \n",
    "lasso = Lasso(alpha = 0)\n",
    "lasso.fit(X_train, y_train)\n",
    "lasso_pred_train= lasso.predict(X_train)\n",
    "lasso_pred_test = lasso.predict(X_test) \n",
    "\n",
    "#Ridge \n",
    "ridge = Ridge(alpha = 1)\n",
    "ridge.fit(X_train, y_train)  \n",
    "ridge_pred_train= ridge.predict(X_train)\n",
    "ridge_pred_test = ridge.predict(X_test) \n",
    "\n",
    "#Random Forest\n",
    "rdf = RandomForestRegressor(max_depth=7)\n",
    "rdf.fit(X_train, y_train) \n",
    "rdf_pred_train= rdf.predict(X_train)\n",
    "rdf_pred_test = rdf.predict(X_test) "
   ]
  },
  {
   "cell_type": "code",
   "execution_count": null,
   "metadata": {},
   "outputs": [],
   "source": [
    "important_features_dict = {}\n",
    "for idx, val in enumerate(rdf.feature_importances_):\n",
    "    important_features_dict[idx] = val\n",
    "\n",
    "important_features_list = sorted(important_features_dict,\n",
    "                                 key=important_features_dict.get,\n",
    "                                 reverse=True)\n",
    "for i in important_features_list:\n",
    "    print(i,X.columns[i],important_features_dict[i])"
   ]
  },
  {
   "cell_type": "code",
   "execution_count": null,
   "metadata": {},
   "outputs": [],
   "source": [
    "def print_evaluate(Model, tt, Price, PredictedPrice):  \n",
    "    mae = metrics.mean_absolute_error(Price, PredictedPrice)\n",
    "    mse = metrics.mean_squared_error(Price, PredictedPrice)\n",
    "    rmse = np.sqrt(metrics.mean_squared_error(Price, PredictedPrice))\n",
    "    r2_square = metrics.r2_score(Price, PredictedPrice)\n",
    "    print(Model+' '+tt)\n",
    "    print('MAE:', mae)\n",
    "    print('MSE:', mse)\n",
    "    print('RMSE:', rmse)\n",
    "    print('R2 Square', r2_square)\n",
    "    print('__________________________________')"
   ]
  },
  {
   "cell_type": "code",
   "execution_count": null,
   "metadata": {},
   "outputs": [],
   "source": [
    "gbr = GradientBoostingRegressor(n_estimators=2000,\n",
    "                                learning_rate=0.01,\n",
    "                                max_depth=4,\n",
    "                                max_features='sqrt',\n",
    "                                min_samples_leaf=15,\n",
    "                                min_samples_split=10,\n",
    "                                loss='huber',\n",
    "                                subsample=0.75,\n",
    "                                random_state=42)  \n",
    "gbr.fit(X_train, y_train)\n",
    "\n",
    "gbr_pred_test = gbr.predict(X_test)\n",
    "gbr_pred_train = gbr.predict(X_train)\n"
   ]
  },
  {
   "cell_type": "code",
   "execution_count": null,
   "metadata": {},
   "outputs": [],
   "source": [
    "important_features_dict = {}\n",
    "for idx, val in enumerate(gbr.feature_importances_):\n",
    "    important_features_dict[idx] = val\n",
    "\n",
    "important_features_list = sorted(important_features_dict,\n",
    "                                 key=important_features_dict.get,\n",
    "                                 reverse=True)\n",
    "for i in important_features_list:\n",
    "    print(i,X.columns[i],important_features_dict[i])"
   ]
  },
  {
   "cell_type": "code",
   "execution_count": null,
   "metadata": {},
   "outputs": [],
   "source": [
    "print_evaluate('Linear_Regression', 'test', y_test,lr_pred_test)\n",
    "print_evaluate('Linear_Regression', 'train', y_train,lr_pred_train)\n",
    "\n",
    "print_evaluate('Lasso', 'test',y_test, lasso_pred_test)\n",
    "print_evaluate('Lasso', 'train',y_train, lasso_pred_train)\n",
    "\n",
    "print_evaluate('Ridge', 'test',y_test, ridge_pred_test)\n",
    "print_evaluate('Ridge', 'train',y_train, ridge_pred_train)\n",
    "\n",
    "print_evaluate('Radnom Forest', 'test',y_test, rdf_pred_test)\n",
    "print_evaluate('Radnom Forest', 'train',y_train, rdf_pred_train)\n",
    "\n",
    "print_evaluate('grb', 'test',y_test, gbr_pred_test)\n",
    "print_evaluate('grb', 'train',y_train, gbr_pred_train)"
   ]
  },
  {
   "cell_type": "code",
   "execution_count": null,
   "metadata": {},
   "outputs": [],
   "source": [
    "pd.DataFrame({'Price': y_test, 'PredictedPrice': lr_pred_test}).plot.scatter(x='Price', y='PredictedPrice')"
   ]
  },
  {
   "cell_type": "code",
   "execution_count": null,
   "metadata": {},
   "outputs": [],
   "source": [
    "pd.DataFrame({'Price': y_test, 'PredictedPrice': lasso_pred_test}).plot.scatter(x='Price', y='PredictedPrice')"
   ]
  },
  {
   "cell_type": "code",
   "execution_count": null,
   "metadata": {},
   "outputs": [],
   "source": [
    "pd.DataFrame({'Price': y_test, 'PredictedPrice': ridge_pred_test}).plot.scatter(x='Price', y='PredictedPrice')"
   ]
  },
  {
   "cell_type": "code",
   "execution_count": null,
   "metadata": {},
   "outputs": [],
   "source": [
    "pd.DataFrame({'Price': y_test, 'PredictedPrice': rdf_pred_test}).plot.scatter(x='Price', y='PredictedPrice')"
   ]
  },
  {
   "cell_type": "code",
   "execution_count": null,
   "metadata": {},
   "outputs": [],
   "source": [
    "pd.DataFrame({'Price': y_test, 'PredictedPrice': gbr_pred_test}).plot.scatter(x='Price', y='PredictedPrice')"
   ]
  },
  {
   "cell_type": "code",
   "execution_count": null,
   "metadata": {},
   "outputs": [],
   "source": []
  }
 ],
 "metadata": {
  "kernelspec": {
   "display_name": "Python 3 (ipykernel)",
   "language": "python",
   "name": "python3"
  },
  "language_info": {
   "codemirror_mode": {
    "name": "ipython",
    "version": 3
   },
   "file_extension": ".py",
   "mimetype": "text/x-python",
   "name": "python",
   "nbconvert_exporter": "python",
   "pygments_lexer": "ipython3",
   "version": "3.9.12"
  }
 },
 "nbformat": 4,
 "nbformat_minor": 4
}
