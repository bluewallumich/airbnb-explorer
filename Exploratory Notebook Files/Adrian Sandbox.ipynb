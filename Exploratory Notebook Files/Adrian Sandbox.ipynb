{
 "cells": [
  {
   "cell_type": "code",
   "execution_count": 9,
   "id": "e216f5d1",
   "metadata": {},
   "outputs": [],
   "source": [
    "tv_list = [[\"TV\",\"water\",\"Gas TV with\",\"wifi\"], [\"HDTV\",\"shower\"],[\"50//TV\",'sauna'],\n",
    "               [\"TV with Roku\",\"a bunch of stuff\"],[\"Cable TV\",\"TV\"],[\"suana\",\"bathtub\",\"Direct TV\",\"couch\",\"spinach\",\"tv\"]]"
   ]
  },
  {
   "cell_type": "code",
   "execution_count": 10,
   "id": "1d14944e",
   "metadata": {},
   "outputs": [
    {
     "data": {
      "text/plain": [
       "[['TV', 'water', 'Gas TV with', 'wifi'],\n",
       " ['HDTV', 'shower'],\n",
       " ['50//TV', 'sauna'],\n",
       " ['TV with Roku', 'a bunch of stuff'],\n",
       " ['Cable TV', 'TV'],\n",
       " ['suana', 'bathtub', 'Direct TV', 'couch', 'spinach', 'tv']]"
      ]
     },
     "execution_count": 10,
     "metadata": {},
     "output_type": "execute_result"
    }
   ],
   "source": [
    "tv_list"
   ]
  },
  {
   "cell_type": "code",
   "execution_count": 11,
   "id": "d5c84a41",
   "metadata": {},
   "outputs": [
    {
     "name": "stdout",
     "output_type": "stream",
     "text": [
      "['TV', 'water', 'Gas TV with', 'wifi']\n",
      "['Cable TV', 'TV']\n"
     ]
    }
   ],
   "source": [
    "for element in tv_list:\n",
    "    if \"TV\" in element:\n",
    "        print(element)"
   ]
  },
  {
   "cell_type": "code",
   "execution_count": 12,
   "id": "35aa09fe",
   "metadata": {},
   "outputs": [
    {
     "name": "stdout",
     "output_type": "stream",
     "text": [
      "[['TV', 'water', 'TV', 'wifi'], ['TV', 'shower'], ['TV', 'sauna'], ['TV', 'a bunch of stuff'], ['TV', 'TV'], ['suana', 'bathtub', 'TV', 'couch', 'spinach', 'tv']]\n"
     ]
    }
   ],
   "source": [
    "for row, lst in enumerate(tv_list):\n",
    "    for col, item in enumerate(lst):\n",
    "        if 'TV' in item:\n",
    "            tv_list[row][col] = 'TV'\n",
    "print(tv_list)"
   ]
  },
  {
   "cell_type": "code",
   "execution_count": null,
   "id": "702a8521",
   "metadata": {},
   "outputs": [],
   "source": []
  }
 ],
 "metadata": {
  "kernelspec": {
   "display_name": "Python 3 (ipykernel)",
   "language": "python",
   "name": "python3"
  },
  "language_info": {
   "codemirror_mode": {
    "name": "ipython",
    "version": 3
   },
   "file_extension": ".py",
   "mimetype": "text/x-python",
   "name": "python",
   "nbconvert_exporter": "python",
   "pygments_lexer": "ipython3",
   "version": "3.9.12"
  }
 },
 "nbformat": 4,
 "nbformat_minor": 5
}
